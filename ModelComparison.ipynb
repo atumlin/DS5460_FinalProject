{
 "cells": [
  {
   "cell_type": "markdown",
   "metadata": {},
   "source": [
    "### Model Testing \n",
    "Author: Anne Tumlin\n",
    "\n",
    "Date: 04/10/25 \n",
    "\n",
    "Let's compare this problem across various types of models and evaluate the performance. "
   ]
  },
  {
   "cell_type": "code",
   "execution_count": 2,
   "metadata": {},
   "outputs": [],
   "source": [
    "import os\n",
    "import subprocess\n",
    "import time\n",
    "from pyspark.sql import SparkSession\n",
    "import pyspark.sql.functions as F\n",
    "from pyspark.sql.functions import col, explode, input_file_name, expr, sum as spark_sum, avg, count\n",
    "\n",
    "spark = SparkSession.builder \\\n",
    "    .appName(\"app_name\") \\\n",
    "    .getOrCreate()"
   ]
  },
  {
   "cell_type": "markdown",
   "metadata": {},
   "source": [
    "Here we are going to load in our saved parquet file of the final dataset we are using for the prediction task. If you do not have this saved, go to Mileston3 and run the notebook to aquire this dataset. \n",
    "\n",
    "*Important note: make sure to change to your bucket name here.* "
   ]
  },
  {
   "cell_type": "code",
   "execution_count": 5,
   "metadata": {},
   "outputs": [],
   "source": [
    "# Set the bucket name (user can change this line)\n",
    "bucket_name = \"ds5460-tumlinam-fp-bucket\"\n",
    "\n",
    "data_path = f\"gs://{bucket_name}/final_datasets/combined_features_df/\""
   ]
  },
  {
   "cell_type": "code",
   "execution_count": 24,
   "metadata": {},
   "outputs": [
    {
     "name": "stdout",
     "output_type": "stream",
     "text": [
      "+--------------------+------------------+------------------+------------------+-------------------+-------------------+------------------+------------------+------------------+------------------+--------------------+-----------------+-------------------+------------------+\n",
      "|            filename|        total_cost|            avg_pd|       pd_per_load|     reactive_ratio|             std_pd|  load_variability|          pd_range|        load_range|            max_pd|  load_concentration|        load_skew|  generation_margin| load_to_gen_ratio|\n",
      "+--------------------+------------------+------------------+------------------+-------------------+-------------------+------------------+------------------+------------------+------------------+--------------------+-----------------+-------------------+------------------+\n",
      "|gs://ds5460-tumli...| 457017.6915453811|0.6337165224374126|0.6337165224374126|0.25578066583740294| 0.3907887552662506| 0.616661774515822| 2.895855111560307| 2.895855111560307| 2.896857380754912|0.016267685367389092|4.571219588236335|-23.925897804912978| 1.155213358168569|\n",
      "|gs://ds5460-tumli...|454991.87287162687|0.6325766589301287|0.6325766589301287| 0.2597953969267807| 0.3769497004199716| 0.595895683311337| 2.439824554322636| 2.439824554322636|2.4408215248119336| 0.01373145447997778|3.858538708873757|  -23.6055961593662|1.1531354802791958|\n",
      "|gs://ds5460-tumli...|448851.02127889916|0.6279270372423682|0.6279270372423682|0.25605530170037727|0.38998201708561286|0.6210626298212527| 3.497348357174466| 3.497348357174466|3.4982363179582276|0.019825933312826068|5.571087260904125| -22.29905246510549|1.1446596004591905|\n",
      "|gs://ds5460-tumli...|463761.24465372495| 0.638726648998766| 0.638726648998766| 0.2558146877696568|0.40297628147399805| 0.630905696678982|3.4845319645432706|3.4845319645432706|3.4854577382705543|0.019419518838891613|5.456884793728543|-25.333743368653245|1.1643464088700555|\n",
      "|gs://ds5460-tumli...| 440065.6724156548|0.6209550834984927|0.6209550834984927| 0.2661209310004867| 0.3690136284391097|0.5942678274893379|2.7043174292081553|2.7043174292081553| 2.705264590790738|0.015503981495038078|  4.3566188001057|-20.339933463076477| 1.131950299356419|\n",
      "+--------------------+------------------+------------------+------------------+-------------------+-------------------+------------------+------------------+------------------+------------------+--------------------+-----------------+-------------------+------------------+\n",
      "only showing top 5 rows\n",
      "\n"
     ]
    }
   ],
   "source": [
    "df = spark.read.parquet(data_path)\n",
    "df.show(5)"
   ]
  },
  {
   "cell_type": "markdown",
   "metadata": {},
   "source": [
    "### Simple Model Comparisons \n",
    "\n",
    "Let's set up the code to test various simple models. "
   ]
  },
  {
   "cell_type": "code",
   "execution_count": 21,
   "metadata": {},
   "outputs": [],
   "source": [
    "from pyspark.ml.feature import VectorAssembler\n",
    "from pyspark.ml.regression import LinearRegression, DecisionTreeRegressor, RandomForestRegressor, GBTRegressor\n",
    "from pyspark.ml.evaluation import RegressionEvaluator\n",
    "from pyspark.ml.tuning import ParamGridBuilder, CrossValidator\n",
    "from pyspark.sql.functions import col\n",
    "import time"
   ]
  },
  {
   "cell_type": "code",
   "execution_count": 13,
   "metadata": {},
   "outputs": [],
   "source": [
    "feature_cols = [c for c in df.columns if c != \"filename\" and c != \"total_cost\"]\n",
    "\n",
    "assembler = VectorAssembler(inputCols=feature_cols, outputCol=\"features\")\n",
    "df_vector = assembler.transform(df).select(\"features\", col(\"total_cost\").alias(\"label\"))"
   ]
  },
  {
   "cell_type": "code",
   "execution_count": 14,
   "metadata": {},
   "outputs": [],
   "source": [
    "train_data, test_data = df_vector.randomSplit([0.8, 0.2], seed=42)"
   ]
  },
  {
   "cell_type": "code",
   "execution_count": 15,
   "metadata": {},
   "outputs": [],
   "source": [
    "evaluator = RegressionEvaluator(labelCol=\"label\", predictionCol=\"prediction\")\n",
    "\n",
    "# Models to test\n",
    "models = [\n",
    "    (LinearRegression(), \"Linear Regression\"),\n",
    "    (DecisionTreeRegressor(), \"Decision Tree\"),\n",
    "    (RandomForestRegressor(), \"Random Forest\"),\n",
    "    (GBTRegressor(), \"Gradient Boosted Trees\")\n",
    "]"
   ]
  },
  {
   "cell_type": "code",
   "execution_count": 16,
   "metadata": {},
   "outputs": [],
   "source": [
    "def train_and_evaluate_model(regressor, name):\n",
    "    start_time = time.time()\n",
    "    \n",
    "    # Train the model\n",
    "    model = regressor.fit(train_data)\n",
    "    \n",
    "    # Make predictions\n",
    "    predictions = model.transform(test_data)\n",
    "    \n",
    "    # Evaluate metrics\n",
    "    rmse = evaluator.setMetricName(\"rmse\").evaluate(predictions)\n",
    "    mae = evaluator.setMetricName(\"mae\").evaluate(predictions)\n",
    "    r2 = evaluator.setMetricName(\"r2\").evaluate(predictions)\n",
    "    \n",
    "    end_time = time.time()\n",
    "    train_time = end_time - start_time\n",
    "\n",
    "    return (name, rmse, mae, r2, train_time)"
   ]
  },
  {
   "cell_type": "code",
   "execution_count": null,
   "metadata": {},
   "outputs": [
    {
     "name": "stdout",
     "output_type": "stream",
     "text": [
      "+----------------------+------------------+------------------+------------------+-----------------+\n",
      "|Model                 |RMSE              |MAE               |R2                |TrainingTime     |\n",
      "+----------------------+------------------+------------------+------------------+-----------------+\n",
      "|Linear Regression     |287.77412801849573|225.16385899537582|0.998229821839609 |101.727698802948 |\n",
      "|Decision Tree         |699.8999269546724 |429.013258415274  |0.9895290669824389|77.06891965866089|\n",
      "|Random Forest         |593.2220765597973 |382.12375761585423|0.9924777442561689|78.0661551952362 |\n",
      "|Gradient Boosted Trees|464.04424844225764|344.3683654447017 |0.995397092223656 |71.09090065956116|\n",
      "+----------------------+------------------+------------------+------------------+-----------------+\n",
      "\n"
     ]
    }
   ],
   "source": [
    "results = [train_and_evaluate_model(m, n) for m, n in models]\n",
    "\n",
    "columns = [\"Model\", \"RMSE\", \"MAE\", \"R2\", \"TrainingTime\"]\n",
    "results_df = spark.createDataFrame(results, columns)\n",
    "\n",
    "results_df.show(truncate=False)"
   ]
  },
  {
   "cell_type": "code",
   "execution_count": 20,
   "metadata": {},
   "outputs": [
    {
     "data": {
      "image/png": "[encoded data removed]",
      "text/plain": [
       "<Figure size 720x432 with 2 Axes>"
      ]
     },
     "metadata": {
      "needs_background": "light"
     },
     "output_type": "display_data"
    }
   ],
   "source": [
    "import matplotlib.pyplot as plt\n",
    "import pandas as pd\n",
    "import numpy as np\n",
    "\n",
    "data = {\n",
    "    \"Model\": [\"Linear Regression\", \"Decision Tree\", \"Random Forest\", \"Gradient Boosted Trees\"],\n",
    "    \"RMSE\": [287.77412801849573, 699.8999269546724, 593.2220765597973, 464.04424844225764],\n",
    "    \"MAE\": [225.16385899537582, 429.013258415274, 382.12375761585423, 344.3683654447017],\n",
    "    \"R2\": [0.998229821839609, 0.9895290669824389, 0.9924777442561689, 0.995397092223656],\n",
    "    \"TrainingTime\": [101.727698802948, 77.06891965866089, 78.0661551952362, 71.09090065956116]\n",
    "}\n",
    "\n",
    "df_plot = pd.DataFrame(data)\n",
    "\n",
    "fig, ax1 = plt.subplots(figsize=(10, 6))\n",
    "\n",
    "# Bar plot for RMSE\n",
    "color = 'tab:blue'\n",
    "ax1.set_xlabel('Model')\n",
    "ax1.set_ylabel('RMSE', color=color)\n",
    "ax1.bar(df_plot[\"Model\"], df_plot[\"RMSE\"], color=color, alpha=0.6, label=\"RMSE\")\n",
    "ax1.tick_params(axis='y', labelcolor=color)\n",
    "ax1.set_ylim(0, max(df_plot[\"RMSE\"]) * 1.2)\n",
    "\n",
    "# Line plot for Training Time on second y-axis\n",
    "ax2 = ax1.twinx()\n",
    "color = 'tab:red'\n",
    "ax2.set_ylabel('Training Time (s)', color=color)\n",
    "ax2.plot(df_plot[\"Model\"], df_plot[\"TrainingTime\"], color=color, marker='o', linewidth=2, label=\"Training Time\")\n",
    "ax2.tick_params(axis='y', labelcolor=color)\n",
    "ax2.set_ylim(0, max(df_plot[\"TrainingTime\"]) * 1.5)\n",
    "\n",
    "# Title and layout\n",
    "fig.suptitle(\"Model Comparison: RMSE vs Training Time\")\n",
    "plt.show()\n"
   ]
  },
  {
   "cell_type": "markdown",
   "metadata": {},
   "source": [
    "Let's check if scaling features has any impact."
   ]
  },
  {
   "cell_type": "code",
   "execution_count": 25,
   "metadata": {},
   "outputs": [],
   "source": [
    "from pyspark.ml.feature import StandardScaler\n",
    "\n",
    "assembler = VectorAssembler(inputCols=feature_cols, outputCol=\"raw_features\")\n",
    "assembled_df = assembler.transform(df).select(\"raw_features\", col(\"total_cost\").alias(\"label\"))\n",
    "\n",
    "scaler = StandardScaler(inputCol=\"raw_features\", outputCol=\"features\", withMean=True, withStd=True)\n",
    "scaler_model = scaler.fit(assembled_df)\n",
    "scaled_df = scaler_model.transform(assembled_df).select(\"features\", \"label\")\n",
    "\n",
    "train_data, test_data = scaled_df.randomSplit([0.8, 0.2], seed=42)"
   ]
  },
  {
   "cell_type": "code",
   "execution_count": null,
   "metadata": {},
   "outputs": [
    {
     "name": "stdout",
     "output_type": "stream",
     "text": [
      "+----------------------+------------------+------------------+------------------+------------------+\n",
      "|Model                 |RMSE              |MAE               |R2                |TrainingTime      |\n",
      "+----------------------+------------------+------------------+------------------+------------------+\n",
      "|Linear Regression     |287.77421453655427|225.163897829646  |0.9982298207752158|109.97668480873108|\n",
      "|Decision Tree         |719.5715519901579 |429.56542528141347|0.9889321960992391|84.46722173690796 |\n",
      "|Random Forest         |593.2220765597973 |382.12375761585423|0.9924777442561689|99.43381118774414 |\n",
      "|Gradient Boosted Trees|467.1145427704447 |345.5068144724461 |0.9953359815257938|99.42195463180542 |\n",
      "+----------------------+------------------+------------------+------------------+------------------+\n",
      "\n"
     ]
    }
   ],
   "source": [
    "results = [train_and_evaluate_model(m, n) for m, n in models]\n",
    "\n",
    "columns = [\"Model\", \"RMSE\", \"MAE\", \"R2\", \"TrainingTime\"]\n",
    "results_df = spark.createDataFrame(results, columns)\n",
    "\n",
    "results_df.show(truncate=False)"
   ]
  },
  {
   "cell_type": "markdown",
   "metadata": {},
   "source": [
    "### More Complex Models \n",
    "\n",
    "Now that we have our results for the simple models, let's see what tuning we can do to improve results. GBT had the lowest training time and second best RMSE. Therefore, let's see if we can improve the outcome via hyperparameter tuning. "
   ]
  },
  {
   "cell_type": "code",
   "execution_count": 27,
   "metadata": {},
   "outputs": [
    {
     "ename": "ModuleNotFoundError",
     "evalue": "No module named 'xgboost'",
     "output_type": "error",
     "traceback": [
      "\u001b[0;31m---------------------------------------------------------------------------\u001b[0m",
      "\u001b[0;31mModuleNotFoundError\u001b[0m                       Traceback (most recent call last)",
      "\u001b[0;32m<ipython-input-27-aa6d780ab6f0>\u001b[0m in \u001b[0;36m<module>\u001b[0;34m\u001b[0m\n\u001b[0;32m----> 1\u001b[0;31m \u001b[0;32mfrom\u001b[0m \u001b[0mxgboost\u001b[0m\u001b[0;34m.\u001b[0m\u001b[0mspark\u001b[0m \u001b[0;32mimport\u001b[0m \u001b[0mSparkXGBRegressor\u001b[0m\u001b[0;34m\u001b[0m\u001b[0;34m\u001b[0m\u001b[0m\n\u001b[0m",
      "\u001b[0;31mModuleNotFoundError\u001b[0m: No module named 'xgboost'"
     ]
    }
   ],
   "source": [
    "--jars=gs://your-bucket/jars/xgboost4j-spark_2.12-1.7.6.jar,gs://ds5460-tumlinam-fp-bucket/jars/xgboost4j_2.12-1.7.6.jar\n"
   ]
  },
  {
   "cell_type": "code",
   "execution_count": null,
   "metadata": {},
   "outputs": [],
   "source": []
  }
 ],
 "metadata": {
  "kernelspec": {
   "display_name": "Python 3",
   "language": "python",
   "name": "python3"
  },
  "language_info": {
   "codemirror_mode": {
    "name": "ipython",
    "version": 3
   },
   "file_extension": ".py",
   "mimetype": "text/x-python",
   "name": "python",
   "nbconvert_exporter": "python",
   "pygments_lexer": "ipython3",
   "version": "3.7.4"
  }
 },
 "nbformat": 4,
 "nbformat_minor": 4
}
