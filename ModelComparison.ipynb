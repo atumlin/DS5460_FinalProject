{
 "cells": [
  {
   "cell_type": "markdown",
   "metadata": {},
   "source": [
    "### Model Testing \n",
    "Author: Anne Tumlin\n",
    "\n",
    "Date: 04/10/25 \n",
    "\n",
    "Let's compare this problem across various types of models and evaluate the performance. "
   ]
  },
  {
   "cell_type": "code",
   "execution_count": 12,
   "metadata": {},
   "outputs": [
    {
     "name": "stderr",
     "output_type": "stream",
     "text": [
      "25/04/11 05:30:03 INFO SparkEnv: Registering MapOutputTracker\n",
      "25/04/11 05:30:03 INFO SparkEnv: Registering BlockManagerMaster\n",
      "25/04/11 05:30:03 INFO SparkEnv: Registering BlockManagerMasterHeartbeat\n",
      "25/04/11 05:30:03 INFO SparkEnv: Registering OutputCommitCoordinator\n"
     ]
    }
   ],
   "source": [
    "import os\n",
    "import subprocess\n",
    "import time\n",
    "from pyspark.sql import SparkSession\n",
    "import pyspark.sql.functions as F\n",
    "from pyspark.sql.functions import col, explode, input_file_name, expr, sum as spark_sum, avg, count\n",
    "\n",
    "\n",
    "spark = (\n",
    "    SparkSession.builder\n",
    "    .config(\"spark.dynamicAllocation.enabled\", \"false\")\n",
    "    .getOrCreate()\n",
    ")"
   ]
  },
  {
   "cell_type": "markdown",
   "metadata": {},
   "source": [
    "Here we are going to load in our saved parquet file of the final dataset we are using for the prediction task. If you do not have this saved, go to Mileston3 and run the notebook to aquire this dataset. \n",
    "\n",
    "*Important note: make sure to change to your bucket name here.* "
   ]
  },
  {
   "cell_type": "code",
   "execution_count": 13,
   "metadata": {},
   "outputs": [],
   "source": [
    "# Set the bucket name (user can change this line)\n",
    "bucket_name = \"ds5460-tumlinam-fp-bucket\"\n",
    "\n",
    "data_path = f\"gs://{bucket_name}/final_datasets/combined_features_df/\""
   ]
  },
  {
   "cell_type": "code",
   "execution_count": 14,
   "metadata": {},
   "outputs": [
    {
     "name": "stderr",
     "output_type": "stream",
     "text": [
      "[Stage 1:>                                                          (0 + 1) / 1]\r"
     ]
    },
    {
     "name": "stdout",
     "output_type": "stream",
     "text": [
      "+--------------------+------------------+------------------+------------------+-------------------+-------------------+------------------+------------------+------------------+------------------+--------------------+-----------------+-------------------+------------------+\n",
      "|            filename|        total_cost|            avg_pd|       pd_per_load|     reactive_ratio|             std_pd|  load_variability|          pd_range|        load_range|            max_pd|  load_concentration|        load_skew|  generation_margin| load_to_gen_ratio|\n",
      "+--------------------+------------------+------------------+------------------+-------------------+-------------------+------------------+------------------+------------------+------------------+--------------------+-----------------+-------------------+------------------+\n",
      "|gs://ds5460-tumli...| 457017.6915453811|0.6337165224374126|0.6337165224374126|0.25578066583740294| 0.3907887552662506| 0.616661774515822| 2.895855111560307| 2.895855111560307| 2.896857380754912|0.016267685367389092|4.571219588236335|-23.925897804912978| 1.155213358168569|\n",
      "|gs://ds5460-tumli...|454991.87287162687|0.6325766589301287|0.6325766589301287| 0.2597953969267807| 0.3769497004199716| 0.595895683311337| 2.439824554322636| 2.439824554322636|2.4408215248119336| 0.01373145447997778|3.858538708873757|  -23.6055961593662|1.1531354802791958|\n",
      "|gs://ds5460-tumli...|448851.02127889916|0.6279270372423682|0.6279270372423682|0.25605530170037727|0.38998201708561286|0.6210626298212527| 3.497348357174466| 3.497348357174466|3.4982363179582276|0.019825933312826068|5.571087260904125| -22.29905246510549|1.1446596004591905|\n",
      "|gs://ds5460-tumli...|463761.24465372495| 0.638726648998766| 0.638726648998766| 0.2558146877696568|0.40297628147399805| 0.630905696678982|3.4845319645432706|3.4845319645432706|3.4854577382705543|0.019419518838891613|5.456884793728543|-25.333743368653245|1.1643464088700555|\n",
      "|gs://ds5460-tumli...| 440065.6724156548|0.6209550834984927|0.6209550834984927| 0.2661209310004867| 0.3690136284391097|0.5942678274893379|2.7043174292081553|2.7043174292081553| 2.705264590790738|0.015503981495038078|  4.3566188001057|-20.339933463076477| 1.131950299356419|\n",
      "+--------------------+------------------+------------------+------------------+-------------------+-------------------+------------------+------------------+------------------+------------------+--------------------+-----------------+-------------------+------------------+\n",
      "only showing top 5 rows\n",
      "\n"
     ]
    },
    {
     "name": "stderr",
     "output_type": "stream",
     "text": [
      "                                                                                \r"
     ]
    }
   ],
   "source": [
    "df = spark.read.parquet(data_path)\n",
    "df.show(5)"
   ]
  },
  {
   "cell_type": "markdown",
   "metadata": {},
   "source": [
    "### Simple Model Comparisons \n",
    "\n",
    "Let's set up the code to test various simple models. "
   ]
  },
  {
   "cell_type": "code",
   "execution_count": 4,
   "metadata": {},
   "outputs": [],
   "source": [
    "from pyspark.ml.feature import VectorAssembler\n",
    "from pyspark.ml.regression import LinearRegression, DecisionTreeRegressor, RandomForestRegressor, GBTRegressor\n",
    "from pyspark.ml.evaluation import RegressionEvaluator\n",
    "from pyspark.ml.tuning import ParamGridBuilder, CrossValidator\n",
    "from pyspark.sql.functions import col\n",
    "import time"
   ]
  },
  {
   "cell_type": "code",
   "execution_count": 18,
   "metadata": {},
   "outputs": [],
   "source": [
    "feature_cols = [c for c in df.columns if c != \"filename\" and c != \"total_cost\"]\n",
    "\n",
    "assembler = VectorAssembler(inputCols=feature_cols, outputCol=\"features\")\n",
    "df_vector = assembler.transform(df).select(\"features\", col(\"total_cost\").alias(\"label\"))"
   ]
  },
  {
   "cell_type": "code",
   "execution_count": 19,
   "metadata": {},
   "outputs": [],
   "source": [
    "train_data, test_data = df_vector.randomSplit([0.8, 0.2], seed=42)"
   ]
  },
  {
   "cell_type": "code",
   "execution_count": 20,
   "metadata": {},
   "outputs": [],
   "source": [
    "evaluator = RegressionEvaluator(labelCol=\"label\", predictionCol=\"prediction\")\n",
    "\n",
    "# Models to test\n",
    "models = [\n",
    "    (LinearRegression(), \"Linear Regression\"),\n",
    "    (DecisionTreeRegressor(), \"Decision Tree\"),\n",
    "    (RandomForestRegressor(), \"Random Forest\"),\n",
    "    (GBTRegressor(), \"Gradient Boosted Trees\")\n",
    "]"
   ]
  },
  {
   "cell_type": "code",
   "execution_count": 21,
   "metadata": {},
   "outputs": [],
   "source": [
    "def train_and_evaluate_model(regressor, name):\n",
    "    start_time = time.time()\n",
    "    \n",
    "    # Train the model\n",
    "    model = regressor.fit(train_data)\n",
    "    \n",
    "    # Make predictions\n",
    "    predictions = model.transform(test_data)\n",
    "    \n",
    "    # Evaluate metrics\n",
    "    rmse = evaluator.setMetricName(\"rmse\").evaluate(predictions)\n",
    "    mae = evaluator.setMetricName(\"mae\").evaluate(predictions)\n",
    "    r2 = evaluator.setMetricName(\"r2\").evaluate(predictions)\n",
    "    \n",
    "    end_time = time.time()\n",
    "    train_time = end_time - start_time\n",
    "\n",
    "    return (name, rmse, mae, r2, train_time)"
   ]
  },
  {
   "cell_type": "code",
   "execution_count": 22,
   "metadata": {},
   "outputs": [
    {
     "name": "stderr",
     "output_type": "stream",
     "text": [
      "25/04/11 05:34:19 WARN Instrumentation: [413895b0] regParam is zero, which might cause numerical instability and overfitting.\n",
      "25/04/11 05:34:31 WARN Instrumentation: [413895b0] Cholesky solver failed due to singular covariance matrix. Retrying with Quasi-Newton solver.\n",
      "25/04/11 05:34:35 ERROR LBFGS: Failure! Resetting history: breeze.optimize.FirstOrderException: Line search zoom failed\n",
      "25/04/11 05:34:35 ERROR LBFGS: Failure again! Giving up and returning. Maybe the objective is just poorly behaved?\n",
      "WARNING: An illegal reflective access operation has occurred                    \n",
      "WARNING: Illegal reflective access by org.apache.spark.util.SizeEstimator$ (file:/usr/lib/spark/jars/spark-core_2.12-3.3.2.jar) to field java.nio.charset.Charset.name\n",
      "WARNING: Please consider reporting this to the maintainers of org.apache.spark.util.SizeEstimator$\n",
      "WARNING: Use --illegal-access=warn to enable warnings of further illegal reflective access operations\n",
      "WARNING: All illegal access operations will be denied in a future release\n",
      "[Stage 272:>                                                        (0 + 1) / 1]\r"
     ]
    },
    {
     "name": "stdout",
     "output_type": "stream",
     "text": [
      "+----------------------+------------------+------------------+------------------+------------------+\n",
      "|Model                 |RMSE              |MAE               |R2                |TrainingTime      |\n",
      "+----------------------+------------------+------------------+------------------+------------------+\n",
      "|Linear Regression     |280.7656305912491 |220.6685334183242 |0.9983248319489453|61.4363751411438  |\n",
      "|Decision Tree         |499.8519540256585 |360.21251018260307|0.9946905041803394|66.4631974697113  |\n",
      "|Random Forest         |543.9339953591083 |344.5596907496637 |0.9937127185766577|60.810118198394775|\n",
      "|Gradient Boosted Trees|474.10795874994085|334.27393095688205|0.9952233327755488|83.85276007652283 |\n",
      "+----------------------+------------------+------------------+------------------+------------------+\n",
      "\n"
     ]
    },
    {
     "name": "stderr",
     "output_type": "stream",
     "text": [
      "                                                                                \r"
     ]
    }
   ],
   "source": [
    "results = [train_and_evaluate_model(m, n) for m, n in models]\n",
    "\n",
    "columns = [\"Model\", \"RMSE\", \"MAE\", \"R2\", \"TrainingTime\"]\n",
    "results_df = spark.createDataFrame(results, columns)\n",
    "\n",
    "results_df.show(truncate=False)"
   ]
  },
  {
   "cell_type": "code",
   "execution_count": 23,
   "metadata": {},
   "outputs": [
    {
     "data": {
      "image/png": "[encoded data removed]",
      "text/plain": [
       "<Figure size 1000x600 with 2 Axes>"
      ]
     },
     "metadata": {},
     "output_type": "display_data"
    }
   ],
   "source": [
    "import matplotlib.pyplot as plt\n",
    "import pandas as pd\n",
    "import numpy as np\n",
    "\n",
    "data = {\n",
    "    \"Model\": [\n",
    "        \"Linear Regression\",\n",
    "        \"Decision Tree\",\n",
    "        \"Random Forest\",\n",
    "        \"Gradient Boosted Trees\"\n",
    "    ],\n",
    "    \"RMSE\": [\n",
    "        280.7656305912491,\n",
    "        499.8519540256585,\n",
    "        543.9339953591083,\n",
    "        474.10795874994085\n",
    "    ],\n",
    "    \"MAE\": [\n",
    "        220.6685334183242,\n",
    "        360.21251018260307,\n",
    "        344.5596907496637,\n",
    "        334.27393095688205\n",
    "    ],\n",
    "    \"R2\": [\n",
    "        0.9983248319489453,\n",
    "        0.9946905041803394,\n",
    "        0.9937127185766577,\n",
    "        0.9952233327755488\n",
    "    ],\n",
    "    \"TrainingTime\": [\n",
    "        61.4363751411438,\n",
    "        66.4631974697113,\n",
    "        60.810118198394775,\n",
    "        83.85276007652283\n",
    "    ]\n",
    "}\n",
    "\n",
    "df_plot = pd.DataFrame(data)\n",
    "\n",
    "fig, ax1 = plt.subplots(figsize=(10, 6))\n",
    "\n",
    "# Bar plot for RMSE\n",
    "color = 'tab:blue'\n",
    "ax1.set_xlabel('Model')\n",
    "ax1.set_ylabel('RMSE', color=color)\n",
    "ax1.bar(df_plot[\"Model\"], df_plot[\"RMSE\"], color=color, alpha=0.6, label=\"RMSE\")\n",
    "ax1.tick_params(axis='y', labelcolor=color)\n",
    "ax1.set_ylim(0, max(df_plot[\"RMSE\"]) * 1.2)\n",
    "\n",
    "# Line plot for Training Time on second y-axis\n",
    "ax2 = ax1.twinx()\n",
    "color = 'tab:red'\n",
    "ax2.set_ylabel('Training Time (s)', color=color)\n",
    "ax2.plot(df_plot[\"Model\"], df_plot[\"TrainingTime\"], color=color, marker='o', linewidth=2, label=\"Training Time\")\n",
    "ax2.tick_params(axis='y', labelcolor=color)\n",
    "ax2.set_ylim(0, max(df_plot[\"TrainingTime\"]) * 1.5)\n",
    "\n",
    "# Title and layout\n",
    "fig.suptitle(\"Model Comparison: RMSE vs Training Time\")\n",
    "plt.show()\n"
   ]
  },
  {
   "cell_type": "markdown",
   "metadata": {},
   "source": [
    "### More Complex Models \n",
    "\n",
    "Now that we have our results for the simple models, let's see what we can do to improve results. Let's try to implement XGBoost."
   ]
  },
  {
   "cell_type": "code",
   "execution_count": 5,
   "metadata": {},
   "outputs": [
    {
     "name": "stdout",
     "output_type": "stream",
     "text": [
      "Requirement already satisfied: xgboost==1.7.6 in /opt/conda/miniconda3/lib/python3.10/site-packages (1.7.6)\n",
      "Requirement already satisfied: numpy in /opt/conda/miniconda3/lib/python3.10/site-packages (from xgboost==1.7.6) (1.22.4)\n",
      "Requirement already satisfied: scipy in /opt/conda/miniconda3/lib/python3.10/site-packages (from xgboost==1.7.6) (1.9.3)\n",
      "\u001b[33mWARNING: Running pip as the 'root' user can result in broken permissions and conflicting behaviour with the system package manager, possibly rendering your system unusable. It is recommended to use a virtual environment instead: https://pip.pypa.io/warnings/venv. Use the --root-user-action option if you know what you are doing and want to suppress this warning.\u001b[0m\u001b[33m\n",
      "\u001b[0m"
     ]
    }
   ],
   "source": [
    "!pip install xgboost==1.7.6"
   ]
  },
  {
   "cell_type": "code",
   "execution_count": 25,
   "metadata": {},
   "outputs": [],
   "source": [
    "from pyspark.ml.tuning import ParamGridBuilder, TrainValidationSplit\n",
    "from pyspark.ml.evaluation import RegressionEvaluator\n",
    "from xgboost.spark import SparkXGBRegressor\n",
    "import time"
   ]
  },
  {
   "cell_type": "code",
   "execution_count": 15,
   "metadata": {},
   "outputs": [],
   "source": [
    "feature_cols = [c for c in df.columns if c != \"filename\" and c != \"total_cost\"]\n",
    "\n",
    "assembler = VectorAssembler(inputCols=feature_cols, outputCol=\"features\")\n",
    "assembled_df = assembler.transform(df).select(\"features\", col(\"total_cost\").alias(\"label\"))\n",
    "\n",
    "train_data, test_data = assembled_df.randomSplit([0.8, 0.2], seed=42)"
   ]
  },
  {
   "cell_type": "code",
   "execution_count": 16,
   "metadata": {},
   "outputs": [
    {
     "name": "stderr",
     "output_type": "stream",
     "text": [
      "[Stage 4:>                                                          (0 + 1) / 1]\r"
     ]
    },
    {
     "name": "stdout",
     "output_type": "stream",
     "text": [
      "XGBoost training completed in 29.25 seconds.\n"
     ]
    },
    {
     "name": "stderr",
     "output_type": "stream",
     "text": [
      "/opt/conda/miniconda3/lib/python3.10/site-packages/xgboost/sklearn.py:782: UserWarning: Loading a native XGBoost model with Scikit-Learn interface.\n",
      "  warnings.warn(\"Loading a native XGBoost model with Scikit-Learn interface.\")\n"
     ]
    }
   ],
   "source": [
    "xgb = SparkXGBRegressor(\n",
    "    objective='reg:squarederror',\n",
    "    num_round=50,\n",
    "    max_depth=6,\n",
    "    eta=0.1,\n",
    "    features_col=\"features\",\n",
    "    label_col=\"label\",\n",
    "    prediction_col=\"prediction\"\n",
    ")\n",
    "\n",
    "start_time = time.time()\n",
    "xgb_model = xgb.fit(train_data)\n",
    "train_time = time.time() - start_time\n",
    "\n",
    "print(f\"XGBoost training completed in {train_time:.2f} seconds.\")"
   ]
  },
  {
   "cell_type": "code",
   "execution_count": 17,
   "metadata": {},
   "outputs": [
    {
     "name": "stderr",
     "output_type": "stream",
     "text": [
      "[Stage 9:==================================================>        (6 + 1) / 7]\r"
     ]
    },
    {
     "name": "stdout",
     "output_type": "stream",
     "text": [
      "RMSE: 332.0242\n",
      "MAE:  230.4305\n",
      "R²:   0.9977\n"
     ]
    },
    {
     "name": "stderr",
     "output_type": "stream",
     "text": [
      "                                                                                \r"
     ]
    }
   ],
   "source": [
    "from pyspark.ml.evaluation import RegressionEvaluator\n",
    "\n",
    "predictions = xgb_model.transform(test_data)\n",
    "\n",
    "evaluator_rmse = RegressionEvaluator(labelCol=\"label\", predictionCol=\"prediction\", metricName=\"rmse\")\n",
    "evaluator_mae = RegressionEvaluator(labelCol=\"label\", predictionCol=\"prediction\", metricName=\"mae\")\n",
    "evaluator_r2 = RegressionEvaluator(labelCol=\"label\", predictionCol=\"prediction\", metricName=\"r2\")\n",
    "\n",
    "rmse = evaluator_rmse.evaluate(predictions)\n",
    "mae = evaluator_mae.evaluate(predictions)\n",
    "r2 = evaluator_r2.evaluate(predictions)\n",
    "\n",
    "print(f\"RMSE: {rmse:.4f}\")\n",
    "print(f\"MAE:  {mae:.4f}\")\n",
    "print(f\"R²:   {r2:.4f}\")"
   ]
  },
  {
   "cell_type": "code",
   "execution_count": 24,
   "metadata": {},
   "outputs": [
    {
     "data": {
      "image/png": "[encoded data removed]",
      "text/plain": [
       "<Figure size 1000x600 with 2 Axes>"
      ]
     },
     "metadata": {},
     "output_type": "display_data"
    }
   ],
   "source": [
    "import matplotlib.pyplot as plt\n",
    "import pandas as pd\n",
    "\n",
    "# Final results with XGBoost\n",
    "data = {\n",
    "    \"Model\": [\n",
    "        \"Linear Regression\",\n",
    "        \"Decision Tree\",\n",
    "        \"Random Forest\",\n",
    "        \"Gradient Boosted Trees\",\n",
    "        \"XGBoost\"\n",
    "    ],\n",
    "    \"RMSE\": [\n",
    "        280.7656305912491,\n",
    "        499.8519540256585,\n",
    "        543.9339953591083,\n",
    "        474.10795874994085,\n",
    "        332.0242\n",
    "    ],\n",
    "    \"MAE\": [\n",
    "        220.6685334183242,\n",
    "        360.21251018260307,\n",
    "        344.5596907496637,\n",
    "        334.27393095688205,\n",
    "        230.4305\n",
    "    ],\n",
    "    \"R2\": [\n",
    "        0.9983248319489453,\n",
    "        0.9946905041803394,\n",
    "        0.9937127185766577,\n",
    "        0.9952233327755488,\n",
    "        0.9977\n",
    "    ],\n",
    "    \"TrainingTime\": [\n",
    "        61.4363751411438,\n",
    "        66.4631974697113,\n",
    "        60.810118198394775,\n",
    "        83.85276007652283,\n",
    "        29.25\n",
    "    ]\n",
    "}\n",
    "\n",
    "df_plot = pd.DataFrame(data)\n",
    "\n",
    "# Plotting\n",
    "fig, ax1 = plt.subplots(figsize=(10, 6))\n",
    "\n",
    "# Bar plot for RMSE\n",
    "color = 'tab:blue'\n",
    "ax1.set_xlabel('Model')\n",
    "ax1.set_ylabel('RMSE', color=color)\n",
    "bars = ax1.bar(df_plot[\"Model\"], df_plot[\"RMSE\"], color=color, alpha=0.6)\n",
    "ax1.tick_params(axis='y', labelcolor=color)\n",
    "ax1.set_ylim(0, max(df_plot[\"RMSE\"]) * 1.2)\n",
    "\n",
    "# Annotate RMSE values\n",
    "for bar in bars:\n",
    "    height = bar.get_height()\n",
    "    ax1.annotate(f'{height:.0f}',\n",
    "                 xy=(bar.get_x() + bar.get_width() / 2, height),\n",
    "                 xytext=(0, 3),\n",
    "                 textcoords=\"offset points\",\n",
    "                 ha='center', va='bottom')\n",
    "\n",
    "# Line plot for training time\n",
    "ax2 = ax1.twinx()\n",
    "color = 'tab:red'\n",
    "ax2.set_ylabel('Training Time (s)', color=color)\n",
    "ax2.plot(df_plot[\"Model\"], df_plot[\"TrainingTime\"], color=color, marker='o', linewidth=2)\n",
    "ax2.tick_params(axis='y', labelcolor=color)\n",
    "ax2.set_ylim(0, max(df_plot[\"TrainingTime\"]) * 1.5)\n",
    "\n",
    "# Title and formatting\n",
    "fig.suptitle(\"Model Comparison: RMSE vs Training Time\", fontsize=14)\n",
    "plt.tight_layout()\n",
    "plt.show()"
   ]
  },
  {
   "cell_type": "markdown",
   "metadata": {},
   "source": [
    "### Tuning XGBoost"
   ]
  },
  {
   "cell_type": "code",
   "execution_count": 34,
   "metadata": {},
   "outputs": [],
   "source": [
    "xgb = SparkXGBRegressor(\n",
    "    num_workers=2,\n",
    "    objective='reg:squarederror',\n",
    "    eval_metric='rmse',\n",
    "    tree_method='hist'\n",
    ")\n",
    "\n",
    "paramGrid = (ParamGridBuilder()\n",
    "    .addGrid(xgb.max_depth, [4, 5, 6])\n",
    "    .addGrid(xgb.learning_rate, [0.04, 0.05, 0.06])\n",
    "    .addGrid(xgb.n_estimators, [150, 200, 250])\n",
    "    .addGrid(xgb.subsample, [0.8, 1.0])\n",
    "    .addGrid(xgb.colsample_bytree, [0.8, 1.0])\n",
    "    .build())\n",
    "\n",
    "evaluator = RegressionEvaluator(labelCol=\"label\", predictionCol=\"prediction\", metricName=\"rmse\")\n",
    "\n",
    "tvs = TrainValidationSplit(estimator=xgb,\n",
    "                           estimatorParamMaps=paramGrid,\n",
    "                           evaluator=evaluator,\n",
    "                           trainRatio=0.8,\n",
    "                           parallelism=2)"
   ]
  },
  {
   "cell_type": "code",
   "execution_count": 35,
   "metadata": {},
   "outputs": [
    {
     "name": "stderr",
     "output_type": "stream",
     "text": [
      "[Stage 1138:================================================>       (6 + 1) / 7]\r"
     ]
    },
    {
     "name": "stdout",
     "output_type": "stream",
     "text": [
      "RMSE: 336.3870\n",
      "MAE:  224.8225\n",
      "R²:   0.9976\n",
      "Training Time: 629.34 seconds\n"
     ]
    },
    {
     "name": "stderr",
     "output_type": "stream",
     "text": [
      "                                                                                \r"
     ]
    }
   ],
   "source": [
    "start_time = time.time()\n",
    "xgb_model_tuned = tvs.fit(train_data)\n",
    "train_time = time.time() - start_time\n",
    "\n",
    "predictions = xgb_model_tuned.transform(test_data)\n",
    "rmse = evaluator.evaluate(predictions, {evaluator.metricName: \"rmse\"})\n",
    "mae = evaluator.evaluate(predictions, {evaluator.metricName: \"mae\"})\n",
    "r2 = evaluator.evaluate(predictions, {evaluator.metricName: \"r2\"})\n",
    "\n",
    "print(f\"RMSE: {rmse:.4f}\")\n",
    "print(f\"MAE:  {mae:.4f}\")\n",
    "print(f\"R²:   {r2:.4f}\")\n",
    "print(f\"Training Time: {train_time:.2f} seconds\")"
   ]
  },
  {
   "cell_type": "code",
   "execution_count": 36,
   "metadata": {},
   "outputs": [
    {
     "name": "stdout",
     "output_type": "stream",
     "text": [
      "Best max_depth: 5\n",
      "Best learning_rate: 0.04\n",
      "Best n_estimators: 250\n"
     ]
    }
   ],
   "source": [
    "best_model = xgb_model_tuned.bestModel\n",
    "\n",
    "# Print the best parameter values\n",
    "print(\"Best max_depth:\", best_model.getOrDefault(\"max_depth\"))\n",
    "print(\"Best learning_rate:\", best_model.getOrDefault(\"learning_rate\"))\n",
    "print(\"Best n_estimators:\", best_model.getOrDefault(\"n_estimators\"))"
   ]
  },
  {
   "cell_type": "markdown",
   "metadata": {},
   "source": [
    "Even after tuning, XGBoost is not performing better than Linear Regression. If the mapping from features to total_cost is close to linear, then a linear regression model might actually be ideal. More complex models like XGBoost add unnecessary complexity, which can lead to slightly overfitting and requires more tuning to match linear performance. "
   ]
  },
  {
   "cell_type": "markdown",
   "metadata": {},
   "source": [
    "### Investigate Linear Regression"
   ]
  },
  {
   "cell_type": "code",
   "execution_count": 37,
   "metadata": {},
   "outputs": [
    {
     "name": "stderr",
     "output_type": "stream",
     "text": [
      "                                                                                \r"
     ]
    },
    {
     "name": "stdout",
     "output_type": "stream",
     "text": [
      "+-------+------------------+\n",
      "|summary|        total_cost|\n",
      "+-------+------------------+\n",
      "|  count|             15000|\n",
      "|   mean| 455058.1915002696|\n",
      "| stddev|   6803.2426683212|\n",
      "|    min|431924.47773403546|\n",
      "|    max|483044.36281320325|\n",
      "+-------+------------------+\n",
      "\n"
     ]
    },
    {
     "name": "stderr",
     "output_type": "stream",
     "text": [
      "[Stage 1143:================================================>       (6 + 1) / 7]\r"
     ]
    },
    {
     "name": "stdout",
     "output_type": "stream",
     "text": [
      "+--------------------+\n",
      "|skewness(total_cost)|\n",
      "+--------------------+\n",
      "| 0.10996812736741823|\n",
      "+--------------------+\n",
      "\n"
     ]
    },
    {
     "name": "stderr",
     "output_type": "stream",
     "text": [
      "                                                                                \r"
     ]
    }
   ],
   "source": [
    "# Is total cost skewed? \n",
    "\n",
    "from pyspark.sql.functions import skewness\n",
    "\n",
    "df.select(\"total_cost\").describe().show()\n",
    "\n",
    "df.select(skewness(\"total_cost\")).show()"
   ]
  },
  {
   "cell_type": "code",
   "execution_count": 38,
   "metadata": {},
   "outputs": [
    {
     "name": "stderr",
     "output_type": "stream",
     "text": [
      "                                                                                \r"
     ]
    }
   ],
   "source": [
    "from pyspark.ml.feature import StandardScaler\n",
    "\n",
    "assembler = VectorAssembler(inputCols=feature_cols, outputCol=\"raw_features\")\n",
    "assembled_df = assembler.transform(df).select(\"raw_features\", col(\"total_cost\").alias(\"label\"))\n",
    "\n",
    "# Let's try scaling the features\n",
    "scaler = StandardScaler(inputCol=\"raw_features\", outputCol=\"features\", withMean=True, withStd=True)\n",
    "scaler_model = scaler.fit(assembled_df)\n",
    "scaled_df = scaler_model.transform(assembled_df).select(\"features\", \"label\")\n",
    "\n",
    "train_data, test_data = scaled_df.randomSplit([0.8, 0.2], seed=42)"
   ]
  },
  {
   "cell_type": "code",
   "execution_count": null,
   "metadata": {},
   "outputs": [
    {
     "name": "stderr",
     "output_type": "stream",
     "text": [
      "25/04/11 06:12:08 WARN Instrumentation: [39decb2e] regParam is zero, which might cause numerical instability and overfitting.\n",
      "25/04/11 06:12:17 WARN Instrumentation: [39decb2e] Cholesky solver failed due to singular covariance matrix. Retrying with Quasi-Newton solver.\n",
      "25/04/11 06:12:17 ERROR LBFGS: Failure! Resetting history: breeze.optimize.FirstOrderException: Line search zoom failed\n",
      "25/04/11 06:12:17 ERROR LBFGS: Failure again! Giving up and returning. Maybe the objective is just poorly behaved?\n",
      "[Stage 1153:>                                                       (0 + 2) / 7]\r"
     ]
    }
   ],
   "source": [
    "models = [(LinearRegression(), \"Linear Regression\")]\n",
    "\n",
    "results = [train_and_evaluate_model(m, n) for m, n in models]\n",
    "\n",
    "columns = [\"Model\", \"RMSE\", \"MAE\", \"R2\", \"TrainingTime\"]\n",
    "results_df = spark.createDataFrame(results, columns)\n",
    "\n",
    "results_df.show(truncate=False)"
   ]
  },
  {
   "cell_type": "code",
   "execution_count": null,
   "metadata": {},
   "outputs": [],
   "source": []
  }
 ],
 "metadata": {
  "kernelspec": {
   "display_name": "Python 3",
   "language": "python",
   "name": "python3"
  },
  "language_info": {
   "codemirror_mode": {
    "name": "ipython",
    "version": 3
   },
   "file_extension": ".py",
   "mimetype": "text/x-python",
   "name": "python",
   "nbconvert_exporter": "python",
   "pygments_lexer": "ipython3",
   "version": "3.10.8"
  }
 },
 "nbformat": 4,
 "nbformat_minor": 4
}
