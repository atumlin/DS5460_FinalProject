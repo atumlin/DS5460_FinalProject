{
 "cells": [
  {
   "cell_type": "markdown",
   "metadata": {},
   "source": [
    "## Feature Engineering \n",
    "Author: Anne Tumlin\n",
    "\n",
    "Date: 04/05/25\n",
    "\n",
    "Now that we have our baseline results, our goal is to perform feature engineering and hyperparameter tuning to improve our existing results. First, I will investigate feature engineering by checking various correlations. "
   ]
  },
  {
   "cell_type": "markdown",
   "metadata": {},
   "source": [
    "First, load in the dataset (via parquet file) for evaluation. "
   ]
  },
  {
   "cell_type": "code",
   "execution_count": 1,
   "metadata": {
    "tags": []
   },
   "outputs": [
    {
     "name": "stderr",
     "output_type": "stream",
     "text": [
      "Setting default log level to \"WARN\".\n",
      "To adjust logging level use sc.setLogLevel(newLevel). For SparkR, use setLogLevel(newLevel).\n",
      "25/04/09 02:58:33 INFO SparkEnv: Registering MapOutputTracker\n",
      "25/04/09 02:58:33 INFO SparkEnv: Registering BlockManagerMaster\n",
      "25/04/09 02:58:33 INFO SparkEnv: Registering BlockManagerMasterHeartbeat\n",
      "25/04/09 02:58:33 INFO SparkEnv: Registering OutputCommitCoordinator\n"
     ]
    }
   ],
   "source": [
    "import os\n",
    "import subprocess\n",
    "import time\n",
    "from pyspark.sql import SparkSession\n",
    "import pyspark.sql.functions as F\n",
    "from pyspark.sql.functions import col, explode, input_file_name, expr, sum as spark_sum, avg, count\n",
    "\n",
    "spark = SparkSession.builder \\\n",
    "    .appName(\"app_name\") \\\n",
    "    .getOrCreate()"
   ]
  },
  {
   "cell_type": "code",
   "execution_count": 2,
   "metadata": {
    "tags": []
   },
   "outputs": [
    {
     "name": "stderr",
     "output_type": "stream",
     "text": [
      "                                                                                \r"
     ]
    },
    {
     "name": "stdout",
     "output_type": "stream",
     "text": [
      "Reading took 5.53 seconds\n"
     ]
    }
   ],
   "source": [
    "start_time = time.time()\n",
    "\n",
    "# df = spark.read.parquet(\"gs://bucketmilestonedonna/processed_data/agg_df.parquet\")\n",
    "df = spark.read.parquet(\"gs://dataproc-temp-us-east1-299400297029-hnyjjiwf/processed_data/agg_df.parquet\")\n",
    "\n",
    "end_time = time.time()\n",
    "print(f\"Reading took {end_time - start_time:.2f} seconds\")"
   ]
  },
  {
   "cell_type": "code",
   "execution_count": 3,
   "metadata": {
    "tags": []
   },
   "outputs": [
    {
     "name": "stderr",
     "output_type": "stream",
     "text": [
      "                                                                                \r"
     ]
    },
    {
     "name": "stdout",
     "output_type": "stream",
     "text": [
      "+--------------------+--------------+------------------+------+------------------+-----------------+------------------+---------+------------------+--------------------+--------------------+------------------+----------+----------+--------------------+-------------------+-----------------+------------------+------------------+\n",
      "|            filename|num_generators|          total_pg|avg_vg|  avg_cost_squared|  avg_cost_linear|   avg_cost_offset|num_loads|          total_pd|           br_r_mean|           br_x_mean|        rate_a_sum|rate_b_min|rate_c_max|     trans_br_r_mean|    trans_br_x_mean| trans_rate_a_sum|          tap_mean|        total_cost|\n",
      "+--------------------+--------------+------------------+------+------------------+-----------------+------------------+---------+------------------+--------------------+--------------------+------------------+----------+----------+--------------------+-------------------+-----------------+------------------+------------------+\n",
      "|gs://ds5460-tumli...|           171|154.14844499999998|   1.0|101.79871345029237|2637.030994152047|-4.104877192982458|      281|178.07434280491296|0.028101742751865683|0.028101742751865683|3.3398004439999984|0.00100208|    999.99|0.003531241019270...|0.12213300296875002|846.2510999999997|1.0187825520833336| 457017.6915453811|\n",
      "|gs://ds5460-tumli...|           171|154.14844499999998|   1.0|101.79871345029237|2637.030994152047|-4.104877192982458|      281|177.75404115936618|0.028101742751865683|0.028101742751865683|3.3398004439999984|0.00100208|    999.99|0.003531241019270...|0.12213300296875002|846.2510999999997|1.0187825520833336|454991.87287162687|\n",
      "|gs://ds5460-tumli...|           171|154.14844499999998|   1.0|101.79871345029237|2637.030994152047|-4.104877192982458|      281|176.44749746510547|0.028101742751865683|0.028101742751865683|3.3398004439999984|0.00100208|    999.99|0.003531241019270...|0.12213300296875002|846.2510999999997|1.0187825520833336|448851.02127889916|\n",
      "|gs://ds5460-tumli...|           171|154.14844499999998|   1.0|101.79871345029237|2637.030994152047|-4.104877192982458|      281|179.48218836865323|0.028101742751865683|0.028101742751865683|3.3398004439999984|0.00100208|    999.99|0.003531241019270...|0.12213300296875002|846.2510999999997|1.0187825520833336|463761.24465372495|\n",
      "|gs://ds5460-tumli...|           171|154.14844499999998|   1.0|101.79871345029237|2637.030994152047|-4.104877192982458|      281|174.48837846307646|0.028101742751865683|0.028101742751865683|3.3398004439999984|0.00100208|    999.99|0.003531241019270...|0.12213300296875002|846.2510999999997|1.0187825520833336| 440065.6724156548|\n",
      "+--------------------+--------------+------------------+------+------------------+-----------------+------------------+---------+------------------+--------------------+--------------------+------------------+----------+----------+--------------------+-------------------+-----------------+------------------+------------------+\n",
      "only showing top 5 rows\n",
      "\n"
     ]
    }
   ],
   "source": [
    "df.show(5) # verify loaded data"
   ]
  },
  {
   "cell_type": "markdown",
   "metadata": {},
   "source": [
    "Our `total_cost` depends on multiple system-wide parameters (generation, loads, rates, cost curves). So, to enhance our features we will refine them to create the new features for our model to utilize. "
   ]
  },
  {
   "cell_type": "code",
   "execution_count": 4,
   "metadata": {
    "tags": []
   },
   "outputs": [],
   "source": [
    "from pyspark.sql.functions import col\n",
    "\n",
    "df = df.withColumn(\"cost_per_gen\", col(\"total_cost\") / col(\"num_generators\"))\n",
    "df = df.withColumn(\"cost_per_mw\", col(\"total_cost\") / col(\"total_pg\"))\n",
    "df = df.withColumn(\"generation_margin\", col(\"total_pg\") - col(\"total_pd\"))\n",
    "df = df.withColumn(\"load_to_gen_ratio\", col(\"total_pd\") / col(\"total_pg\"))\n",
    "df = df.withColumn(\"trans_to_br_ratio_r\", col(\"trans_br_r_mean\") / col(\"br_r_mean\"))\n",
    "df = df.withColumn(\"trans_to_br_ratio_x\", col(\"trans_br_x_mean\") / col(\"br_x_mean\"))\n",
    "df = df.withColumn(\"trans_rate_ratio\", col(\"trans_rate_a_sum\") / col(\"rate_a_sum\"))\n",
    "df = df.withColumn(\"load_per_generator\", col(\"num_loads\") / col(\"num_generators\"))\n",
    "df = df.withColumn(\"pd_per_load\", col(\"total_pd\") / col(\"num_loads\"))"
   ]
  },
  {
   "cell_type": "code",
   "execution_count": 5,
   "metadata": {
    "tags": []
   },
   "outputs": [
    {
     "name": "stderr",
     "output_type": "stream",
     "text": [
      "25/04/09 02:58:50 WARN SparkStringUtils: Truncated the string representation of a plan since it was too large. This behavior can be adjusted by setting 'spark.sql.debug.maxToStringFields'.\n"
     ]
    },
    {
     "name": "stdout",
     "output_type": "stream",
     "text": [
      "+--------------------+--------------+------------------+------+------------------+-----------------+------------------+---------+------------------+--------------------+--------------------+------------------+----------+----------+--------------------+-------------------+-----------------+------------------+------------------+------------------+------------------+-------------------+------------------+-------------------+-------------------+------------------+------------------+------------------+\n",
      "|            filename|num_generators|          total_pg|avg_vg|  avg_cost_squared|  avg_cost_linear|   avg_cost_offset|num_loads|          total_pd|           br_r_mean|           br_x_mean|        rate_a_sum|rate_b_min|rate_c_max|     trans_br_r_mean|    trans_br_x_mean| trans_rate_a_sum|          tap_mean|        total_cost|      cost_per_gen|       cost_per_mw|  generation_margin| load_to_gen_ratio|trans_to_br_ratio_r|trans_to_br_ratio_x|  trans_rate_ratio|load_per_generator|       pd_per_load|\n",
      "+--------------------+--------------+------------------+------+------------------+-----------------+------------------+---------+------------------+--------------------+--------------------+------------------+----------+----------+--------------------+-------------------+-----------------+------------------+------------------+------------------+------------------+-------------------+------------------+-------------------+-------------------+------------------+------------------+------------------+\n",
      "|gs://ds5460-tumli...|           171|154.14844499999998|   1.0|101.79871345029237|2637.030994152047|-4.104877192982458|      281|178.07434280491296|0.028101742751865683|0.028101742751865683|3.3398004439999984|0.00100208|    999.99|0.003531241019270...|0.12213300296875002|846.2510999999997|1.0187825520833336| 457017.6915453811|2672.6180792127548| 2964.789502387657|-23.925897804912978| 1.155213358168569| 0.1256591468526054|  4.346100668814982|253.38373180957637|1.6432748538011697|0.6337165224374126|\n",
      "|gs://ds5460-tumli...|           171|154.14844499999998|   1.0|101.79871345029237|2637.030994152047|-4.104877192982458|      281|177.75404115936618|0.028101742751865683|0.028101742751865683|3.3398004439999984|0.00100208|    999.99|0.003531241019270...|0.12213300296875002|846.2510999999997|1.0187825520833336|454991.87287162687| 2660.771186383783| 2951.647503623062|  -23.6055961593662|1.1531354802791958| 0.1256591468526054|  4.346100668814982|253.38373180957637|1.6432748538011697|0.6325766589301287|\n",
      "|gs://ds5460-tumli...|           171|154.14844499999998|   1.0|101.79871345029237|2637.030994152047|-4.104877192982458|      281|176.44749746510547|0.028101742751865683|0.028101742751865683|3.3398004439999984|0.00100208|    999.99|0.003531241019270...|0.12213300296875002|846.2510999999997|1.0187825520833336|448851.02127889916|2624.8597735608137| 2911.810244202588| -22.29905246510549|1.1446596004591905| 0.1256591468526054|  4.346100668814982|253.38373180957637|1.6432748538011697|0.6279270372423682|\n",
      "|gs://ds5460-tumli...|           171|154.14844499999998|   1.0|101.79871345029237|2637.030994152047|-4.104877192982458|      281|179.48218836865323|0.028101742751865683|0.028101742751865683|3.3398004439999984|0.00100208|    999.99|0.003531241019270...|0.12213300296875002|846.2510999999997|1.0187825520833336|463761.24465372495| 2712.054062302485|3008.5366391709304|-25.333743368653245|1.1643464088700555| 0.1256591468526054|  4.346100668814982|253.38373180957637|1.6432748538011697| 0.638726648998766|\n",
      "|gs://ds5460-tumli...|           171|154.14844499999998|   1.0|101.79871345029237|2637.030994152047|-4.104877192982458|      281|174.48837846307646|0.028101742751865683|0.028101742751865683|3.3398004439999984|0.00100208|    999.99|0.003531241019270...|0.12213300296875002|846.2510999999997|1.0187825520833336| 440065.6724156548| 2573.483464419034| 2854.817461283212|-20.339933463076477| 1.131950299356419| 0.1256591468526054|  4.346100668814982|253.38373180957637|1.6432748538011697|0.6209550834984927|\n",
      "+--------------------+--------------+------------------+------+------------------+-----------------+------------------+---------+------------------+--------------------+--------------------+------------------+----------+----------+--------------------+-------------------+-----------------+------------------+------------------+------------------+------------------+-------------------+------------------+-------------------+-------------------+------------------+------------------+------------------+\n",
      "only showing top 5 rows\n",
      "\n"
     ]
    }
   ],
   "source": [
    "df.show(5) # verify new features"
   ]
  },
  {
   "cell_type": "code",
   "execution_count": 6,
   "metadata": {
    "tags": []
   },
   "outputs": [
    {
     "name": "stderr",
     "output_type": "stream",
     "text": [
      "[Stage 78:=========================================>                (5 + 2) / 7]\r"
     ]
    },
    {
     "name": "stdout",
     "output_type": "stream",
     "text": [
      "cost_per_mw               -> 1.0000\n",
      "cost_per_gen              -> 1.0000\n",
      "total_pd                  -> 0.9990\n",
      "pd_per_load               -> 0.9990\n",
      "load_to_gen_ratio         -> 0.9990\n",
      "generation_margin         -> -0.9990\n",
      "num_generators            -> 0.0104\n",
      "trans_rate_a_sum          -> 0.0053\n",
      "br_x_mean                 -> 0.0026\n",
      "avg_cost_squared          -> -0.0004\n",
      "total_pg                  -> None (possibly constant)\n",
      "avg_vg                    -> None (possibly constant)\n",
      "avg_cost_linear           -> None (possibly constant)\n",
      "avg_cost_offset           -> None (possibly constant)\n",
      "num_loads                 -> None (possibly constant)\n",
      "br_r_mean                 -> None (possibly constant)\n",
      "rate_a_sum                -> None (possibly constant)\n",
      "rate_b_min                -> None (possibly constant)\n",
      "rate_c_max                -> None (possibly constant)\n",
      "trans_br_r_mean           -> None (possibly constant)\n",
      "trans_br_x_mean           -> None (possibly constant)\n",
      "tap_mean                  -> None (possibly constant)\n",
      "trans_to_br_ratio_r       -> None (possibly constant)\n",
      "trans_to_br_ratio_x       -> None (possibly constant)\n",
      "trans_rate_ratio          -> None (possibly constant)\n",
      "load_per_generator        -> None (possibly constant)\n",
      "Correlation evaluation took 205.50 seconds\n"
     ]
    },
    {
     "name": "stderr",
     "output_type": "stream",
     "text": [
      "                                                                                \r"
     ]
    }
   ],
   "source": [
    "from pyspark.sql.functions import corr\n",
    "\n",
    "feature_cols = [c for c in df.columns if c not in ['filename', 'total_cost']]\n",
    "\n",
    "start_time = time.time()\n",
    "correlations = []\n",
    "for col_name in feature_cols:\n",
    "    corr_value = df.select(corr(col_name, \"total_cost\").alias(\"corr\")).collect()[0][\"corr\"]\n",
    "    if corr_value is None:\n",
    "        correlations.append((col_name, None))\n",
    "    else:\n",
    "        correlations.append((col_name, corr_value))\n",
    "\n",
    "sorted_correlations = sorted(correlations, key=lambda x: abs(x[1]) if x[1] is not None else 0, reverse=True)\n",
    "\n",
    "for feature, value in sorted_correlations:\n",
    "    if value is not None:\n",
    "        print(f\"{feature:25} -> {value:.4f}\")\n",
    "    else:\n",
    "        print(f\"{feature:25} -> None (possibly constant)\")\n",
    "end_time = time.time() \n",
    "print(f\"Correlation evaluation took {end_time - start_time:.2f} seconds\")"
   ]
  },
  {
   "cell_type": "markdown",
   "metadata": {},
   "source": [
    "A lot of our values are returning None which implies that our features are constant (since we already checked for Null values). Therefore, let's investigate further and potentially prune the features that provide no usefullness for modeling. "
   ]
  },
  {
   "cell_type": "code",
   "execution_count": 7,
   "metadata": {
    "tags": []
   },
   "outputs": [
    {
     "name": "stderr",
     "output_type": "stream",
     "text": [
      "                                                                                \r"
     ]
    },
    {
     "name": "stdout",
     "output_type": "stream",
     "text": [
      "num_generators            | Unique values: 1\n"
     ]
    },
    {
     "name": "stderr",
     "output_type": "stream",
     "text": [
      "                                                                                \r"
     ]
    },
    {
     "name": "stdout",
     "output_type": "stream",
     "text": [
      "total_pg                  | Unique values: 1\n"
     ]
    },
    {
     "name": "stderr",
     "output_type": "stream",
     "text": [
      "                                                                                \r"
     ]
    },
    {
     "name": "stdout",
     "output_type": "stream",
     "text": [
      "avg_vg                    | Unique values: 1\n"
     ]
    },
    {
     "name": "stderr",
     "output_type": "stream",
     "text": [
      "                                                                                \r"
     ]
    },
    {
     "name": "stdout",
     "output_type": "stream",
     "text": [
      "avg_cost_squared          | Unique values: 1\n"
     ]
    },
    {
     "name": "stderr",
     "output_type": "stream",
     "text": [
      "                                                                                \r"
     ]
    },
    {
     "name": "stdout",
     "output_type": "stream",
     "text": [
      "avg_cost_linear           | Unique values: 1\n"
     ]
    },
    {
     "name": "stderr",
     "output_type": "stream",
     "text": [
      "                                                                                \r"
     ]
    },
    {
     "name": "stdout",
     "output_type": "stream",
     "text": [
      "avg_cost_offset           | Unique values: 1\n"
     ]
    },
    {
     "name": "stderr",
     "output_type": "stream",
     "text": [
      "                                                                                \r"
     ]
    },
    {
     "name": "stdout",
     "output_type": "stream",
     "text": [
      "num_loads                 | Unique values: 1\n"
     ]
    },
    {
     "name": "stderr",
     "output_type": "stream",
     "text": [
      "                                                                                \r"
     ]
    },
    {
     "name": "stdout",
     "output_type": "stream",
     "text": [
      "total_pd                  | Unique values: 15000\n"
     ]
    },
    {
     "name": "stderr",
     "output_type": "stream",
     "text": [
      "                                                                                \r"
     ]
    },
    {
     "name": "stdout",
     "output_type": "stream",
     "text": [
      "br_r_mean                 | Unique values: 1\n"
     ]
    },
    {
     "name": "stderr",
     "output_type": "stream",
     "text": [
      "                                                                                \r"
     ]
    },
    {
     "name": "stdout",
     "output_type": "stream",
     "text": [
      "br_x_mean                 | Unique values: 1\n"
     ]
    },
    {
     "name": "stderr",
     "output_type": "stream",
     "text": [
      "                                                                                \r"
     ]
    },
    {
     "name": "stdout",
     "output_type": "stream",
     "text": [
      "rate_a_sum                | Unique values: 1\n"
     ]
    },
    {
     "name": "stderr",
     "output_type": "stream",
     "text": [
      "                                                                                \r"
     ]
    },
    {
     "name": "stdout",
     "output_type": "stream",
     "text": [
      "rate_b_min                | Unique values: 1\n"
     ]
    },
    {
     "name": "stderr",
     "output_type": "stream",
     "text": [
      "                                                                                \r"
     ]
    },
    {
     "name": "stdout",
     "output_type": "stream",
     "text": [
      "rate_c_max                | Unique values: 1\n"
     ]
    },
    {
     "name": "stderr",
     "output_type": "stream",
     "text": [
      "                                                                                \r"
     ]
    },
    {
     "name": "stdout",
     "output_type": "stream",
     "text": [
      "trans_br_r_mean           | Unique values: 1\n"
     ]
    },
    {
     "name": "stderr",
     "output_type": "stream",
     "text": [
      "                                                                                \r"
     ]
    },
    {
     "name": "stdout",
     "output_type": "stream",
     "text": [
      "trans_br_x_mean           | Unique values: 1\n"
     ]
    },
    {
     "name": "stderr",
     "output_type": "stream",
     "text": [
      "                                                                                \r"
     ]
    },
    {
     "name": "stdout",
     "output_type": "stream",
     "text": [
      "trans_rate_a_sum          | Unique values: 1\n"
     ]
    },
    {
     "name": "stderr",
     "output_type": "stream",
     "text": [
      "                                                                                \r"
     ]
    },
    {
     "name": "stdout",
     "output_type": "stream",
     "text": [
      "tap_mean                  | Unique values: 1\n"
     ]
    },
    {
     "name": "stderr",
     "output_type": "stream",
     "text": [
      "                                                                                \r"
     ]
    },
    {
     "name": "stdout",
     "output_type": "stream",
     "text": [
      "cost_per_gen              | Unique values: 15000\n"
     ]
    },
    {
     "name": "stderr",
     "output_type": "stream",
     "text": [
      "                                                                                \r"
     ]
    },
    {
     "name": "stdout",
     "output_type": "stream",
     "text": [
      "cost_per_mw               | Unique values: 15000\n"
     ]
    },
    {
     "name": "stderr",
     "output_type": "stream",
     "text": [
      "                                                                                \r"
     ]
    },
    {
     "name": "stdout",
     "output_type": "stream",
     "text": [
      "generation_margin         | Unique values: 15000\n"
     ]
    },
    {
     "name": "stderr",
     "output_type": "stream",
     "text": [
      "                                                                                \r"
     ]
    },
    {
     "name": "stdout",
     "output_type": "stream",
     "text": [
      "load_to_gen_ratio         | Unique values: 15000\n"
     ]
    },
    {
     "name": "stderr",
     "output_type": "stream",
     "text": [
      "                                                                                \r"
     ]
    },
    {
     "name": "stdout",
     "output_type": "stream",
     "text": [
      "trans_to_br_ratio_r       | Unique values: 1\n"
     ]
    },
    {
     "name": "stderr",
     "output_type": "stream",
     "text": [
      "                                                                                \r"
     ]
    },
    {
     "name": "stdout",
     "output_type": "stream",
     "text": [
      "trans_to_br_ratio_x       | Unique values: 1\n"
     ]
    },
    {
     "name": "stderr",
     "output_type": "stream",
     "text": [
      "                                                                                \r"
     ]
    },
    {
     "name": "stdout",
     "output_type": "stream",
     "text": [
      "trans_rate_ratio          | Unique values: 1\n"
     ]
    },
    {
     "name": "stderr",
     "output_type": "stream",
     "text": [
      "                                                                                \r"
     ]
    },
    {
     "name": "stdout",
     "output_type": "stream",
     "text": [
      "load_per_generator        | Unique values: 1\n"
     ]
    },
    {
     "name": "stderr",
     "output_type": "stream",
     "text": [
      "[Stage 231:================================================>        (6 + 1) / 7]\r"
     ]
    },
    {
     "name": "stdout",
     "output_type": "stream",
     "text": [
      "pd_per_load               | Unique values: 15000\n"
     ]
    },
    {
     "name": "stderr",
     "output_type": "stream",
     "text": [
      "                                                                                \r"
     ]
    }
   ],
   "source": [
    "from pyspark.sql.functions import countDistinct\n",
    "# How many unique values are there per column?\n",
    "for col_name in feature_cols:\n",
    "    unique_vals = df.select(countDistinct(col_name)).collect()[0][0]\n",
    "    print(f\"{col_name:25} | Unique values: {unique_vals}\")"
   ]
  },
  {
   "cell_type": "code",
   "execution_count": 8,
   "metadata": {
    "tags": []
   },
   "outputs": [
    {
     "name": "stderr",
     "output_type": "stream",
     "text": [
      "                                                                                \r"
     ]
    },
    {
     "name": "stdout",
     "output_type": "stream",
     "text": [
      "num_generators            | Null/NaN count: 0\n"
     ]
    },
    {
     "name": "stderr",
     "output_type": "stream",
     "text": [
      "                                                                                \r"
     ]
    },
    {
     "name": "stdout",
     "output_type": "stream",
     "text": [
      "total_pg                  | Null/NaN count: 0\n"
     ]
    },
    {
     "name": "stderr",
     "output_type": "stream",
     "text": [
      "                                                                                \r"
     ]
    },
    {
     "name": "stdout",
     "output_type": "stream",
     "text": [
      "avg_vg                    | Null/NaN count: 0\n"
     ]
    },
    {
     "name": "stderr",
     "output_type": "stream",
     "text": [
      "                                                                                \r"
     ]
    },
    {
     "name": "stdout",
     "output_type": "stream",
     "text": [
      "avg_cost_squared          | Null/NaN count: 0\n"
     ]
    },
    {
     "name": "stderr",
     "output_type": "stream",
     "text": [
      "                                                                                \r"
     ]
    },
    {
     "name": "stdout",
     "output_type": "stream",
     "text": [
      "avg_cost_linear           | Null/NaN count: 0\n"
     ]
    },
    {
     "name": "stderr",
     "output_type": "stream",
     "text": [
      "                                                                                \r"
     ]
    },
    {
     "name": "stdout",
     "output_type": "stream",
     "text": [
      "avg_cost_offset           | Null/NaN count: 0\n"
     ]
    },
    {
     "name": "stderr",
     "output_type": "stream",
     "text": [
      "                                                                                \r"
     ]
    },
    {
     "name": "stdout",
     "output_type": "stream",
     "text": [
      "num_loads                 | Null/NaN count: 0\n"
     ]
    },
    {
     "name": "stderr",
     "output_type": "stream",
     "text": [
      "                                                                                \r"
     ]
    },
    {
     "name": "stdout",
     "output_type": "stream",
     "text": [
      "total_pd                  | Null/NaN count: 0\n"
     ]
    },
    {
     "name": "stderr",
     "output_type": "stream",
     "text": [
      "                                                                                \r"
     ]
    },
    {
     "name": "stdout",
     "output_type": "stream",
     "text": [
      "br_r_mean                 | Null/NaN count: 0\n"
     ]
    },
    {
     "name": "stderr",
     "output_type": "stream",
     "text": [
      "                                                                                \r"
     ]
    },
    {
     "name": "stdout",
     "output_type": "stream",
     "text": [
      "br_x_mean                 | Null/NaN count: 0\n"
     ]
    },
    {
     "name": "stderr",
     "output_type": "stream",
     "text": [
      "                                                                                \r"
     ]
    },
    {
     "name": "stdout",
     "output_type": "stream",
     "text": [
      "rate_a_sum                | Null/NaN count: 0\n"
     ]
    },
    {
     "name": "stderr",
     "output_type": "stream",
     "text": [
      "                                                                                \r"
     ]
    },
    {
     "name": "stdout",
     "output_type": "stream",
     "text": [
      "rate_b_min                | Null/NaN count: 0\n"
     ]
    },
    {
     "name": "stderr",
     "output_type": "stream",
     "text": [
      "                                                                                \r"
     ]
    },
    {
     "name": "stdout",
     "output_type": "stream",
     "text": [
      "rate_c_max                | Null/NaN count: 0\n"
     ]
    },
    {
     "name": "stderr",
     "output_type": "stream",
     "text": [
      "                                                                                \r"
     ]
    },
    {
     "name": "stdout",
     "output_type": "stream",
     "text": [
      "trans_br_r_mean           | Null/NaN count: 0\n"
     ]
    },
    {
     "name": "stderr",
     "output_type": "stream",
     "text": [
      "                                                                                \r"
     ]
    },
    {
     "name": "stdout",
     "output_type": "stream",
     "text": [
      "trans_br_x_mean           | Null/NaN count: 0\n"
     ]
    },
    {
     "name": "stderr",
     "output_type": "stream",
     "text": [
      "                                                                                \r"
     ]
    },
    {
     "name": "stdout",
     "output_type": "stream",
     "text": [
      "trans_rate_a_sum          | Null/NaN count: 0\n"
     ]
    },
    {
     "name": "stderr",
     "output_type": "stream",
     "text": [
      "                                                                                \r"
     ]
    },
    {
     "name": "stdout",
     "output_type": "stream",
     "text": [
      "tap_mean                  | Null/NaN count: 0\n"
     ]
    },
    {
     "name": "stderr",
     "output_type": "stream",
     "text": [
      "                                                                                \r"
     ]
    },
    {
     "name": "stdout",
     "output_type": "stream",
     "text": [
      "cost_per_gen              | Null/NaN count: 0\n"
     ]
    },
    {
     "name": "stderr",
     "output_type": "stream",
     "text": [
      "                                                                                \r"
     ]
    },
    {
     "name": "stdout",
     "output_type": "stream",
     "text": [
      "cost_per_mw               | Null/NaN count: 0\n"
     ]
    },
    {
     "name": "stderr",
     "output_type": "stream",
     "text": [
      "                                                                                \r"
     ]
    },
    {
     "name": "stdout",
     "output_type": "stream",
     "text": [
      "generation_margin         | Null/NaN count: 0\n"
     ]
    },
    {
     "name": "stderr",
     "output_type": "stream",
     "text": [
      "                                                                                \r"
     ]
    },
    {
     "name": "stdout",
     "output_type": "stream",
     "text": [
      "load_to_gen_ratio         | Null/NaN count: 0\n"
     ]
    },
    {
     "name": "stderr",
     "output_type": "stream",
     "text": [
      "                                                                                \r"
     ]
    },
    {
     "name": "stdout",
     "output_type": "stream",
     "text": [
      "trans_to_br_ratio_r       | Null/NaN count: 0\n"
     ]
    },
    {
     "name": "stderr",
     "output_type": "stream",
     "text": [
      "                                                                                \r"
     ]
    },
    {
     "name": "stdout",
     "output_type": "stream",
     "text": [
      "trans_to_br_ratio_x       | Null/NaN count: 0\n"
     ]
    },
    {
     "name": "stderr",
     "output_type": "stream",
     "text": [
      "                                                                                \r"
     ]
    },
    {
     "name": "stdout",
     "output_type": "stream",
     "text": [
      "trans_rate_ratio          | Null/NaN count: 0\n"
     ]
    },
    {
     "name": "stderr",
     "output_type": "stream",
     "text": [
      "                                                                                \r"
     ]
    },
    {
     "name": "stdout",
     "output_type": "stream",
     "text": [
      "load_per_generator        | Null/NaN count: 0\n"
     ]
    },
    {
     "name": "stderr",
     "output_type": "stream",
     "text": [
      "[Stage 312:========================================>                (5 + 2) / 7]\r"
     ]
    },
    {
     "name": "stdout",
     "output_type": "stream",
     "text": [
      "pd_per_load               | Null/NaN count: 0\n"
     ]
    },
    {
     "name": "stderr",
     "output_type": "stream",
     "text": [
      "                                                                                \r"
     ]
    }
   ],
   "source": [
    "from pyspark.sql.functions import col, isnan, when, count\n",
    "# Just to verify that there are no null values...\n",
    "for col_name in feature_cols:\n",
    "    nulls = df.select(count(when(col(col_name).isNull() | isnan(col(col_name)), col_name))).collect()[0][0]\n",
    "    print(f\"{col_name:25} | Null/NaN count: {nulls}\")"
   ]
  },
  {
   "cell_type": "markdown",
   "metadata": {},
   "source": [
    "From the analysis above, we can see that a decent amount of our features columns are constant. However, none of our columns have Null/NaN values. Therefore, we will prune the columns which contain constants.  "
   ]
  },
  {
   "cell_type": "code",
   "execution_count": 9,
   "metadata": {
    "tags": []
   },
   "outputs": [
    {
     "name": "stderr",
     "output_type": "stream",
     "text": [
      "[Stage 465:========================================>                (5 + 2) / 7]\r"
     ]
    },
    {
     "name": "stdout",
     "output_type": "stream",
     "text": [
      "Dropping constant columns: ['num_generators', 'total_pg', 'avg_vg', 'avg_cost_squared', 'avg_cost_linear', 'avg_cost_offset', 'num_loads', 'br_r_mean', 'br_x_mean', 'rate_a_sum', 'rate_b_min', 'rate_c_max', 'trans_br_r_mean', 'trans_br_x_mean', 'trans_rate_a_sum', 'tap_mean', 'trans_to_br_ratio_r', 'trans_to_br_ratio_x', 'trans_rate_ratio', 'load_per_generator']\n"
     ]
    },
    {
     "name": "stderr",
     "output_type": "stream",
     "text": [
      "                                                                                \r"
     ]
    }
   ],
   "source": [
    "constant_cols = []\n",
    "\n",
    "for col_name in feature_cols:\n",
    "    unique_vals = df.select(countDistinct(col_name)).collect()[0][0]\n",
    "    if unique_vals <= 1:\n",
    "        constant_cols.append(col_name)\n",
    "\n",
    "print(\"Dropping constant columns:\", constant_cols)\n",
    "\n",
    "# Drop them from the dataframe\n",
    "df_cleaned = df.drop(*constant_cols)"
   ]
  },
  {
   "cell_type": "code",
   "execution_count": 10,
   "metadata": {
    "tags": []
   },
   "outputs": [
    {
     "name": "stdout",
     "output_type": "stream",
     "text": [
      "+--------------------+------------------+------------------+------------------+------------------+-------------------+------------------+------------------+\n",
      "|            filename|          total_pd|        total_cost|      cost_per_gen|       cost_per_mw|  generation_margin| load_to_gen_ratio|       pd_per_load|\n",
      "+--------------------+------------------+------------------+------------------+------------------+-------------------+------------------+------------------+\n",
      "|gs://ds5460-tumli...|178.07434280491296| 457017.6915453811|2672.6180792127548| 2964.789502387657|-23.925897804912978| 1.155213358168569|0.6337165224374126|\n",
      "|gs://ds5460-tumli...|177.75404115936618|454991.87287162687| 2660.771186383783| 2951.647503623062|  -23.6055961593662|1.1531354802791958|0.6325766589301287|\n",
      "|gs://ds5460-tumli...|176.44749746510547|448851.02127889916|2624.8597735608137| 2911.810244202588| -22.29905246510549|1.1446596004591905|0.6279270372423682|\n",
      "|gs://ds5460-tumli...|179.48218836865323|463761.24465372495| 2712.054062302485|3008.5366391709304|-25.333743368653245|1.1643464088700555| 0.638726648998766|\n",
      "|gs://ds5460-tumli...|174.48837846307646| 440065.6724156548| 2573.483464419034| 2854.817461283212|-20.339933463076477| 1.131950299356419|0.6209550834984927|\n",
      "+--------------------+------------------+------------------+------------------+------------------+-------------------+------------------+------------------+\n",
      "only showing top 5 rows\n",
      "\n"
     ]
    }
   ],
   "source": [
    "df_cleaned.show(5)"
   ]
  },
  {
   "cell_type": "markdown",
   "metadata": {},
   "source": [
    "Now that we have shrunk our feature space to non-constant features, let's analyze the data."
   ]
  },
  {
   "cell_type": "code",
   "execution_count": 11,
   "metadata": {
    "tags": []
   },
   "outputs": [
    {
     "name": "stderr",
     "output_type": "stream",
     "text": [
      "[Stage 472:========================================>                (5 + 2) / 7]\r"
     ]
    },
    {
     "name": "stdout",
     "output_type": "stream",
     "text": [
      "+-------+------------------+------------------+------------------+------------------+-------------------+--------------------+--------------------+\n",
      "|summary|total_pd          |total_cost        |cost_per_gen      |cost_per_mw       |generation_margin  |load_to_gen_ratio   |pd_per_load         |\n",
      "+-------+------------------+------------------+------------------+------------------+-------------------+--------------------+--------------------+\n",
      "|count  |15000             |15000             |15000             |15000             |15000              |15000               |15000               |\n",
      "|mean   |177.71919542785125|455058.1915002695 |2661.1590146214635|2952.077729361917 |-23.57075042785142 |1.1529094271943596  |0.6324526527681543  |\n",
      "|stddev |1.425026235409197 |6803.242668321199 |39.785044843983606|44.134358074914054|1.425026235409197  |0.009244506069517587|0.005071267741669744|\n",
      "|min    |172.39261507968072|431924.47773403546|2525.8741387955292|2802.003469668705 |-29.115787346540202|1.1183545515472488  |0.6134968508173692  |\n",
      "|25%    |176.74316371483616|450371.4173528022 |2633.7509786713576|2921.6734385663262|-24.535783496562203|1.14657766229712    |0.628979230301908   |\n",
      "|50%    |177.72442943197422|454949.98666167975|2660.526237787601 |2951.3757771716723|-23.576489271839023|1.1529433815045895  |0.6324712791173459  |\n",
      "|75%    |178.68314578606018|459601.471041841  |2687.7279008294795|2981.551134309795 |-22.594932242371243|1.1591628172834323  |0.6358830810891821  |\n",
      "|max    |183.26423234654018|483044.36281320325|2824.8208351649314|3133.6311100199764|-18.244170079680742|1.1888814859374042  |0.6521858802367978  |\n",
      "+-------+------------------+------------------+------------------+------------------+-------------------+--------------------+--------------------+\n",
      "\n"
     ]
    },
    {
     "name": "stderr",
     "output_type": "stream",
     "text": [
      "                                                                                \r"
     ]
    }
   ],
   "source": [
    "df_cleaned.select(\n",
    "    \"total_pd\", \"total_cost\", \"cost_per_gen\", \"cost_per_mw\",\n",
    "    \"generation_margin\", \"load_to_gen_ratio\", \"pd_per_load\"\n",
    ").summary(\"count\", \"mean\", \"stddev\", \"min\", \"25%\", \"50%\", \"75%\", \"max\").show(truncate=False)"
   ]
  },
  {
   "cell_type": "code",
   "execution_count": 12,
   "metadata": {
    "tags": []
   },
   "outputs": [],
   "source": [
    "%matplotlib inline"
   ]
  },
  {
   "cell_type": "code",
   "execution_count": 13,
   "metadata": {
    "tags": []
   },
   "outputs": [
    {
     "name": "stderr",
     "output_type": "stream",
     "text": [
      "                                                                                \r"
     ]
    },
    {
     "data": {
      "image/png": "[encoded data removed]",
      "text/plain": [
       "<Figure size 1600x1200 with 7 Axes>"
      ]
     },
     "metadata": {},
     "output_type": "display_data"
    }
   ],
   "source": [
    "import matplotlib.pyplot as plt\n",
    "\n",
    "features = [\n",
    "    \"total_pd\", \"total_cost\", \"cost_per_gen\", \"cost_per_mw\",\n",
    "    \"generation_margin\", \"load_to_gen_ratio\", \"pd_per_load\"\n",
    "]\n",
    "\n",
    "# Sample ~10% of data to speed things up\n",
    "sample_df = df_cleaned.select(*features).sample(fraction=0.1, seed=42).dropna()\n",
    "sample_pd = sample_df.toPandas()\n",
    "\n",
    "# Plot\n",
    "plt.figure(figsize=(16, 12))\n",
    "for i, col_name in enumerate(features, 1):\n",
    "    plt.subplot(3, 3, i)\n",
    "    plt.hist(sample_pd[col_name], bins=30, color='steelblue', edgecolor='black')\n",
    "    plt.title(col_name)\n",
    "    plt.xlabel(\"Value\")\n",
    "    plt.ylabel(\"Frequency\")\n",
    "\n",
    "plt.tight_layout()\n",
    "plt.show()"
   ]
  },
  {
   "cell_type": "markdown",
   "metadata": {},
   "source": [
    "**Edits: 04/07/25**\n",
    "\n",
    "Upon doing some further analysis on the dataset, we have found that in general our feature space is highly correlated and does not provide much nuance for our model to train and find correlations to the total cost. Our data is based upon generation, load, transformer, and AC power lines. When performing analysis, we found that there are many constant features (which are not none or null). This is due to the fact that for each input grid the generation, ac lines, and transformer features are kept the same. The load features of the grid are what are varied and what to lead to differences in predictions. This makes sense as the dataset is synthetically generated. Therefore, I am going to look at doing some feature engineering specifically in regards to the load features. "
   ]
  },
  {
   "cell_type": "markdown",
   "metadata": {},
   "source": [
    "### Load Feature Engineering "
   ]
  },
  {
   "cell_type": "code",
   "execution_count": 18,
   "metadata": {},
   "outputs": [
    {
     "data": {
      "text/plain": [
       "(15000, 4)"
      ]
     },
     "execution_count": 18,
     "metadata": {},
     "output_type": "execute_result"
    }
   ],
   "source": [
    "# Start by reading in the non-aggregated data \n",
    "df = spark.read.parquet(\"gs://ds5460-tumlinam-fp-bucket/opf_data_parquet/\")\n",
    "df.count(), len(df_parquet.columns)"
   ]
  },
  {
   "cell_type": "code",
   "execution_count": 19,
   "metadata": {},
   "outputs": [
    {
     "name": "stdout",
     "output_type": "stream",
     "text": [
      "+--------------------+-------------------+--------------------+\n",
      "|            filename|                 pd|                  qd|\n",
      "+--------------------+-------------------+--------------------+\n",
      "|gs://ds5460-tumli...|0.28673451151559004| 0.06606636299808374|\n",
      "|gs://ds5460-tumli...| 1.1682192385751553|  0.2286088931026518|\n",
      "|gs://ds5460-tumli...|0.47305084490987326|  0.1108576311506781|\n",
      "|gs://ds5460-tumli...| 0.7376655330764088|0.040399505505900886|\n",
      "|gs://ds5460-tumli...| 0.8973411417881758|  0.1582530803391884|\n",
      "+--------------------+-------------------+--------------------+\n",
      "only showing top 5 rows\n",
      "\n"
     ]
    }
   ],
   "source": [
    "from pyspark.sql.functions import explode, col, count, sum as spark_sum, avg, stddev, max, min, expr\n",
    "\n",
    "load_df = df.select(\n",
    "    \"filename\",\n",
    "    explode(\"grid.nodes.load\").alias(\"load_array\")\n",
    ").select(\n",
    "    \"filename\",\n",
    "    col(\"load_array\")[0].alias(\"pd\"),\n",
    "    col(\"load_array\")[1].alias(\"qd\")\n",
    ")\n",
    "load_df.show(5)"
   ]
  },
  {
   "cell_type": "code",
   "execution_count": 22,
   "metadata": {},
   "outputs": [
    {
     "name": "stdout",
     "output_type": "stream",
     "text": [
      "+--------------------+---------+------------------+------------------+-------------------+------------------+--------------------+------------------+------------------+-------------------+-------------------+\n",
      "|            filename|num_loads|          total_pd|            avg_pd|             std_pd|            max_pd|              min_pd|          pd_range|          total_qd|             avg_qd|             std_qd|\n",
      "+--------------------+---------+------------------+------------------+-------------------+------------------+--------------------+------------------+------------------+-------------------+-------------------+\n",
      "|gs://ds5460-tumli...|      281|178.03694880523543|0.6335834477054642| 0.4019725630211349|3.5419424350275617|8.041440267559536E-4| 3.541138291000806|45.820161104311175|0.16306107154559138|0.14294399920458845|\n",
      "|gs://ds5460-tumli...|      281|177.34560942684104|0.6311231652200748|0.39949501211903493|3.5886751942556323|8.738419650607778E-4|3.5878013522905716|46.127842196081296|0.16415602205011137|0.13949875134960144|\n",
      "|gs://ds5460-tumli...|      281| 177.0129832664897|0.6299394422295007| 0.3957090125980532| 3.528473293270829|9.213074964370224E-4|3.5275519857743918| 45.48835049004578|0.16188025085425545|0.13276060942579548|\n",
      "|gs://ds5460-tumli...|      281|178.13048217124472|0.6339163066592339| 0.3914174263181168| 3.009508977656722|0.001026159793874072| 3.008482817862848|45.736488839514934|0.16276330547870083|0.13490702945195948|\n",
      "|gs://ds5460-tumli...|      281|178.54569167837886|0.6353939205636259| 0.4050659395562122|  3.57719391128999|9.076358445337725E-4|3.5762862754454563| 46.50108888604086|0.16548430208555467|0.14144634249852459|\n",
      "+--------------------+---------+------------------+------------------+-------------------+------------------+--------------------+------------------+------------------+-------------------+-------------------+\n",
      "only showing top 5 rows\n",
      "\n"
     ]
    }
   ],
   "source": [
    "# Aggregate load features\n",
    "load_agg = load_df.groupBy(\"filename\").agg(\n",
    "    count(\"*\").alias(\"num_loads\"),\n",
    "    spark_sum(\"pd\").alias(\"total_pd\"),\n",
    "    avg(\"pd\").alias(\"avg_pd\"),\n",
    "    stddev(\"pd\").alias(\"std_pd\"),\n",
    "    max(\"pd\").alias(\"max_pd\"),\n",
    "    min(\"pd\").alias(\"min_pd\"),\n",
    "    expr(\"max(pd) - min(pd)\").alias(\"pd_range\"),\n",
    "\n",
    "    spark_sum(\"qd\").alias(\"total_qd\"),\n",
    "    avg(\"qd\").alias(\"avg_qd\"),\n",
    "    stddev(\"qd\").alias(\"std_qd\")\n",
    ")\n",
    "load_agg.show(5)"
   ]
  },
  {
   "cell_type": "markdown",
   "metadata": {},
   "source": [
    "**Explanation of Aggregated Features:**\n",
    "\n",
    "total_pd: Total system active power demand — primary driver of generation cost; more demand typically increases dispatch cost.\n",
    "\n",
    "avg_pd: Average demand per load node — helps normalize demand across differently sized systems and reflects overall load distribution.\n",
    "\n",
    "std_pd: Standard deviation of active power demand — captures how unevenly demand is distributed across the system; higher values may suggest load imbalances or localized stress.\n",
    "\n",
    "max_pd: Maximum single load value — indicates the presence of large, possibly industrial, loads that may drive localized grid constraints.\n",
    "\n",
    "min_pd: Minimum single load value — provides context for load disparity and helps define the overall load range.\n",
    "\n",
    "pd_range: Difference between maximum and minimum load (max_pd - min_pd) — quantifies load disparity, which may affect dispatch strategy or network congestion.\n",
    "\n",
    "num_loads: Total number of load nodes — proxy for system size and granularity; systems with more loads may be more complex or realistic.\n",
    "\n",
    "total_qd: Total system reactive power demand — contributes to voltage control requirements and can influence the use of generators or transformers for VAR support.\n",
    "\n",
    "avg_qd: Average reactive demand per load node — gives insight into how much reactive power is needed per location; helps in understanding voltage regulation needs.\n",
    "\n",
    "std_qd: Standard deviation of reactive demand — variability in qd can stress parts of the network and impact voltage stability."
   ]
  },
  {
   "cell_type": "markdown",
   "metadata": {},
   "source": [
    "**Let's evaluate how newly aggregated load features perform on a simple linear regression model.**"
   ]
  },
  {
   "cell_type": "code",
   "execution_count": 23,
   "metadata": {},
   "outputs": [],
   "source": [
    "from pyspark.sql.functions import col\n",
    "\n",
    "target_df = df.select(\"filename\", col(\"metadata.objective\").alias(\"total_cost\")) # get objective = total cost\n",
    "\n",
    "model_df = load_agg.join(target_df, on=\"filename\", how=\"inner\") # join dataframes together"
   ]
  },
  {
   "cell_type": "code",
   "execution_count": 24,
   "metadata": {},
   "outputs": [],
   "source": [
    "from pyspark.ml.feature import VectorAssembler\n",
    "\n",
    "feature_cols = [c for c in model_df.columns if c != \"filename\" and c != \"total_cost\"]\n",
    "\n",
    "assembler = VectorAssembler(inputCols=feature_cols, outputCol=\"features\")\n",
    "assembled_df = assembler.transform(model_df).select(\"features\", \"total_cost\")"
   ]
  },
  {
   "cell_type": "code",
   "execution_count": 25,
   "metadata": {},
   "outputs": [],
   "source": [
    "train_df, test_df = assembled_df.randomSplit([0.8, 0.2], seed=42)"
   ]
  },
  {
   "cell_type": "code",
   "execution_count": null,
   "metadata": {},
   "outputs": [
    {
     "name": "stdout",
     "output_type": "stream",
     "text": [
      "Training took 310.83 seconds\n"
     ]
    }
   ],
   "source": [
    "from pyspark.ml.regression import LinearRegression\n",
    "start_time = time.time()\n",
    "lr = LinearRegression(featuresCol=\"features\", labelCol=\"total_cost\")\n",
    "lr_model = lr.fit(train_df)\n",
    "end_time = time.time()\n",
    "print(f\"Training took {end_time - start_time:.2f} seconds\")"
   ]
  },
  {
   "cell_type": "code",
   "execution_count": 29,
   "metadata": {},
   "outputs": [
    {
     "name": "stdout",
     "output_type": "stream",
     "text": [
      "+------------------+------------------+\n",
      "|        total_cost|        prediction|\n",
      "+------------------+------------------+\n",
      "|441222.59195533436|441303.95750974386|\n",
      "|443197.46306130086| 442921.1540644871|\n",
      "| 443435.1858361645|  443506.459950762|\n",
      "| 448868.3027144485| 448868.0070028816|\n",
      "| 449576.6898633523|449658.62732984056|\n",
      "+------------------+------------------+\n",
      "only showing top 5 rows\n",
      "\n",
      "RMSE: 291.4842795828821\n",
      "R2: 0.9981641084678126\n"
     ]
    }
   ],
   "source": [
    "predictions = lr_model.transform(test_df)\n",
    "predictions.select(\"total_cost\", \"prediction\").show(5)\n",
    "\n",
    "# Print evaluation metrics\n",
    "training_summary = lr_model.summary\n",
    "print(f\"RMSE: {training_summary.rootMeanSquaredError}\")\n",
    "print(f\"R2: {training_summary.r2}\")"
   ]
  },
  {
   "cell_type": "markdown",
   "metadata": {},
   "source": [
    "The load features perform fairly well with a simple linear regression model. It performs similar to our baselines with a RMSE around 291.5. This means our model is on average making mistakes in predictions around 300 dollars. Our R^2 value is very close to 1 which says that our model is predicting well. So, the additional load features are performing well. But can we make it better?"
   ]
  },
  {
   "cell_type": "markdown",
   "metadata": {},
   "source": [
    "**Add more nunance to load features**\n",
    "\n",
    "To improve our model, let's create more nuanced load features. Specifically, let's try to encode some overarching grid information through our load features which can have impacts on costs in the grid. "
   ]
  },
  {
   "cell_type": "code",
   "execution_count": 31,
   "metadata": {},
   "outputs": [
    {
     "name": "stdout",
     "output_type": "stream",
     "text": [
      "+--------------------+---------+------------------+------------------+-------------------+------------------+--------------------+------------------+------------------+-------------------+-------------------+------------------+--------------------+-----------------+------------------+------------------+-------------------+\n",
      "|            filename|num_loads|          total_pd|            avg_pd|             std_pd|            max_pd|              min_pd|          pd_range|          total_qd|             avg_qd|             std_qd|       pd_per_load|  load_concentration|        load_skew|        load_range|  load_variability|     reactive_ratio|\n",
      "+--------------------+---------+------------------+------------------+-------------------+------------------+--------------------+------------------+------------------+-------------------+-------------------+------------------+--------------------+-----------------+------------------+------------------+-------------------+\n",
      "|gs://ds5460-tumli...|      281|178.03694880523543|0.6335834477054642| 0.4019725630211349|3.5419424350275617|8.041440267559536E-4| 3.541138291000806|45.820161104311175|0.16306107154559138|0.14294399920458845|0.6335834477054642|0.019894423369961764|5.590332966959256| 3.541138291000806|0.6344429679734959|  0.257363212590418|\n",
      "|gs://ds5460-tumli...|      281|177.34560942684104|0.6311231652200748|0.39949501211903493|3.5886751942556323|8.738419650607778E-4|3.5878013522905716|46.127842196081296|0.16415602205011137|0.13949875134960144|0.6311231652200748| 0.02023548936933812|5.686172512784013|3.5878013522905716|0.6329905700414746| 0.2601014050765663|\n",
      "|gs://ds5460-tumli...|      281| 177.0129832664897|0.6299394422295007| 0.3957090125980532| 3.528473293270829|9.213074964370224E-4|3.5275519857743918| 45.48835049004578|0.16188025085425545|0.13276060942579548|0.6299394422295007|0.019933415211463777|5.601289674421322|3.5275519857743918|0.6281699256638827|0.25697748069453147|\n",
      "|gs://ds5460-tumli...|      281|178.13048217124472|0.6339163066592339| 0.3914174263181168| 3.009508977656722|0.001026159793874072| 3.008482817862848|45.736488839514934|0.16276330547870083|0.13490702945195948|0.6339163066592339|0.016894969019190933|4.747486294392651| 3.008482817862848|0.6174591538446194|0.25675835085623594|\n",
      "|gs://ds5460-tumli...|      281|178.54569167837886|0.6353939205636259| 0.4050659395562122|  3.57719391128999|9.076358445337725E-4|3.5762862754454563| 46.50108888604086|0.16548430208555467|0.14144634249852459|0.6353939205636259| 0.02003517350468319|5.629883754815976|3.5762862754454563|0.6375036437189997| 0.2604436346176588|\n",
      "+--------------------+---------+------------------+------------------+-------------------+------------------+--------------------+------------------+------------------+-------------------+-------------------+------------------+--------------------+-----------------+------------------+------------------+-------------------+\n",
      "only showing top 5 rows\n",
      "\n"
     ]
    }
   ],
   "source": [
    "from pyspark.sql.functions import expr\n",
    "\n",
    "load_features_extended = load_agg.withColumn(\"pd_per_load\", expr(\"total_pd / num_loads\")) \\\n",
    "    .withColumn(\"load_concentration\", expr(\"max_pd / total_pd\")) \\\n",
    "    .withColumn(\"load_skew\", expr(\"max_pd / avg_pd\")) \\\n",
    "    .withColumn(\"load_range\", expr(\"max_pd - min_pd\")) \\\n",
    "    .withColumn(\"load_variability\", expr(\"std_pd / avg_pd\")) \\\n",
    "    .withColumn(\"reactive_ratio\", expr(\"total_qd / total_pd\"))\n",
    "load_features_extended.show(5)"
   ]
  },
  {
   "cell_type": "markdown",
   "metadata": {},
   "source": [
    "**More Features Explanation**\n",
    "\n",
    "pd_per_load: Average active power demand per load node — helps normalize total demand across systems of different sizes; indicates average burden per node.\n",
    "\n",
    "load_concentration: Ratio of the largest load to total system demand (max_pd / total_pd) — captures whether one load dominates the system, which could cause local stress and increase cost.\n",
    "\n",
    "load_skew: Ratio of the largest load to the average load (max_pd / avg_pd) — highlights imbalance in the load distribution; higher values may imply difficult-to-serve systems.\n",
    "\n",
    "load_range: Difference between the maximum and minimum load (max_pd - min_pd) — quantifies the spread in demand across the system; a proxy for diversity in load magnitudes.\n",
    "\n",
    "load_variability: Relative standard deviation of loads (std_pd / avg_pd) — measures how unevenly demand is distributed; higher values may result in inefficient or expensive dispatch.\n",
    "\n",
    "reactive_ratio: Ratio of total reactive to active power (total_qd / total_pd) — represents the system's VAR burden; high values can signal voltage control challenges and possible transformer/generator stress."
   ]
  },
  {
   "cell_type": "code",
   "execution_count": 36,
   "metadata": {},
   "outputs": [],
   "source": [
    "load_features_extended_with_cost = load_features_extended.join(target_df, on=\"filename\", how=\"inner\")"
   ]
  },
  {
   "cell_type": "code",
   "execution_count": 37,
   "metadata": {},
   "outputs": [
    {
     "data": {
      "text/plain": [
       "['filename',\n",
       " 'num_loads',\n",
       " 'total_pd',\n",
       " 'avg_pd',\n",
       " 'std_pd',\n",
       " 'max_pd',\n",
       " 'min_pd',\n",
       " 'pd_range',\n",
       " 'total_qd',\n",
       " 'avg_qd',\n",
       " 'std_qd',\n",
       " 'pd_per_load',\n",
       " 'load_concentration',\n",
       " 'load_skew',\n",
       " 'load_range',\n",
       " 'load_variability',\n",
       " 'reactive_ratio',\n",
       " 'total_cost']"
      ]
     },
     "execution_count": 37,
     "metadata": {},
     "output_type": "execute_result"
    }
   ],
   "source": [
    "load_features_extended_with_cost.columns"
   ]
  },
  {
   "cell_type": "code",
   "execution_count": 39,
   "metadata": {},
   "outputs": [
    {
     "name": "stdout",
     "output_type": "stream",
     "text": [
      "Done.\n"
     ]
    }
   ],
   "source": [
    "load_features_extended_with_cost.write.mode(\"overwrite\").parquet(\n",
    "    \"gs://ds5460-tumlinam-fp-bucket/final_datasets/load_features_extended_with_cost/\"\n",
    ")\n",
    "print(\"Done.\")"
   ]
  },
  {
   "cell_type": "code",
   "execution_count": null,
   "metadata": {},
   "outputs": [
    {
     "name": "stdout",
     "output_type": "stream",
     "text": [
      "total_pd                  -> 0.9990\n",
      "avg_pd                    -> 0.9990\n",
      "pd_per_load               -> 0.9990\n",
      "reactive_ratio            -> -0.6665\n",
      "std_pd                    -> 0.6223\n",
      "load_variability          -> 0.3792\n",
      "pd_range                  -> 0.2368\n",
      "load_range                -> 0.2368\n",
      "max_pd                    -> 0.2368\n",
      "load_concentration        -> 0.1699\n",
      "load_skew                 -> 0.1699\n",
      "min_pd                    -> -0.0073\n",
      "std_qd                    -> -0.0067\n",
      "avg_qd                    -> -0.0027\n",
      "total_qd                  -> -0.0027\n",
      "num_loads                 -> None (possibly constant)\n",
      "Correlation evaluation took 1219.44 seconds\n"
     ]
    }
   ],
   "source": [
    "feature_cols = [c for c in load_features_extended_with_cost.columns if c not in ['filename', 'total_cost']]\n",
    "\n",
    "start_time = time.time()\n",
    "correlations = []\n",
    "for col_name in feature_cols:\n",
    "    corr_value = load_features_extended_with_cost.select(corr(col_name, \"total_cost\").alias(\"corr\")).collect()[0][\"corr\"]\n",
    "    if corr_value is None:\n",
    "        correlations.append((col_name, None))\n",
    "    else:\n",
    "        correlations.append((col_name, corr_value))\n",
    "\n",
    "sorted_correlations = sorted(correlations, key=lambda x: abs(x[1]) if x[1] is not None else 0, reverse=True)\n",
    "\n",
    "for feature, value in sorted_correlations:\n",
    "    if value is not None:\n",
    "        print(f\"{feature:25} -> {value:.4f}\")\n",
    "    else:\n",
    "        print(f\"{feature:25} -> None (possibly constant)\")\n",
    "end_time = time.time() \n",
    "print(f\"Correlation evaluation took {end_time - start_time:.2f} seconds\")"
   ]
  },
  {
   "cell_type": "code",
   "execution_count": 41,
   "metadata": {},
   "outputs": [
    {
     "data": {
      "image/png": "[encoded data removed]",
      "text/plain": [
       "<Figure size 1008x720 with 6 Axes>"
      ]
     },
     "metadata": {
      "needs_background": "light"
     },
     "output_type": "display_data"
    }
   ],
   "source": [
    "engineered_features = [\n",
    "    \"pd_per_load\",\n",
    "    \"load_concentration\",\n",
    "    \"load_skew\",\n",
    "    \"load_range\",\n",
    "    \"load_variability\",\n",
    "    \"reactive_ratio\"\n",
    "]\n",
    "\n",
    "# Sample ~10% of data\n",
    "sample_df = load_features_extended_with_cost.select(*engineered_features).sample(fraction=0.1, seed=42).dropna()\n",
    "sample_pd = sample_df.toPandas()\n",
    "\n",
    "# Plot histograms\n",
    "plt.figure(figsize=(14, 10))\n",
    "for i, col_name in enumerate(engineered_features, 1):\n",
    "    plt.subplot(3, 2, i)\n",
    "    plt.hist(sample_pd[col_name], bins=30, color='darkcyan', edgecolor='black')\n",
    "    plt.title(col_name)\n",
    "    plt.xlabel(\"Value\")\n",
    "    plt.ylabel(\"Frequency\")\n",
    "\n",
    "plt.tight_layout()\n",
    "plt.show()"
   ]
  },
  {
   "cell_type": "markdown",
   "metadata": {},
   "source": [
    "Now let's add the informative load features with the cleaned features from earlier to get our final feature dataset. "
   ]
  },
  {
   "cell_type": "code",
   "execution_count": null,
   "metadata": {},
   "outputs": [
    {
     "name": "stdout",
     "output_type": "stream",
     "text": [
      "+--------------------+------------------+------------------+------------------+-------------------+-------------------+------------------+------------------+------------------+------------------+--------------------+-----------------+-------------------+------------------+\n",
      "|            filename|        total_cost|            avg_pd|       pd_per_load|     reactive_ratio|             std_pd|  load_variability|          pd_range|        load_range|            max_pd|  load_concentration|        load_skew|  generation_margin| load_to_gen_ratio|\n",
      "+--------------------+------------------+------------------+------------------+-------------------+-------------------+------------------+------------------+------------------+------------------+--------------------+-----------------+-------------------+------------------+\n",
      "|gs://ds5460-tumli...| 450649.8969254288|0.6288539760583007|0.6288539760583007| 0.2585331757467569|0.38051412452406946|0.6050913868894616| 2.895029383844323| 2.895029383844323| 2.896119595690451| 0.01638929834570669| 4.60539283514358|-22.559522272382537|1.1463493340616089|\n",
      "|gs://ds5460-tumli...|455002.35154827207|0.6324483970631406|0.6324483970631406| 0.2588689770977034| 0.3931738234087296|0.6216694124524392|2.9853659038887645|2.9853659038887645|2.9863718998582063| 0.01680399231931616|4.721921841727842| -23.56955457474254|   1.1529016693924|\n",
      "|gs://ds5460-tumli...| 459083.5686723181|0.6352034226570759|0.6352034226570759|0.25790595841672637|0.39883518954955904|0.6278857690678349| 3.420219440335593| 3.420219440335593|3.4210976329985403|0.019166654709865096|5.385829973472091|-24.343716766638323|1.1579238555837414|\n",
      "|gs://ds5460-tumli...| 451429.3459410412|0.6299183022231439|0.6299183022231439| 0.2568547051516664| 0.3855469441426993| 0.612058647577003|3.1581881416827393|3.1581881416827393|3.1589573242113973|0.017846506398929998| 5.01486829809933|-22.858597924703474|1.1482895135575548|\n",
      "|gs://ds5460-tumli...| 462125.6292953492|0.6378360918297441|0.6378360918297441|0.25374733671764493| 0.4040720943198921|0.6335045938851481|3.3155428238540665|3.3155428238540665|  3.31630732853392|0.018502881211640055|5.199309620470855|-25.083496804158102|1.1627229960325458|\n",
      "+--------------------+------------------+------------------+------------------+-------------------+-------------------+------------------+------------------+------------------+------------------+--------------------+-----------------+-------------------+------------------+\n",
      "only showing top 5 rows\n",
      "\n"
     ]
    }
   ],
   "source": [
    "# Select the expressive subset from df_cleaned\n",
    "expressive_df = df_cleaned.select(\n",
    "    \"filename\", \"generation_margin\", \"load_to_gen_ratio\"\n",
    ")\n",
    "\n",
    "# Select strong load-based features\n",
    "top_load_features = [\n",
    "    \"filename\", \"total_cost\", \"avg_pd\", \"pd_per_load\", \"reactive_ratio\", \"std_pd\",\n",
    "    \"load_variability\", \"pd_range\", \"load_range\", \"max_pd\", \"load_concentration\", \"load_skew\"\n",
    "]\n",
    "\n",
    "load_subset = load_features_extended_with_cost.select(*top_load_features)\n",
    "\n",
    "# Join on filename\n",
    "combined_features_df = load_subset.join(expressive_df, on=\"filename\", how=\"inner\")\n",
    "combined_features_df.show(5)"
   ]
  },
  {
   "cell_type": "code",
   "execution_count": 54,
   "metadata": {},
   "outputs": [
    {
     "name": "stdout",
     "output_type": "stream",
     "text": [
      "Done.\n"
     ]
    }
   ],
   "source": [
    "combined_features_df.write.mode(\"overwrite\").parquet(\n",
    "    \"gs://ds5460-tumlinam-fp-bucket/final_datasets/combined_features_df/\"\n",
    ")\n",
    "print(\"Done.\")"
   ]
  },
  {
   "cell_type": "markdown",
   "metadata": {},
   "source": [
    "### Important - Load in New Features for Hyperparamater Tuning\n",
    "\n",
    "Make sure to save parquet file and then utilize it for the hyperparameter tuning below. "
   ]
  },
  {
   "cell_type": "code",
   "execution_count": 24,
   "metadata": {
    "tags": []
   },
   "outputs": [
    {
     "name": "stdout",
     "output_type": "stream",
     "text": [
      "+--------------------+------------------+------------------+------------------+-------------------+-------------------+------------------+------------------+------------------+------------------+--------------------+-----------------+-------------------+------------------+\n",
      "|            filename|        total_cost|            avg_pd|       pd_per_load|     reactive_ratio|             std_pd|  load_variability|          pd_range|        load_range|            max_pd|  load_concentration|        load_skew|  generation_margin| load_to_gen_ratio|\n",
      "+--------------------+------------------+------------------+------------------+-------------------+-------------------+------------------+------------------+------------------+------------------+--------------------+-----------------+-------------------+------------------+\n",
      "|gs://ds5460-tumli...| 457017.6915453811|0.6337165224374126|0.6337165224374126|0.25578066583740294| 0.3907887552662506| 0.616661774515822| 2.895855111560307| 2.895855111560307| 2.896857380754912|0.016267685367389092|4.571219588236335|-23.925897804912978| 1.155213358168569|\n",
      "|gs://ds5460-tumli...|454991.87287162687|0.6325766589301287|0.6325766589301287| 0.2597953969267807| 0.3769497004199716| 0.595895683311337| 2.439824554322636| 2.439824554322636|2.4408215248119336| 0.01373145447997778|3.858538708873757|  -23.6055961593662|1.1531354802791958|\n",
      "|gs://ds5460-tumli...|448851.02127889916|0.6279270372423682|0.6279270372423682|0.25605530170037727|0.38998201708561286|0.6210626298212527| 3.497348357174466| 3.497348357174466|3.4982363179582276|0.019825933312826068|5.571087260904125| -22.29905246510549|1.1446596004591905|\n",
      "|gs://ds5460-tumli...|463761.24465372495| 0.638726648998766| 0.638726648998766| 0.2558146877696568|0.40297628147399805| 0.630905696678982|3.4845319645432706|3.4845319645432706|3.4854577382705543|0.019419518838891613|5.456884793728543|-25.333743368653245|1.1643464088700555|\n",
      "|gs://ds5460-tumli...| 440065.6724156548|0.6209550834984927|0.6209550834984927| 0.2661209310004867| 0.3690136284391097|0.5942678274893379|2.7043174292081553|2.7043174292081553| 2.705264590790738|0.015503981495038078|  4.3566188001057|-20.339933463076477| 1.131950299356419|\n",
      "+--------------------+------------------+------------------+------------------+-------------------+-------------------+------------------+------------------+------------------+------------------+--------------------+-----------------+-------------------+------------------+\n",
      "only showing top 5 rows\n",
      "\n"
     ]
    }
   ],
   "source": [
    "df = spark.read.parquet(\"gs://dataproc-temp-us-east1-299400297029-hnyjjiwf/final_datasets/combined_features_df/\")\n",
    "df.show(5)"
   ]
  },
  {
   "cell_type": "markdown",
   "metadata": {},
   "source": [
    "**How well does a simple LR train with our features now?**"
   ]
  },
  {
   "cell_type": "code",
   "execution_count": 25,
   "metadata": {
    "tags": []
   },
   "outputs": [],
   "source": [
    "from pyspark.ml.feature import VectorAssembler\n",
    "\n",
    "feature_cols = [c for c in df.columns if c != \"filename\" and c != \"total_cost\"]\n",
    "\n",
    "assembler = VectorAssembler(inputCols=feature_cols, outputCol=\"features\")\n",
    "assembled_df = assembler.transform(df).select(\"features\", \"total_cost\")"
   ]
  },
  {
   "cell_type": "code",
   "execution_count": 26,
   "metadata": {
    "tags": []
   },
   "outputs": [],
   "source": [
    "train_df, test_df = assembled_df.randomSplit([0.8, 0.2], seed=42)"
   ]
  },
  {
   "cell_type": "code",
   "execution_count": 27,
   "metadata": {
    "tags": []
   },
   "outputs": [
    {
     "name": "stderr",
     "output_type": "stream",
     "text": [
      "25/04/09 03:17:21 WARN Instrumentation: [a7faea20] regParam is zero, which might cause numerical instability and overfitting.\n",
      "25/04/09 03:17:29 WARN Instrumentation: [a7faea20] Cholesky solver failed due to singular covariance matrix. Retrying with Quasi-Newton solver.\n",
      "25/04/09 03:17:29 ERROR LBFGS: Failure! Resetting history: breeze.optimize.FirstOrderException: Line search zoom failed\n",
      "25/04/09 03:17:29 ERROR LBFGS: Failure again! Giving up and returning. Maybe the objective is just poorly behaved?\n",
      "[Stage 1124:========================================>               (5 + 2) / 7]\r"
     ]
    },
    {
     "name": "stdout",
     "output_type": "stream",
     "text": [
      "Training took 16.94 seconds\n"
     ]
    },
    {
     "name": "stderr",
     "output_type": "stream",
     "text": [
      "                                                                                \r"
     ]
    }
   ],
   "source": [
    "from pyspark.ml.regression import LinearRegression\n",
    "start_time = time.time()\n",
    "lr = LinearRegression(featuresCol=\"features\", labelCol=\"total_cost\")\n",
    "lr_model = lr.fit(train_df)\n",
    "end_time = time.time()\n",
    "print(f\"Training took {end_time - start_time:.2f} seconds\")"
   ]
  },
  {
   "cell_type": "code",
   "execution_count": 28,
   "metadata": {
    "tags": []
   },
   "outputs": [
    {
     "name": "stderr",
     "output_type": "stream",
     "text": [
      "[Stage 1126:>                                                       (0 + 1) / 1]\r"
     ]
    },
    {
     "name": "stdout",
     "output_type": "stream",
     "text": [
      "+-----------------+------------------+\n",
      "|       total_cost|        prediction|\n",
      "+-----------------+------------------+\n",
      "|436047.0847022127|   435973.34445447|\n",
      "|437287.9983684061| 436801.5547514955|\n",
      "|437540.8968111226|436889.93737683445|\n",
      "|438577.7912702936|438088.12436478806|\n",
      "|438938.4666294306|438891.72578421014|\n",
      "+-----------------+------------------+\n",
      "only showing top 5 rows\n",
      "\n",
      "RMSE: 277.189072527275\n",
      "R2: 0.9983331073197309\n"
     ]
    },
    {
     "name": "stderr",
     "output_type": "stream",
     "text": [
      "                                                                                \r"
     ]
    }
   ],
   "source": [
    "predictions = lr_model.transform(test_df)\n",
    "predictions.select(\"total_cost\", \"prediction\").show(5)\n",
    "\n",
    "# Print evaluation metrics\n",
    "training_summary = lr_model.summary\n",
    "print(f\"RMSE: {training_summary.rootMeanSquaredError}\")\n",
    "print(f\"R2: {training_summary.r2}\")"
   ]
  },
  {
   "cell_type": "markdown",
   "metadata": {
    "tags": []
   },
   "source": [
    "## Hyperparameter Tuning\n",
    "Author: Ewan Long\n",
    "\n",
    "Date: 04/03/25\n",
    "\n",
    "Edit Date: 04/06/25, 04/08/25"
   ]
  },
  {
   "cell_type": "markdown",
   "metadata": {},
   "source": [
    "To perform hyperparameter tuning on the dataset with the new features, explore and improve our linear regression model, we use both L1 and L2 regularization (Elastic Net Regularization), then use a parameter grid to explore various values for the regularization parameters."
   ]
  },
  {
   "cell_type": "markdown",
   "metadata": {},
   "source": [
    "To speed up the tuning process, we first run a 3-fold cross-validation on a 10% sample of our dataset. The experiments include the following hyperparameter settings:\n",
    "\n",
    "- regParam: 0.001, 0.005, 0.01, 0.05, 0.1, 0.2, 0.5\n",
    "- elasticNetParam: \n",
    "  - 0.0 (pure L2 regularization)\n",
    "  - 0.25 (mixed regularization)\n",
    "  - 0.5 (mixed regularization)\n",
    "  - 0.75 (mixed regularization)\n",
    "  - 1.0 (pure L1 regularization)"
   ]
  },
  {
   "cell_type": "markdown",
   "metadata": {},
   "source": [
    "Firstly, we choose the feature columns that Anne picked, exluding `filename` and using `total_cost` as the label, and create VectorAssembler to combine all feature columns, which is then used as the input for the regression model."
   ]
  },
  {
   "cell_type": "code",
   "execution_count": 14,
   "metadata": {
    "tags": []
   },
   "outputs": [],
   "source": [
    "# Import Libraries\n",
    "from pyspark.ml.feature import VectorAssembler\n",
    "from pyspark.ml.regression import LinearRegression\n",
    "from pyspark.ml import Pipeline\n",
    "from pyspark.ml.tuning import ParamGridBuilder, CrossValidator\n",
    "from pyspark.ml.evaluation import RegressionEvaluator"
   ]
  },
  {
   "cell_type": "code",
   "execution_count": 15,
   "metadata": {
    "tags": []
   },
   "outputs": [],
   "source": [
    "feature_cols = [\"total_pd\", \"generation_margin\", \"load_to_gen_ratio\", \"pd_per_load\"]\n",
    "\n",
    "assembler = VectorAssembler(inputCols=feature_cols, outputCol=\"features\")\n",
    "\n",
    "lr = LinearRegression(featuresCol=\"features\", labelCol=\"total_cost\")\n",
    "\n",
    "pipeline = Pipeline(stages=[assembler, lr])"
   ]
  },
  {
   "cell_type": "markdown",
   "metadata": {},
   "source": [
    "Then, define the hyperparameter grid to explore."
   ]
  },
  {
   "cell_type": "code",
   "execution_count": 16,
   "metadata": {
    "tags": []
   },
   "outputs": [],
   "source": [
    "# Define a hyperparameter grid\n",
    "regParam_values = [0.001, 0.005, 0.01, 0.05, 0.1, 0.2, 0.5]\n",
    "elasticNetParam_values = [0.0, 0.25, 0.5, 0.75, 1.0]"
   ]
  },
  {
   "cell_type": "code",
   "execution_count": 17,
   "metadata": {
    "tags": []
   },
   "outputs": [],
   "source": [
    "paramGrid = ParamGridBuilder() \\\n",
    "    .addGrid(lr.regParam, regParam_values) \\\n",
    "    .addGrid(lr.elasticNetParam, elasticNetParam_values) \\\n",
    "    .build()\n",
    "\n",
    "# Set up the Regression Evaluator using RMSE as the evaluation metric\n",
    "evaluator = RegressionEvaluator(labelCol=\"total_cost\", predictionCol=\"prediction\", metricName=\"rmse\")"
   ]
  },
  {
   "cell_type": "markdown",
   "metadata": {},
   "source": [
    "We will only pick a sample of 10% subset of the cleaned dataset for faster tuning."
   ]
  },
  {
   "cell_type": "code",
   "execution_count": 18,
   "metadata": {
    "tags": []
   },
   "outputs": [],
   "source": [
    "df_subset = df_cleaned.sample(fraction=0.1, seed=42)\n",
    "\n",
    "# Set up CrossValidator with 3-fold cross-validation\n",
    "cv = CrossValidator(estimator=pipeline,\n",
    "                    estimatorParamMaps=paramGrid,\n",
    "                    evaluator=evaluator,\n",
    "                    collectSubModels=True,\n",
    "                    numFolds=3)"
   ]
  },
  {
   "cell_type": "code",
   "execution_count": 19,
   "metadata": {
    "tags": []
   },
   "outputs": [],
   "source": [
    "# Create an evaluator for R²\n",
    "r2_evaluator = RegressionEvaluator(labelCol=\"total_cost\", predictionCol=\"prediction\", metricName=\"r2\")"
   ]
  },
  {
   "cell_type": "code",
   "execution_count": 20,
   "metadata": {
    "tags": []
   },
   "outputs": [
    {
     "name": "stderr",
     "output_type": "stream",
     "text": [
      "[Stage 1114:========================================>               (5 + 2) / 7]\r"
     ]
    },
    {
     "name": "stdout",
     "output_type": "stream",
     "text": [
      "Best model parameters:\n",
      "  regParam: 0.5\n",
      "  elasticNetParam: 1.0\n"
     ]
    },
    {
     "name": "stderr",
     "output_type": "stream",
     "text": [
      "                                                                                \r"
     ]
    }
   ],
   "source": [
    "# Fit the CrossValidator on the subset of data\n",
    "cvModel = cv.fit(df_subset)\n",
    "\n",
    "# Retrieve the best model and its linear regression stage\n",
    "bestModel = cvModel.bestModel\n",
    "best_lr = bestModel.stages[-1]\n",
    "\n",
    "print(\"Best model parameters:\")\n",
    "print(\"  regParam:\", best_lr._java_obj.getRegParam())\n",
    "print(\"  elasticNetParam:\", best_lr._java_obj.getElasticNetParam())"
   ]
  },
  {
   "cell_type": "code",
   "execution_count": 21,
   "metadata": {
    "tags": []
   },
   "outputs": [
    {
     "name": "stderr",
     "output_type": "stream",
     "text": [
      "[Stage 1118:========================================>               (5 + 2) / 7]\r"
     ]
    },
    {
     "name": "stdout",
     "output_type": "stream",
     "text": [
      "RMSE on the subset: 299.1046988240459\n",
      "R² on the subset: 0.9980171248884991\n"
     ]
    },
    {
     "name": "stderr",
     "output_type": "stream",
     "text": [
      "                                                                                \r"
     ]
    }
   ],
   "source": [
    "# Evaluate the best model on the subset using RMSE and R2\n",
    "rmse = evaluator.evaluate(bestModel.transform(df_subset))\n",
    "r2 = r2_evaluator.evaluate(bestModel.transform(df_subset))\n",
    "print(\"RMSE on the subset:\", rmse)\n",
    "print(\"R² on the subset:\", r2)"
   ]
  },
  {
   "cell_type": "markdown",
   "metadata": {},
   "source": [
    "Create a heatmap for quickly comparing the performance."
   ]
  },
  {
   "cell_type": "code",
   "execution_count": 22,
   "metadata": {
    "tags": []
   },
   "outputs": [],
   "source": [
    "import numpy as np\n",
    "\n",
    "avg_metrics = cvModel.avgMetrics\n",
    "\n",
    "rmse_matrix = np.array(avg_metrics).reshape(len(regParam_values), len(elasticNetParam_values))\n",
    "\n",
    "rmse_matrix = rmse_matrix.T"
   ]
  },
  {
   "cell_type": "code",
   "execution_count": 23,
   "metadata": {
    "tags": []
   },
   "outputs": [
    {
     "data": {
      "image/png": "[encoded data removed]",
      "text/plain": [
       "<Figure size 1000x800 with 2 Axes>"
      ]
     },
     "metadata": {},
     "output_type": "display_data"
    }
   ],
   "source": [
    "# Create a heatmap\n",
    "plt.figure(figsize=(10, 8))\n",
    "im = plt.imshow(rmse_matrix, cmap='viridis', origin='lower')\n",
    "\n",
    "# Set axis tick labels\n",
    "plt.xticks(np.arange(len(regParam_values)), regParam_values)\n",
    "plt.yticks(np.arange(len(elasticNetParam_values)), elasticNetParam_values)\n",
    "\n",
    "# Add labels and title\n",
    "plt.xlabel('regParam')\n",
    "plt.ylabel('elasticNetParam')\n",
    "plt.title('CV RMSE for Hyperparameter Combinations')\n",
    "\n",
    "# Add a colorbar to represent the RMSE values\n",
    "cbar = plt.colorbar(im)\n",
    "cbar.set_label('RMSE')\n",
    "\n",
    "# Annotate each cell with the RMSE value\n",
    "for i in range(len(elasticNetParam_values)):\n",
    "    for j in range(len(regParam_values)):\n",
    "        plt.text(j, i, f\"{rmse_matrix[i, j]:.2f}\", ha=\"center\", va=\"center\", color=\"white\")\n",
    "\n",
    "plt.tight_layout()\n",
    "plt.show()\n"
   ]
  },
  {
   "cell_type": "markdown",
   "metadata": {},
   "source": [
    "#### **Results Summary**\n",
    "\n",
    "- The RMSE is consistently 301.35 across all combinations of regParam and elasticNetParam, indicating that none of the hyperparameters have a meaningful effect on model performance in this case.\n",
    "\n",
    "- This uniformity suggests one or more of the following:\n",
    "    - The model might not be learning effectively from the data\n",
    "    - The metric might not be updating correctly in the hyperparameter tuning loop\n",
    "    - The model is underfitting severely, yielding nearly identical predictions regardless of regularization parameters."
   ]
  },
  {
   "cell_type": "markdown",
   "metadata": {
    "tags": []
   },
   "source": [
    "___"
   ]
  },
  {
   "cell_type": "markdown",
   "metadata": {},
   "source": [
    "Now, we will try the newest dataset with Load Feature Engineering by Anne, and see how the parameter grid of linear regression models performs."
   ]
  },
  {
   "cell_type": "code",
   "execution_count": 29,
   "metadata": {
    "tags": []
   },
   "outputs": [
    {
     "name": "stdout",
     "output_type": "stream",
     "text": [
      "+--------------------+------------------+------------------+------------------+-------------------+-------------------+------------------+------------------+------------------+------------------+--------------------+-----------------+-------------------+------------------+\n",
      "|            filename|        total_cost|            avg_pd|       pd_per_load|     reactive_ratio|             std_pd|  load_variability|          pd_range|        load_range|            max_pd|  load_concentration|        load_skew|  generation_margin| load_to_gen_ratio|\n",
      "+--------------------+------------------+------------------+------------------+-------------------+-------------------+------------------+------------------+------------------+------------------+--------------------+-----------------+-------------------+------------------+\n",
      "|gs://ds5460-tumli...| 457017.6915453811|0.6337165224374126|0.6337165224374126|0.25578066583740294| 0.3907887552662506| 0.616661774515822| 2.895855111560307| 2.895855111560307| 2.896857380754912|0.016267685367389092|4.571219588236335|-23.925897804912978| 1.155213358168569|\n",
      "|gs://ds5460-tumli...|454991.87287162687|0.6325766589301287|0.6325766589301287| 0.2597953969267807| 0.3769497004199716| 0.595895683311337| 2.439824554322636| 2.439824554322636|2.4408215248119336| 0.01373145447997778|3.858538708873757|  -23.6055961593662|1.1531354802791958|\n",
      "|gs://ds5460-tumli...|448851.02127889916|0.6279270372423682|0.6279270372423682|0.25605530170037727|0.38998201708561286|0.6210626298212527| 3.497348357174466| 3.497348357174466|3.4982363179582276|0.019825933312826068|5.571087260904125| -22.29905246510549|1.1446596004591905|\n",
      "|gs://ds5460-tumli...|463761.24465372495| 0.638726648998766| 0.638726648998766| 0.2558146877696568|0.40297628147399805| 0.630905696678982|3.4845319645432706|3.4845319645432706|3.4854577382705543|0.019419518838891613|5.456884793728543|-25.333743368653245|1.1643464088700555|\n",
      "|gs://ds5460-tumli...| 440065.6724156548|0.6209550834984927|0.6209550834984927| 0.2661209310004867| 0.3690136284391097|0.5942678274893379|2.7043174292081553|2.7043174292081553| 2.705264590790738|0.015503981495038078|  4.3566188001057|-20.339933463076477| 1.131950299356419|\n",
      "+--------------------+------------------+------------------+------------------+-------------------+-------------------+------------------+------------------+------------------+------------------+--------------------+-----------------+-------------------+------------------+\n",
      "only showing top 5 rows\n",
      "\n"
     ]
    }
   ],
   "source": [
    "# Load the latest dataset (the combined_features_df)\n",
    "df = spark.read.parquet(\"gs://dataproc-temp-us-east1-299400297029-hnyjjiwf/final_datasets/combined_features_df/\")\n",
    "df.show(5)\n"
   ]
  },
  {
   "cell_type": "code",
   "execution_count": 30,
   "metadata": {
    "tags": []
   },
   "outputs": [],
   "source": [
    "feature_cols = [c for c in df.columns if c != \"filename\" and c != \"total_cost\"]\n",
    "\n",
    "assembler = VectorAssembler(inputCols=feature_cols, outputCol=\"features\")"
   ]
  },
  {
   "cell_type": "code",
   "execution_count": 31,
   "metadata": {
    "tags": []
   },
   "outputs": [],
   "source": [
    "lr = LinearRegression(featuresCol=\"features\", labelCol=\"total_cost\")\n",
    "\n",
    "pipeline = Pipeline(stages=[assembler, lr])\n"
   ]
  },
  {
   "cell_type": "code",
   "execution_count": 32,
   "metadata": {
    "tags": []
   },
   "outputs": [],
   "source": [
    "paramGrid = ParamGridBuilder() \\\n",
    "    .addGrid(lr.regParam, regParam_values) \\\n",
    "    .addGrid(lr.elasticNetParam, elasticNetParam_values) \\\n",
    "    .build()\n",
    "\n",
    "# Set the evaluation metric; here we use RMSE (Root Mean Squared Error)\n",
    "evaluator = RegressionEvaluator(labelCol=\"total_cost\", predictionCol=\"prediction\", metricName=\"rmse\")\n",
    "\n",
    "# To accelerate tuning, select a 10% subset of the dataset\n",
    "df_subset = df.sample(fraction=0.1, seed=42)"
   ]
  },
  {
   "cell_type": "code",
   "execution_count": 33,
   "metadata": {
    "tags": []
   },
   "outputs": [],
   "source": [
    "# Create an evaluator for R²\n",
    "r2_evaluator = RegressionEvaluator(labelCol=\"total_cost\", predictionCol=\"prediction\", metricName=\"r2\")"
   ]
  },
  {
   "cell_type": "code",
   "execution_count": 34,
   "metadata": {
    "tags": []
   },
   "outputs": [
    {
     "name": "stderr",
     "output_type": "stream",
     "text": [
      "[Stage 1767:========================================>               (5 + 2) / 7]\r"
     ]
    },
    {
     "name": "stdout",
     "output_type": "stream",
     "text": [
      "Best model parameters:\n",
      "regParam: 0.001\n",
      "elasticNetParam: 0.0\n"
     ]
    },
    {
     "name": "stderr",
     "output_type": "stream",
     "text": [
      "                                                                                \r"
     ]
    }
   ],
   "source": [
    "cv = CrossValidator(estimator=pipeline,\n",
    "                    estimatorParamMaps=paramGrid,\n",
    "                    evaluator=evaluator,\n",
    "                    collectSubModels=True,\n",
    "                    numFolds=3)\n",
    "\n",
    "cvModel = cv.fit(df_subset)\n",
    "\n",
    "bestModel = cvModel.bestModel\n",
    "best_lr = bestModel.stages[-1]\n",
    "\n",
    "print(\"Best model parameters:\")\n",
    "print(\"regParam:\", best_lr._java_obj.getRegParam())\n",
    "print(\"elasticNetParam:\", best_lr._java_obj.getElasticNetParam())"
   ]
  },
  {
   "cell_type": "code",
   "execution_count": 35,
   "metadata": {
    "tags": []
   },
   "outputs": [
    {
     "name": "stderr",
     "output_type": "stream",
     "text": [
      "[Stage 1771:========================================>               (5 + 2) / 7]\r"
     ]
    },
    {
     "name": "stdout",
     "output_type": "stream",
     "text": [
      "RMSE on the subset: 278.0307118890614\n",
      "R² on the subset: 0.9982835890430448\n"
     ]
    },
    {
     "name": "stderr",
     "output_type": "stream",
     "text": [
      "                                                                                \r"
     ]
    }
   ],
   "source": [
    "# Evaluate the best model on the subset using RMSE and R2\n",
    "rmse = evaluator.evaluate(bestModel.transform(df_subset))\n",
    "r2 = r2_evaluator.evaluate(bestModel.transform(df_subset))\n",
    "print(\"RMSE on the subset:\", rmse)\n",
    "print(\"R² on the subset:\", r2)"
   ]
  },
  {
   "cell_type": "code",
   "execution_count": 36,
   "metadata": {
    "tags": []
   },
   "outputs": [
    {
     "data": {
      "image/png": "[encoded data removed]",
      "text/plain": [
       "<Figure size 1000x800 with 2 Axes>"
      ]
     },
     "metadata": {},
     "output_type": "display_data"
    }
   ],
   "source": [
    "avg_metrics = cvModel.avgMetrics\n",
    "\n",
    "rmse_matrix = np.array(avg_metrics).reshape(len(regParam_values), len(elasticNetParam_values))\n",
    "\n",
    "rmse_matrix = rmse_matrix.T\n",
    "\n",
    "plt.figure(figsize=(10, 8))\n",
    "im = plt.imshow(rmse_matrix, cmap='viridis', origin='lower')\n",
    "plt.xticks(np.arange(len(regParam_values)), regParam_values)\n",
    "plt.yticks(np.arange(len(elasticNetParam_values)), elasticNetParam_values)\n",
    "plt.xlabel('regParam')\n",
    "plt.ylabel('elasticNetParam')\n",
    "plt.title('CV RMSE for Hyperparameter Combinations')\n",
    "cbar = plt.colorbar(im)\n",
    "cbar.set_label('RMSE')\n",
    "\n",
    "for i in range(len(elasticNetParam_values)):\n",
    "    for j in range(len(regParam_values)):\n",
    "        plt.text(j, i, f\"{rmse_matrix[i, j]:.2f}\", ha=\"center\", va=\"center\", color=\"white\")\n",
    "\n",
    "plt.tight_layout()\n",
    "plt.show()"
   ]
  },
  {
   "cell_type": "markdown",
   "metadata": {},
   "source": [
    "#### **Results Summary**\n",
    "\n",
    "- The best performance (lowest RMSE of 282.81) is achieved with regParam = 0.001 and elasticNetParam = 0.0, indicating that minimal L2 regularization (Ridge regression) yields the optimal result for this dataset.\n",
    "\n",
    "- The RMSE increases noticeably with any non-zero value of elasticNetParam, suggesting that introducing L1 regularization (i.e., Elastic Net or Lasso influence) leads to a performance drop for this problem.\n",
    "\n",
    "- For elasticNetParam > 0, RMSE values are relatively stable across different regParam values but consistently higher (~296), implying that adding L1 regularization does not benefit the model and may actually be detrimental.\n",
    "\n",
    "- Overall, pure Ridge regression with very low regularization strength outperforms all other configurations, indicating the model **benefits from slight or no regularization** without introducing sparsity constraints from L1 penalties."
   ]
  },
  {
   "cell_type": "markdown",
   "metadata": {},
   "source": [
    "#### Comparative Summary for these two results:\n",
    "  \n",
    "Two sets of cross-validation results were generated using the same model but on different datasets. In the earlier result, RMSE remained constant at 301.35 across all combinations of ``regParam` and `elasticNetParam`, indicating that the model's performance was completely unaffected by regularization. This uniformity suggests potential issues such as poor feature quality, or insufficient data variation that led to underfitting. The model likely failed to capture any meaningful patterns in the data, resulting in static predictions regardless of hyperparameter tuning.\n",
    "  \n",
    "In contrast, the later result shows substantial improvement. RMSE values varied across the hyperparameter grid, with the lowest RMSE of 282.81 achieved using `regParam = 0.001` and `elasticNetParam = 0.0`. This indicates that **the model responded well to minimal L2 regularization (Ridge) or no regularization**, and that the updated dataset contains more informative features and better preprocessing. Interestingly, performance degraded with higher values of elasticNetParam, suggesting that introducing L1 regularization (which encourages sparsity) did not benefit this particular dataset at all.\n",
    "  \n",
    "Overall, the later dataset clearly enabled the model to learn more effectively. The transition from a flat RMSE landscape to one with a distinct optimum reflects a significant improvement in data quality or preparation. These results highlight the importance of well-structured, meaningful input data in driving model performance. \n",
    "\n",
    "Continued work on the second dataset, especially around fine-tuning and feature engineering, is likely to yield even better predictive outcomes. We will aim to interpret the currently observed phenomena in our upcoming work, conduct targeted experiments based on these insights, and explore potential directions for further improving the model's performance."
   ]
  },
  {
   "cell_type": "markdown",
   "metadata": {},
   "source": [
    "## Hyperparameter Tuning (Different model)\n",
    "Author: Donna Nguyen\n",
    "\n",
    "Date: 04/7/25\n",
    "\n",
    "I will perform hyperparameter tuning on a different model than the linear regression from milestone 2 (still using paramGrid but with RandomForestRegressor.)"
   ]
  },
  {
   "cell_type": "code",
   "execution_count": 8,
   "metadata": {},
   "outputs": [],
   "source": [
    "from pyspark.sql import SparkSession\n",
    "from pyspark.ml.feature import VectorAssembler\n",
    "from pyspark.ml.regression import RandomForestRegressor\n",
    "from pyspark.ml.evaluation import RegressionEvaluator\n",
    "from pyspark.ml.tuning import CrossValidator, ParamGridBuilder\n",
    "\n",
    "# Spark session already initialized earlier as `spark`\n",
    "# Using your cleaned dataset\n",
    "df_model = df_cleaned.select(*[c for c in df_cleaned.columns if c != \"filename\"])\n",
    "\n",
    "# Assemble features into a single vector\n",
    "feature_cols = [col for col in df_model.columns if col != \"total_cost\"]\n",
    "assembler = VectorAssembler(inputCols=feature_cols, outputCol=\"features\")\n",
    "df_model = assembler.transform(df_model).select(\"features\", \"total_cost\")\n",
    "\n",
    "# Optional: sample to speed up testing\n",
    "df_sampled = df_model.sample(fraction=0.1, seed=42)  # adjust fraction as needed\n",
    "\n",
    "# Split into train/test\n",
    "train_data, test_data = df_sampled.randomSplit([0.8, 0.2], seed=42)\n",
    "\n",
    "# Define the regressor\n",
    "rf = RandomForestRegressor(featuresCol=\"features\", labelCol=\"total_cost\")\n",
    "\n",
    "\n"
   ]
  },
  {
   "cell_type": "code",
   "execution_count": null,
   "metadata": {},
   "outputs": [
    {
     "name": "stdout",
     "output_type": "stream",
     "text": [
      "Test RMSE: 480.7272\n",
      "Best Max Depth: 15\n",
      "Best Num Trees: 20\n",
      "Best Max Bins: 64\n"
     ]
    }
   ],
   "source": [
    "# Hyperparameter grid\n",
    "paramGrid = (ParamGridBuilder()\n",
    "             .addGrid(rf.maxDepth, [5, 10, 15])\n",
    "             .addGrid(rf.numTrees, [20, 50, 100])\n",
    "             .addGrid(rf.maxBins, [32, 64])\n",
    "             .build())\n",
    "\n",
    "# Evaluator for regression\n",
    "evaluator = RegressionEvaluator(labelCol=\"total_cost\", predictionCol=\"prediction\", metricName=\"rmse\")\n",
    "\n",
    "# CrossValidator\n",
    "crossval = CrossValidator(estimator=rf,\n",
    "                          estimatorParamMaps=paramGrid,\n",
    "                          evaluator=evaluator,\n",
    "                          numFolds=3,\n",
    "                          parallelism=2)  # Adjust based on cluster resources\n",
    "\n",
    "# Train the model\n",
    "cv_model = crossval.fit(train_data)\n",
    "\n",
    "# Evaluate on test data\n",
    "predictions = cv_model.transform(test_data)\n",
    "rmse = evaluator.evaluate(predictions)\n",
    "print(f\"Test RMSE: {rmse:.4f}\")\n",
    "\n",
    "# Best model hyperparameters\n",
    "best_model = cv_model.bestModel\n",
    "print(f\"Best Max Depth: {best_model.getOrDefault('maxDepth')}\")\n",
    "print(f\"Best Num Trees: {best_model.getOrDefault('numTrees')}\")\n",
    "print(f\"Best Max Bins: {best_model.getOrDefault('maxBins')}\")\n",
    "\n"
   ]
  },
  {
   "cell_type": "code",
   "execution_count": 10,
   "metadata": {},
   "outputs": [
    {
     "name": "stdout",
     "output_type": "stream",
     "text": [
      "+------------------------------------------------------------------------------------------------------------------+------------------+------------------+\n",
      "|features                                                                                                          |total_cost        |prediction        |\n",
      "+------------------------------------------------------------------------------------------------------------------+------------------+------------------+\n",
      "|[173.9776445666882,2560.48586699376,2840.398962545052,-19.82919956668823,1.1286370392298686,0.6191375251483566]   |437843.08325593296|438939.74430452735|\n",
      "|[174.0334151565635,2561.847094972967,2841.9090003819206,-19.884970156563526,1.1289988371699988,0.6193359969984467]|438075.8532403774 |438939.74430452735|\n",
      "|[174.4779280015317,2575.028000256443,2856.530846249223,-20.329483001531713,1.1318825045658536,0.620917893243885]  |440329.7880438518 |438939.74430452735|\n",
      "|[175.43469617533097,2599.839171318905,2884.0543820959906,-21.28625117533099,1.13808930200581,0.6243227621897899]  |444572.4982955327 |444449.34131306456|\n",
      "|[175.4837295015964,2598.2905572986774,2882.3364731189727,-21.33528450159642,1.1384073936107264,0.6244972580127985]|444307.68529807386|444589.05454239174|\n",
      "+------------------------------------------------------------------------------------------------------------------+------------------+------------------+\n",
      "only showing top 5 rows\n",
      "\n"
     ]
    }
   ],
   "source": [
    "# Show predictions\n",
    "predictions.select(\"features\", \"total_cost\", \"prediction\").show(5, truncate=False)"
   ]
  }
 ],
 "metadata": {
  "kernelspec": {
   "display_name": "Python 3",
   "language": "python",
   "name": "python3"
  },
  "language_info": {
   "codemirror_mode": {
    "name": "ipython",
    "version": 3
   },
   "file_extension": ".py",
   "mimetype": "text/x-python",
   "name": "python",
   "nbconvert_exporter": "python",
   "pygments_lexer": "ipython3",
   "version": "3.11.8"
  }
 },
 "nbformat": 4,
 "nbformat_minor": 4
}
