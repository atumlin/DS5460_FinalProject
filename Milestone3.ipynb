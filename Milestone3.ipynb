{
 "cells": [
  {
   "cell_type": "markdown",
   "metadata": {},
   "source": [
    "### Feature Engineering \n",
    "Author: Anne Tumlin\n",
    "\n",
    "Date: 04/05/25\n",
    "\n",
    "Now that we have our baseline results, our goal is to perform feature engineering and hyperparameter tuning to improve our existing results. First, I will investigate feature engineering by checking various correlations. "
   ]
  },
  {
   "cell_type": "markdown",
   "metadata": {},
   "source": [
    "First, load in the dataset (via parquet file) for evaluation. "
   ]
  },
  {
   "cell_type": "code",
   "execution_count": 1,
   "metadata": {
    "tags": []
   },
   "outputs": [],
   "source": [
    "import os\n",
    "import subprocess\n",
    "import time\n",
    "from pyspark.sql import SparkSession\n",
    "import pyspark.sql.functions as F\n",
    "from pyspark.sql.functions import col, explode, input_file_name, expr, sum as spark_sum, avg, count\n",
    "\n",
    "spark = SparkSession.builder \\\n",
    "    .appName(\"app_name\") \\\n",
    "    .getOrCreate()"
   ]
  },
  {
   "cell_type": "code",
   "execution_count": 2,
   "metadata": {
    "tags": []
   },
   "outputs": [
    {
     "name": "stdout",
     "output_type": "stream",
     "text": [
      "Reading took 3.77 seconds\n"
     ]
    }
   ],
   "source": [
    "start_time = time.time()\n",
    "\n",
    "df = spark.read.parquet(\"gs://bucketmilestonedonna/processed_data/agg_df.parquet\")\n",
    "\n",
    "end_time = time.time()\n",
    "print(f\"Reading took {end_time - start_time:.2f} seconds\")"
   ]
  },
  {
   "cell_type": "code",
   "execution_count": 3,
   "metadata": {
    "tags": []
   },
   "outputs": [
    {
     "name": "stderr",
     "output_type": "stream",
     "text": [
      "                                                                                \r"
     ]
    },
    {
     "name": "stdout",
     "output_type": "stream",
     "text": [
      "+--------------------+--------------+------------------+------+------------------+-----------------+------------------+---------+------------------+--------------------+--------------------+------------------+----------+----------+--------------------+-------------------+-----------------+------------------+------------------+\n",
      "|            filename|num_generators|          total_pg|avg_vg|  avg_cost_squared|  avg_cost_linear|   avg_cost_offset|num_loads|          total_pd|           br_r_mean|           br_x_mean|        rate_a_sum|rate_b_min|rate_c_max|     trans_br_r_mean|    trans_br_x_mean| trans_rate_a_sum|          tap_mean|        total_cost|\n",
      "+--------------------+--------------+------------------+------+------------------+-----------------+------------------+---------+------------------+--------------------+--------------------+------------------+----------+----------+--------------------+-------------------+-----------------+------------------+------------------+\n",
      "|gs://ds5460-tumli...|           171|154.14844499999998|   1.0|101.79871345029237|2637.030994152047|-4.104877192982458|      281|178.07434280491296|0.028101742751865683|0.028101742751865683|3.3398004439999984|0.00100208|    999.99|0.003531241019270...|0.12213300296875002|846.2510999999997|1.0187825520833336| 457017.6915453811|\n",
      "|gs://ds5460-tumli...|           171|154.14844499999998|   1.0|101.79871345029237|2637.030994152047|-4.104877192982458|      281|177.75404115936618|0.028101742751865683|0.028101742751865683|3.3398004439999984|0.00100208|    999.99|0.003531241019270...|0.12213300296875002|846.2510999999997|1.0187825520833336|454991.87287162687|\n",
      "|gs://ds5460-tumli...|           171|154.14844499999998|   1.0|101.79871345029237|2637.030994152047|-4.104877192982458|      281|176.44749746510547|0.028101742751865683|0.028101742751865683|3.3398004439999984|0.00100208|    999.99|0.003531241019270...|0.12213300296875002|846.2510999999997|1.0187825520833336|448851.02127889916|\n",
      "|gs://ds5460-tumli...|           171|154.14844499999998|   1.0|101.79871345029237|2637.030994152047|-4.104877192982458|      281|179.48218836865323|0.028101742751865683|0.028101742751865683|3.3398004439999984|0.00100208|    999.99|0.003531241019270...|0.12213300296875002|846.2510999999997|1.0187825520833336|463761.24465372495|\n",
      "|gs://ds5460-tumli...|           171|154.14844499999998|   1.0|101.79871345029237|2637.030994152047|-4.104877192982458|      281|174.48837846307646|0.028101742751865683|0.028101742751865683|3.3398004439999984|0.00100208|    999.99|0.003531241019270...|0.12213300296875002|846.2510999999997|1.0187825520833336| 440065.6724156548|\n",
      "+--------------------+--------------+------------------+------+------------------+-----------------+------------------+---------+------------------+--------------------+--------------------+------------------+----------+----------+--------------------+-------------------+-----------------+------------------+------------------+\n",
      "only showing top 5 rows\n",
      "\n"
     ]
    }
   ],
   "source": [
    "df.show(5) # verify loaded data"
   ]
  },
  {
   "cell_type": "markdown",
   "metadata": {},
   "source": [
    "Our `total_cost` depends on multiple system-wide parameters (generation, loads, rates, cost curves). So, to enhance our features we will refine them to create the new features for our model to utilize. "
   ]
  },
  {
   "cell_type": "code",
   "execution_count": 3,
   "metadata": {
    "tags": []
   },
   "outputs": [],
   "source": [
    "from pyspark.sql.functions import col\n",
    "\n",
    "df = df.withColumn(\"cost_per_gen\", col(\"total_cost\") / col(\"num_generators\"))\n",
    "df = df.withColumn(\"cost_per_mw\", col(\"total_cost\") / col(\"total_pg\"))\n",
    "df = df.withColumn(\"generation_margin\", col(\"total_pg\") - col(\"total_pd\"))\n",
    "df = df.withColumn(\"load_to_gen_ratio\", col(\"total_pd\") / col(\"total_pg\"))\n",
    "df = df.withColumn(\"trans_to_br_ratio_r\", col(\"trans_br_r_mean\") / col(\"br_r_mean\"))\n",
    "df = df.withColumn(\"trans_to_br_ratio_x\", col(\"trans_br_x_mean\") / col(\"br_x_mean\"))\n",
    "df = df.withColumn(\"trans_rate_ratio\", col(\"trans_rate_a_sum\") / col(\"rate_a_sum\"))\n",
    "df = df.withColumn(\"load_per_generator\", col(\"num_loads\") / col(\"num_generators\"))\n",
    "df = df.withColumn(\"pd_per_load\", col(\"total_pd\") / col(\"num_loads\"))"
   ]
  },
  {
   "cell_type": "code",
   "execution_count": 5,
   "metadata": {
    "tags": []
   },
   "outputs": [
    {
     "name": "stderr",
     "output_type": "stream",
     "text": [
      "25/04/07 03:45:39 WARN SparkStringUtils: Truncated the string representation of a plan since it was too large. This behavior can be adjusted by setting 'spark.sql.debug.maxToStringFields'.\n"
     ]
    },
    {
     "name": "stdout",
     "output_type": "stream",
     "text": [
      "+--------------------+--------------+------------------+------+------------------+-----------------+------------------+---------+------------------+--------------------+--------------------+------------------+----------+----------+--------------------+-------------------+-----------------+------------------+------------------+------------------+------------------+-------------------+------------------+-------------------+-------------------+------------------+------------------+------------------+\n",
      "|            filename|num_generators|          total_pg|avg_vg|  avg_cost_squared|  avg_cost_linear|   avg_cost_offset|num_loads|          total_pd|           br_r_mean|           br_x_mean|        rate_a_sum|rate_b_min|rate_c_max|     trans_br_r_mean|    trans_br_x_mean| trans_rate_a_sum|          tap_mean|        total_cost|      cost_per_gen|       cost_per_mw|  generation_margin| load_to_gen_ratio|trans_to_br_ratio_r|trans_to_br_ratio_x|  trans_rate_ratio|load_per_generator|       pd_per_load|\n",
      "+--------------------+--------------+------------------+------+------------------+-----------------+------------------+---------+------------------+--------------------+--------------------+------------------+----------+----------+--------------------+-------------------+-----------------+------------------+------------------+------------------+------------------+-------------------+------------------+-------------------+-------------------+------------------+------------------+------------------+\n",
      "|gs://ds5460-tumli...|           171|154.14844499999998|   1.0|101.79871345029237|2637.030994152047|-4.104877192982458|      281|178.07434280491296|0.028101742751865683|0.028101742751865683|3.3398004439999984|0.00100208|    999.99|0.003531241019270...|0.12213300296875002|846.2510999999997|1.0187825520833336| 457017.6915453811|2672.6180792127548| 2964.789502387657|-23.925897804912978| 1.155213358168569| 0.1256591468526054|  4.346100668814982|253.38373180957637|1.6432748538011697|0.6337165224374126|\n",
      "|gs://ds5460-tumli...|           171|154.14844499999998|   1.0|101.79871345029237|2637.030994152047|-4.104877192982458|      281|177.75404115936618|0.028101742751865683|0.028101742751865683|3.3398004439999984|0.00100208|    999.99|0.003531241019270...|0.12213300296875002|846.2510999999997|1.0187825520833336|454991.87287162687| 2660.771186383783| 2951.647503623062|  -23.6055961593662|1.1531354802791958| 0.1256591468526054|  4.346100668814982|253.38373180957637|1.6432748538011697|0.6325766589301287|\n",
      "|gs://ds5460-tumli...|           171|154.14844499999998|   1.0|101.79871345029237|2637.030994152047|-4.104877192982458|      281|176.44749746510547|0.028101742751865683|0.028101742751865683|3.3398004439999984|0.00100208|    999.99|0.003531241019270...|0.12213300296875002|846.2510999999997|1.0187825520833336|448851.02127889916|2624.8597735608137| 2911.810244202588| -22.29905246510549|1.1446596004591905| 0.1256591468526054|  4.346100668814982|253.38373180957637|1.6432748538011697|0.6279270372423682|\n",
      "|gs://ds5460-tumli...|           171|154.14844499999998|   1.0|101.79871345029237|2637.030994152047|-4.104877192982458|      281|179.48218836865323|0.028101742751865683|0.028101742751865683|3.3398004439999984|0.00100208|    999.99|0.003531241019270...|0.12213300296875002|846.2510999999997|1.0187825520833336|463761.24465372495| 2712.054062302485|3008.5366391709304|-25.333743368653245|1.1643464088700555| 0.1256591468526054|  4.346100668814982|253.38373180957637|1.6432748538011697| 0.638726648998766|\n",
      "|gs://ds5460-tumli...|           171|154.14844499999998|   1.0|101.79871345029237|2637.030994152047|-4.104877192982458|      281|174.48837846307646|0.028101742751865683|0.028101742751865683|3.3398004439999984|0.00100208|    999.99|0.003531241019270...|0.12213300296875002|846.2510999999997|1.0187825520833336| 440065.6724156548| 2573.483464419034| 2854.817461283212|-20.339933463076477| 1.131950299356419| 0.1256591468526054|  4.346100668814982|253.38373180957637|1.6432748538011697|0.6209550834984927|\n",
      "+--------------------+--------------+------------------+------+------------------+-----------------+------------------+---------+------------------+--------------------+--------------------+------------------+----------+----------+--------------------+-------------------+-----------------+------------------+------------------+------------------+------------------+-------------------+------------------+-------------------+-------------------+------------------+------------------+------------------+\n",
      "only showing top 5 rows\n",
      "\n"
     ]
    }
   ],
   "source": [
    "df.show(5) # verify new features"
   ]
  },
  {
   "cell_type": "code",
   "execution_count": 4,
   "metadata": {
    "tags": []
   },
   "outputs": [
    {
     "name": "stdout",
     "output_type": "stream",
     "text": [
      "cost_per_mw               -> 1.0000\n",
      "cost_per_gen              -> 1.0000\n",
      "total_pd                  -> 0.9990\n",
      "pd_per_load               -> 0.9990\n",
      "generation_margin         -> -0.9990\n",
      "load_to_gen_ratio         -> 0.9990\n",
      "trans_br_r_mean           -> -0.0125\n",
      "num_generators            -> None (possibly constant)\n",
      "total_pg                  -> None (possibly constant)\n",
      "avg_vg                    -> None (possibly constant)\n",
      "avg_cost_squared          -> None (possibly constant)\n",
      "avg_cost_linear           -> None (possibly constant)\n",
      "avg_cost_offset           -> None (possibly constant)\n",
      "num_loads                 -> None (possibly constant)\n",
      "br_r_mean                 -> None (possibly constant)\n",
      "br_x_mean                 -> None (possibly constant)\n",
      "rate_a_sum                -> None (possibly constant)\n",
      "rate_b_min                -> None (possibly constant)\n",
      "rate_c_max                -> None (possibly constant)\n",
      "trans_br_x_mean           -> None (possibly constant)\n",
      "trans_rate_a_sum          -> None (possibly constant)\n",
      "tap_mean                  -> None (possibly constant)\n",
      "trans_to_br_ratio_r       -> None (possibly constant)\n",
      "trans_to_br_ratio_x       -> None (possibly constant)\n",
      "trans_rate_ratio          -> None (possibly constant)\n",
      "load_per_generator        -> None (possibly constant)\n",
      "Correlation evaluation took 275.74 seconds\n"
     ]
    }
   ],
   "source": [
    "from pyspark.sql.functions import corr\n",
    "\n",
    "feature_cols = [c for c in df.columns if c not in ['filename', 'total_cost']]\n",
    "\n",
    "start_time = time.time()\n",
    "correlations = []\n",
    "for col_name in feature_cols:\n",
    "    corr_value = df.select(corr(col_name, \"total_cost\").alias(\"corr\")).collect()[0][\"corr\"]\n",
    "    if corr_value is None:\n",
    "        correlations.append((col_name, None))\n",
    "    else:\n",
    "        correlations.append((col_name, corr_value))\n",
    "\n",
    "sorted_correlations = sorted(correlations, key=lambda x: abs(x[1]) if x[1] is not None else 0, reverse=True)\n",
    "\n",
    "for feature, value in sorted_correlations:\n",
    "    if value is not None:\n",
    "        print(f\"{feature:25} -> {value:.4f}\")\n",
    "    else:\n",
    "        print(f\"{feature:25} -> None (possibly constant)\")\n",
    "end_time = time.time() \n",
    "print(f\"Correlation evaluation took {end_time - start_time:.2f} seconds\")"
   ]
  },
  {
   "cell_type": "markdown",
   "metadata": {},
   "source": [
    "A lot of our values are returning None which implies that our features are constant (since we already checked for Null values). Therefore, let's investigate further and potentially prune the features that provide no usefullness for modeling. "
   ]
  },
  {
   "cell_type": "code",
   "execution_count": 6,
   "metadata": {
    "tags": []
   },
   "outputs": [
    {
     "name": "stdout",
     "output_type": "stream",
     "text": [
      "num_generators            | Unique values: 1\n",
      "total_pg                  | Unique values: 1\n",
      "avg_vg                    | Unique values: 1\n",
      "avg_cost_squared          | Unique values: 1\n",
      "avg_cost_linear           | Unique values: 1\n",
      "avg_cost_offset           | Unique values: 1\n",
      "num_loads                 | Unique values: 1\n",
      "total_pd                  | Unique values: 15000\n",
      "br_r_mean                 | Unique values: 1\n",
      "br_x_mean                 | Unique values: 1\n",
      "rate_a_sum                | Unique values: 1\n",
      "rate_b_min                | Unique values: 1\n",
      "rate_c_max                | Unique values: 1\n",
      "trans_br_r_mean           | Unique values: 1\n",
      "trans_br_x_mean           | Unique values: 1\n",
      "trans_rate_a_sum          | Unique values: 1\n",
      "tap_mean                  | Unique values: 1\n",
      "cost_per_gen              | Unique values: 15000\n",
      "cost_per_mw               | Unique values: 15000\n",
      "generation_margin         | Unique values: 15000\n",
      "load_to_gen_ratio         | Unique values: 15000\n",
      "trans_to_br_ratio_r       | Unique values: 1\n",
      "trans_to_br_ratio_x       | Unique values: 1\n",
      "trans_rate_ratio          | Unique values: 1\n",
      "load_per_generator        | Unique values: 1\n",
      "pd_per_load               | Unique values: 15000\n"
     ]
    }
   ],
   "source": [
    "from pyspark.sql.functions import countDistinct\n",
    "# How many unique values are there per column?\n",
    "for col_name in feature_cols:\n",
    "    unique_vals = df.select(countDistinct(col_name)).collect()[0][0]\n",
    "    print(f\"{col_name:25} | Unique values: {unique_vals}\")"
   ]
  },
  {
   "cell_type": "code",
   "execution_count": 8,
   "metadata": {
    "tags": []
   },
   "outputs": [
    {
     "name": "stderr",
     "output_type": "stream",
     "text": [
      "                                                                                \r"
     ]
    },
    {
     "name": "stdout",
     "output_type": "stream",
     "text": [
      "num_generators            | Null/NaN count: 0\n"
     ]
    },
    {
     "name": "stderr",
     "output_type": "stream",
     "text": [
      "                                                                                \r"
     ]
    },
    {
     "name": "stdout",
     "output_type": "stream",
     "text": [
      "total_pg                  | Null/NaN count: 0\n"
     ]
    },
    {
     "name": "stderr",
     "output_type": "stream",
     "text": [
      "                                                                                \r"
     ]
    },
    {
     "name": "stdout",
     "output_type": "stream",
     "text": [
      "avg_vg                    | Null/NaN count: 0\n"
     ]
    },
    {
     "name": "stderr",
     "output_type": "stream",
     "text": [
      "                                                                                \r"
     ]
    },
    {
     "name": "stdout",
     "output_type": "stream",
     "text": [
      "avg_cost_squared          | Null/NaN count: 0\n"
     ]
    },
    {
     "name": "stderr",
     "output_type": "stream",
     "text": [
      "                                                                                \r"
     ]
    },
    {
     "name": "stdout",
     "output_type": "stream",
     "text": [
      "avg_cost_linear           | Null/NaN count: 0\n"
     ]
    },
    {
     "name": "stderr",
     "output_type": "stream",
     "text": [
      "                                                                                \r"
     ]
    },
    {
     "name": "stdout",
     "output_type": "stream",
     "text": [
      "avg_cost_offset           | Null/NaN count: 0\n"
     ]
    },
    {
     "name": "stderr",
     "output_type": "stream",
     "text": [
      "                                                                                \r"
     ]
    },
    {
     "name": "stdout",
     "output_type": "stream",
     "text": [
      "num_loads                 | Null/NaN count: 0\n"
     ]
    },
    {
     "name": "stderr",
     "output_type": "stream",
     "text": [
      "                                                                                \r"
     ]
    },
    {
     "name": "stdout",
     "output_type": "stream",
     "text": [
      "total_pd                  | Null/NaN count: 0\n"
     ]
    },
    {
     "name": "stderr",
     "output_type": "stream",
     "text": [
      "                                                                                \r"
     ]
    },
    {
     "name": "stdout",
     "output_type": "stream",
     "text": [
      "br_r_mean                 | Null/NaN count: 0\n"
     ]
    },
    {
     "name": "stderr",
     "output_type": "stream",
     "text": [
      "                                                                                \r"
     ]
    },
    {
     "name": "stdout",
     "output_type": "stream",
     "text": [
      "br_x_mean                 | Null/NaN count: 0\n"
     ]
    },
    {
     "name": "stderr",
     "output_type": "stream",
     "text": [
      "                                                                                \r"
     ]
    },
    {
     "name": "stdout",
     "output_type": "stream",
     "text": [
      "rate_a_sum                | Null/NaN count: 0\n"
     ]
    },
    {
     "name": "stderr",
     "output_type": "stream",
     "text": [
      "                                                                                \r"
     ]
    },
    {
     "name": "stdout",
     "output_type": "stream",
     "text": [
      "rate_b_min                | Null/NaN count: 0\n"
     ]
    },
    {
     "name": "stderr",
     "output_type": "stream",
     "text": [
      "                                                                                \r"
     ]
    },
    {
     "name": "stdout",
     "output_type": "stream",
     "text": [
      "rate_c_max                | Null/NaN count: 0\n"
     ]
    },
    {
     "name": "stderr",
     "output_type": "stream",
     "text": [
      "                                                                                \r"
     ]
    },
    {
     "name": "stdout",
     "output_type": "stream",
     "text": [
      "trans_br_r_mean           | Null/NaN count: 0\n"
     ]
    },
    {
     "name": "stderr",
     "output_type": "stream",
     "text": [
      "                                                                                \r"
     ]
    },
    {
     "name": "stdout",
     "output_type": "stream",
     "text": [
      "trans_br_x_mean           | Null/NaN count: 0\n"
     ]
    },
    {
     "name": "stderr",
     "output_type": "stream",
     "text": [
      "                                                                                \r"
     ]
    },
    {
     "name": "stdout",
     "output_type": "stream",
     "text": [
      "trans_rate_a_sum          | Null/NaN count: 0\n"
     ]
    },
    {
     "name": "stderr",
     "output_type": "stream",
     "text": [
      "                                                                                \r"
     ]
    },
    {
     "name": "stdout",
     "output_type": "stream",
     "text": [
      "tap_mean                  | Null/NaN count: 0\n"
     ]
    },
    {
     "name": "stderr",
     "output_type": "stream",
     "text": [
      "                                                                                \r"
     ]
    },
    {
     "name": "stdout",
     "output_type": "stream",
     "text": [
      "cost_per_gen              | Null/NaN count: 0\n"
     ]
    },
    {
     "name": "stderr",
     "output_type": "stream",
     "text": [
      "                                                                                \r"
     ]
    },
    {
     "name": "stdout",
     "output_type": "stream",
     "text": [
      "cost_per_mw               | Null/NaN count: 0\n"
     ]
    },
    {
     "name": "stderr",
     "output_type": "stream",
     "text": [
      "                                                                                \r"
     ]
    },
    {
     "name": "stdout",
     "output_type": "stream",
     "text": [
      "generation_margin         | Null/NaN count: 0\n"
     ]
    },
    {
     "name": "stderr",
     "output_type": "stream",
     "text": [
      "                                                                                \r"
     ]
    },
    {
     "name": "stdout",
     "output_type": "stream",
     "text": [
      "load_to_gen_ratio         | Null/NaN count: 0\n"
     ]
    },
    {
     "name": "stderr",
     "output_type": "stream",
     "text": [
      "                                                                                \r"
     ]
    },
    {
     "name": "stdout",
     "output_type": "stream",
     "text": [
      "trans_to_br_ratio_r       | Null/NaN count: 0\n"
     ]
    },
    {
     "name": "stderr",
     "output_type": "stream",
     "text": [
      "                                                                                \r"
     ]
    },
    {
     "name": "stdout",
     "output_type": "stream",
     "text": [
      "trans_to_br_ratio_x       | Null/NaN count: 0\n"
     ]
    },
    {
     "name": "stderr",
     "output_type": "stream",
     "text": [
      "                                                                                \r"
     ]
    },
    {
     "name": "stdout",
     "output_type": "stream",
     "text": [
      "trans_rate_ratio          | Null/NaN count: 0\n"
     ]
    },
    {
     "name": "stderr",
     "output_type": "stream",
     "text": [
      "                                                                                \r"
     ]
    },
    {
     "name": "stdout",
     "output_type": "stream",
     "text": [
      "load_per_generator        | Null/NaN count: 0\n"
     ]
    },
    {
     "name": "stderr",
     "output_type": "stream",
     "text": [
      "[Stage 312:========================================>                (5 + 2) / 7]\r"
     ]
    },
    {
     "name": "stdout",
     "output_type": "stream",
     "text": [
      "pd_per_load               | Null/NaN count: 0\n"
     ]
    },
    {
     "name": "stderr",
     "output_type": "stream",
     "text": [
      "                                                                                \r"
     ]
    }
   ],
   "source": [
    "from pyspark.sql.functions import col, isnan, when, count\n",
    "# Just to verify that there are no null values...\n",
    "for col_name in feature_cols:\n",
    "    nulls = df.select(count(when(col(col_name).isNull() | isnan(col(col_name)), col_name))).collect()[0][0]\n",
    "    print(f\"{col_name:25} | Null/NaN count: {nulls}\")"
   ]
  },
  {
   "cell_type": "markdown",
   "metadata": {},
   "source": [
    "From the analysis above, we can see that a decent amount of our features columns are constant. However, none of our columns have Null/NaN values. Therefore, we will prune the columns which contain constants.  "
   ]
  },
  {
   "cell_type": "code",
   "execution_count": 7,
   "metadata": {
    "tags": []
   },
   "outputs": [
    {
     "name": "stdout",
     "output_type": "stream",
     "text": [
      "Dropping constant columns: ['num_generators', 'total_pg', 'avg_vg', 'avg_cost_squared', 'avg_cost_linear', 'avg_cost_offset', 'num_loads', 'br_r_mean', 'br_x_mean', 'rate_a_sum', 'rate_b_min', 'rate_c_max', 'trans_br_r_mean', 'trans_br_x_mean', 'trans_rate_a_sum', 'tap_mean', 'trans_to_br_ratio_r', 'trans_to_br_ratio_x', 'trans_rate_ratio', 'load_per_generator']\n"
     ]
    }
   ],
   "source": [
    "constant_cols = []\n",
    "\n",
    "for col_name in feature_cols:\n",
    "    unique_vals = df.select(countDistinct(col_name)).collect()[0][0]\n",
    "    if unique_vals <= 1:\n",
    "        constant_cols.append(col_name)\n",
    "\n",
    "print(\"Dropping constant columns:\", constant_cols)\n",
    "\n",
    "# Drop them from the dataframe\n",
    "df_cleaned = df.drop(*constant_cols)"
   ]
  },
  {
   "cell_type": "code",
   "execution_count": 10,
   "metadata": {
    "tags": []
   },
   "outputs": [
    {
     "name": "stdout",
     "output_type": "stream",
     "text": [
      "+--------------------+------------------+------------------+------------------+------------------+-------------------+------------------+------------------+\n",
      "|            filename|          total_pd|        total_cost|      cost_per_gen|       cost_per_mw|  generation_margin| load_to_gen_ratio|       pd_per_load|\n",
      "+--------------------+------------------+------------------+------------------+------------------+-------------------+------------------+------------------+\n",
      "|gs://ds5460-tumli...|178.07434280491296| 457017.6915453811|2672.6180792127548| 2964.789502387657|-23.925897804912978| 1.155213358168569|0.6337165224374126|\n",
      "|gs://ds5460-tumli...|177.75404115936618|454991.87287162687| 2660.771186383783| 2951.647503623062|  -23.6055961593662|1.1531354802791958|0.6325766589301287|\n",
      "|gs://ds5460-tumli...|176.44749746510547|448851.02127889916|2624.8597735608137| 2911.810244202588| -22.29905246510549|1.1446596004591905|0.6279270372423682|\n",
      "|gs://ds5460-tumli...|179.48218836865323|463761.24465372495| 2712.054062302485|3008.5366391709304|-25.333743368653245|1.1643464088700555| 0.638726648998766|\n",
      "|gs://ds5460-tumli...|174.48837846307646| 440065.6724156548| 2573.483464419034| 2854.817461283212|-20.339933463076477| 1.131950299356419|0.6209550834984927|\n",
      "+--------------------+------------------+------------------+------------------+------------------+-------------------+------------------+------------------+\n",
      "only showing top 5 rows\n",
      "\n"
     ]
    }
   ],
   "source": [
    "df_cleaned.show(5)"
   ]
  },
  {
   "cell_type": "markdown",
   "metadata": {},
   "source": [
    "Now that we have shrunk our feature space to non-constant features, let's analyze the data and provide some normalizations. "
   ]
  },
  {
   "cell_type": "code",
   "execution_count": 11,
   "metadata": {
    "tags": []
   },
   "outputs": [
    {
     "name": "stderr",
     "output_type": "stream",
     "text": [
      "[Stage 472:================================================>        (6 + 1) / 7]\r"
     ]
    },
    {
     "name": "stdout",
     "output_type": "stream",
     "text": [
      "+-------+------------------+------------------+------------------+------------------+-------------------+-------------------+--------------------+\n",
      "|summary|total_pd          |total_cost        |cost_per_gen      |cost_per_mw       |generation_margin  |load_to_gen_ratio  |pd_per_load         |\n",
      "+-------+------------------+------------------+------------------+------------------+-------------------+-------------------+--------------------+\n",
      "|count  |15000             |15000             |15000             |15000             |15000              |15000              |15000               |\n",
      "|mean   |177.71919542785128|455058.1915002695 |2661.1590146214635|2952.0777293619167|-23.57075042785142 |1.1529094271943596 |0.6324526527681544  |\n",
      "|stddev |1.425026235409197 |6803.2426683212   |39.7850448439836  |44.13435807491406 |1.425026235409197  |0.00924450606951759|0.005071267741669744|\n",
      "|min    |172.39261507968072|431924.47773403546|2525.8741387955292|2802.003469668705 |-29.115787346540202|1.1183545515472488 |0.6134968508173692  |\n",
      "|25%    |176.74316371483616|450371.4173528022 |2633.7509786713576|2921.6734385663262|-24.535407171634034|1.14657766229712   |0.628979230301908   |\n",
      "|50%    |177.72442943197422|454949.98666167975|2660.526237787601 |2951.3757771716723|-23.576443059458597|1.1529433815045895 |0.6324712791173459  |\n",
      "|75%    |178.68314578606018|459603.2690705064 |2687.7384156169965|2981.562798577089 |-22.594934470259403|1.1591628172834323 |0.6358830810891821  |\n",
      "|max    |183.26423234654018|483044.36281320325|2824.8208351649314|3133.6311100199764|-18.244170079680742|1.1888814859374042 |0.6521858802367978  |\n",
      "+-------+------------------+------------------+------------------+------------------+-------------------+-------------------+--------------------+\n",
      "\n"
     ]
    },
    {
     "name": "stderr",
     "output_type": "stream",
     "text": [
      "                                                                                \r"
     ]
    }
   ],
   "source": [
    "df_cleaned.select(\n",
    "    \"total_pd\", \"total_cost\", \"cost_per_gen\", \"cost_per_mw\",\n",
    "    \"generation_margin\", \"load_to_gen_ratio\", \"pd_per_load\"\n",
    ").summary(\"count\", \"mean\", \"stddev\", \"min\", \"25%\", \"50%\", \"75%\", \"max\").show(truncate=False)"
   ]
  },
  {
   "cell_type": "code",
   "execution_count": 12,
   "metadata": {
    "tags": []
   },
   "outputs": [],
   "source": [
    "%matplotlib inline"
   ]
  },
  {
   "cell_type": "code",
   "execution_count": 13,
   "metadata": {
    "tags": []
   },
   "outputs": [
    {
     "name": "stderr",
     "output_type": "stream",
     "text": [
      "                                                                                \r"
     ]
    },
    {
     "data": {
      "image/png": "[encoded data removed]",
      "text/plain": [
       "<Figure size 1600x1200 with 7 Axes>"
      ]
     },
     "metadata": {},
     "output_type": "display_data"
    }
   ],
   "source": [
    "import matplotlib.pyplot as plt\n",
    "\n",
    "features = [\n",
    "    \"total_pd\", \"total_cost\", \"cost_per_gen\", \"cost_per_mw\",\n",
    "    \"generation_margin\", \"load_to_gen_ratio\", \"pd_per_load\"\n",
    "]\n",
    "\n",
    "# Sample ~10% of data to speed things up\n",
    "sample_df = df_cleaned.select(*features).sample(fraction=0.1, seed=42).dropna()\n",
    "sample_pd = sample_df.toPandas()\n",
    "\n",
    "# Plot\n",
    "plt.figure(figsize=(16, 12))\n",
    "for i, col_name in enumerate(features, 1):\n",
    "    plt.subplot(3, 3, i)\n",
    "    plt.hist(sample_pd[col_name], bins=30, color='steelblue', edgecolor='black')\n",
    "    plt.title(col_name)\n",
    "    plt.xlabel(\"Value\")\n",
    "    plt.ylabel(\"Frequency\")\n",
    "\n",
    "plt.tight_layout()\n",
    "plt.show()"
   ]
  },
  {
   "cell_type": "markdown",
   "metadata": {},
   "source": [
    "Based on the histograms above, we can see that our features are continuous, rought symmetric, not heavily skewed, and no extreme outliers. For Linear Regression models we will need to have normalization, but for tree-based models we will not need scaling. "
   ]
  },
  {
   "cell_type": "markdown",
   "metadata": {
    "tags": []
   },
   "source": [
    "### Hyperparameter Tuning\n",
    "Author: Ewan Long\n",
    "\n",
    "Date: 04/03/25\n",
    "\n",
    "Edit Date: 04/06/25"
   ]
  },
  {
   "cell_type": "markdown",
   "metadata": {},
   "source": [
    "To perform hyperparameter tuning on the dataset with the new features, explore and improve our linear regression model, we use both L1 and L2 regularization (Elastic Net Regularization), then use a parameter grid to explore various values for the regularization parameters."
   ]
  },
  {
   "cell_type": "markdown",
   "metadata": {},
   "source": [
    "To speed up the tuning process, we first run a 3-fold cross-validation on a 10% sample of our dataset. The experiments include the following hyperparameter settings:\n",
    "\n",
    "- regParam: 0.01, 0.1, 0.5\n",
    "- elasticNetParam: \n",
    "  - 0.0 (pure L2 regularization)\n",
    "  - 0.5 (mixed regularization)\n",
    "  - 1.0 (pure L1 regularization)"
   ]
  },
  {
   "cell_type": "markdown",
   "metadata": {},
   "source": [
    "Firstly, we choose the feature columns that Anne picked, exluding `filename` and using `total_cost` as the label, and create VectorAssembler to combine all feature columns, which is then used as the input for the regression model."
   ]
  },
  {
   "cell_type": "code",
   "execution_count": 19,
   "metadata": {
    "tags": []
   },
   "outputs": [],
   "source": [
    "# Import Libraries\n",
    "from pyspark.ml.feature import VectorAssembler\n",
    "from pyspark.ml.regression import LinearRegression\n",
    "from pyspark.ml import Pipeline\n",
    "from pyspark.ml.tuning import ParamGridBuilder, CrossValidator\n",
    "from pyspark.ml.evaluation import RegressionEvaluator"
   ]
  },
  {
   "cell_type": "code",
   "execution_count": 20,
   "metadata": {
    "tags": []
   },
   "outputs": [],
   "source": [
    "feature_cols = [\"total_pd\", \"cost_per_gen\", \"cost_per_mw\", \n",
    "                \"generation_margin\", \"load_to_gen_ratio\", \"pd_per_load\"]\n",
    "\n",
    "assembler = VectorAssembler(inputCols=feature_cols, outputCol=\"features\")\n",
    "\n",
    "lr = LinearRegression(featuresCol=\"features\", labelCol=\"total_cost\")\n",
    "\n",
    "pipeline = Pipeline(stages=[assembler, lr])"
   ]
  },
  {
   "cell_type": "markdown",
   "metadata": {},
   "source": [
    "Then, define the hyperparameter grid to explore."
   ]
  },
  {
   "cell_type": "code",
   "execution_count": 21,
   "metadata": {
    "tags": []
   },
   "outputs": [],
   "source": [
    "paramGrid = ParamGridBuilder() \\\n",
    "    .addGrid(lr.regParam, [0.01, 0.1, 0.5]) \\\n",
    "    .addGrid(lr.elasticNetParam, [0.0, 0.5, 1.0]) \\\n",
    "    .build()\n",
    "\n",
    "# Set up the Regression Evaluator using RMSE as the evaluation metric\n",
    "evaluator = RegressionEvaluator(labelCol=\"total_cost\", predictionCol=\"prediction\", metricName=\"rmse\")"
   ]
  },
  {
   "cell_type": "markdown",
   "metadata": {},
   "source": [
    "We will only pick a sample of 10% subset of the cleaned dataset for faster tuning."
   ]
  },
  {
   "cell_type": "code",
   "execution_count": 22,
   "metadata": {
    "tags": []
   },
   "outputs": [],
   "source": [
    "df_subset = df_cleaned.sample(fraction=0.1, seed=42)\n",
    "\n",
    "# Set up CrossValidator with 3-fold cross-validation\n",
    "cv = CrossValidator(estimator=pipeline,\n",
    "                    estimatorParamMaps=paramGrid,\n",
    "                    evaluator=evaluator,\n",
    "                    numFolds=3)\n"
   ]
  },
  {
   "cell_type": "code",
   "execution_count": 23,
   "metadata": {
    "tags": []
   },
   "outputs": [
    {
     "name": "stderr",
     "output_type": "stream",
     "text": [
      "25/04/07 04:10:36 ERROR OWLQN: Failure! Resetting history: breeze.optimize.NaNHistory: \n",
      "25/04/07 04:10:38 ERROR OWLQN: Failure! Resetting history: breeze.optimize.NaNHistory: \n",
      "25/04/07 04:11:19 ERROR OWLQN: Failure! Resetting history: breeze.optimize.NaNHistory: \n",
      "25/04/07 04:11:19 ERROR OWLQN: Failure! Resetting history: breeze.optimize.NaNHistory: \n",
      "[Stage 646:========================================>                (5 + 2) / 7]\r"
     ]
    },
    {
     "name": "stdout",
     "output_type": "stream",
     "text": [
      "Best model parameters:\n",
      "  regParam: 0.1\n",
      "  elasticNetParam: 1.0\n"
     ]
    },
    {
     "name": "stderr",
     "output_type": "stream",
     "text": [
      "                                                                                \r"
     ]
    }
   ],
   "source": [
    "# Fit the CrossValidator on the subset of data\n",
    "cvModel = cv.fit(df_subset)\n",
    "\n",
    "# Retrieve the best model and its linear regression stage\n",
    "bestModel = cvModel.bestModel\n",
    "best_lr = bestModel.stages[-1]\n",
    "\n",
    "print(\"Best model parameters:\")\n",
    "print(\"  regParam:\", best_lr._java_obj.getRegParam())\n",
    "print(\"  elasticNetParam:\", best_lr._java_obj.getElasticNetParam())"
   ]
  },
  {
   "cell_type": "code",
   "execution_count": 24,
   "metadata": {
    "tags": []
   },
   "outputs": [
    {
     "name": "stderr",
     "output_type": "stream",
     "text": [
      "[Stage 648:========================================>                (5 + 2) / 7]\r"
     ]
    },
    {
     "name": "stdout",
     "output_type": "stream",
     "text": [
      "RMSE on the subset: 0.1000331825546619\n"
     ]
    },
    {
     "name": "stderr",
     "output_type": "stream",
     "text": [
      "                                                                                \r"
     ]
    }
   ],
   "source": [
    "# Evaluate the best model on the subset using RMSE\n",
    "rmse = evaluator.evaluate(bestModel.transform(df_subset))\n",
    "print(\"RMSE on the subset:\", rmse)"
   ]
  },
  {
   "cell_type": "markdown",
   "metadata": {},
   "source": [
    "Create a heatmap for quckly comparing the performance."
   ]
  },
  {
   "cell_type": "code",
   "execution_count": 25,
   "metadata": {
    "tags": []
   },
   "outputs": [],
   "source": [
    "import numpy as np\n",
    "\n",
    "regParam_values = [0.01, 0.1, 0.5]\n",
    "elasticNetParam_values = [0.0, 0.5, 1.0]\n",
    "\n",
    "avg_metrics = cvModel.avgMetrics  # This should be a list with 9 entries\n",
    "\n",
    "rmse_matrix = np.array(avg_metrics).reshape(len(regParam_values), len(elasticNetParam_values))\n",
    "\n",
    "rmse_matrix = rmse_matrix.T"
   ]
  },
  {
   "cell_type": "code",
   "execution_count": 26,
   "metadata": {
    "tags": []
   },
   "outputs": [
    {
     "data": {
      "image/png": "[encoded data removed]",
      "text/plain": [
       "<Figure size 800x600 with 2 Axes>"
      ]
     },
     "metadata": {},
     "output_type": "display_data"
    }
   ],
   "source": [
    "# Create a heatmap\n",
    "plt.figure(figsize=(8, 6))\n",
    "im = plt.imshow(rmse_matrix, cmap='viridis', origin='lower')\n",
    "\n",
    "# Set axis tick labels\n",
    "plt.xticks(np.arange(len(regParam_values)), regParam_values)\n",
    "plt.yticks(np.arange(len(elasticNetParam_values)), elasticNetParam_values)\n",
    "\n",
    "# Add labels and title\n",
    "plt.xlabel('regParam')\n",
    "plt.ylabel('elasticNetParam')\n",
    "plt.title('CV RMSE for Hyperparameter Combinations')\n",
    "\n",
    "# Add a colorbar to represent the RMSE values\n",
    "cbar = plt.colorbar(im)\n",
    "cbar.set_label('RMSE')\n",
    "\n",
    "# Annotate each cell with the RMSE value\n",
    "for i in range(len(elasticNetParam_values)):\n",
    "    for j in range(len(regParam_values)):\n",
    "        plt.text(j, i, f\"{rmse_matrix[i, j]:.2f}\", ha=\"center\", va=\"center\", color=\"white\")\n",
    "\n",
    "plt.tight_layout()\n",
    "plt.show()\n"
   ]
  },
  {
   "cell_type": "markdown",
   "metadata": {},
   "source": [
    "Based on the result, we can find that the lowest RMSE is 0.10 at `regParam = 0.1` and `elasticNetParam = 1.0`, which is the pure L1 regularization.\n",
    "  \n",
    "`regParam = 0.01` and `elasticNetParam = 0.5` has a very high RMSE of 100.10, likely beacuse of under-regularization.\n",
    "  \n",
    "`regParam = 0.01` and `elasticNetParam = 1.0` also performs poorly which's RMSE = 20.13.\n",
    "  \n",
    "Overall, `regParam = 0.1` and `elasticNetParam = 1.0` is the best configuration option, and avoid using very low `regParam` values like 0.01, especially with L1 or mixed regularization, which is unstable or overfitted."
   ]
  },
  {
   "cell_type": "markdown",
   "metadata": {},
   "source": [
    "### Hyperparameter Tuning (Different model)\n",
    "Author: Donna Nguyen\n",
    "\n",
    "Date: 04/7/25\n",
    "\n",
    "I will perform hyperparameter tuning on a different model than the linear regression from milestone 2 (still using paramGrid but with RandomForestRegressor.)"
   ]
  },
  {
   "cell_type": "code",
   "execution_count": 8,
   "metadata": {},
   "outputs": [],
   "source": [
    "from pyspark.sql import SparkSession\n",
    "from pyspark.ml.feature import VectorAssembler\n",
    "from pyspark.ml.regression import RandomForestRegressor\n",
    "from pyspark.ml.evaluation import RegressionEvaluator\n",
    "from pyspark.ml.tuning import CrossValidator, ParamGridBuilder\n",
    "\n",
    "# Spark session already initialized earlier as `spark`\n",
    "# Using your cleaned dataset\n",
    "df_model = df_cleaned.select(*[c for c in df_cleaned.columns if c != \"filename\"])\n",
    "\n",
    "# Assemble features into a single vector\n",
    "feature_cols = [col for col in df_model.columns if col != \"total_cost\"]\n",
    "assembler = VectorAssembler(inputCols=feature_cols, outputCol=\"features\")\n",
    "df_model = assembler.transform(df_model).select(\"features\", \"total_cost\")\n",
    "\n",
    "# Optional: sample to speed up testing\n",
    "df_sampled = df_model.sample(fraction=0.1, seed=42)  # adjust fraction as needed\n",
    "\n",
    "# Split into train/test\n",
    "train_data, test_data = df_sampled.randomSplit([0.8, 0.2], seed=42)\n",
    "\n",
    "# Define the regressor\n",
    "rf = RandomForestRegressor(featuresCol=\"features\", labelCol=\"total_cost\")\n",
    "\n",
    "\n"
   ]
  },
  {
   "cell_type": "code",
   "execution_count": null,
   "metadata": {},
   "outputs": [
    {
     "name": "stdout",
     "output_type": "stream",
     "text": [
      "Test RMSE: 480.7272\n",
      "Best Max Depth: 15\n",
      "Best Num Trees: 20\n",
      "Best Max Bins: 64\n"
     ]
    }
   ],
   "source": [
    "# Hyperparameter grid\n",
    "paramGrid = (ParamGridBuilder()\n",
    "             .addGrid(rf.maxDepth, [5, 10, 15])\n",
    "             .addGrid(rf.numTrees, [20, 50, 100])\n",
    "             .addGrid(rf.maxBins, [32, 64])\n",
    "             .build())\n",
    "\n",
    "# Evaluator for regression\n",
    "evaluator = RegressionEvaluator(labelCol=\"total_cost\", predictionCol=\"prediction\", metricName=\"rmse\")\n",
    "\n",
    "# CrossValidator\n",
    "crossval = CrossValidator(estimator=rf,\n",
    "                          estimatorParamMaps=paramGrid,\n",
    "                          evaluator=evaluator,\n",
    "                          numFolds=3,\n",
    "                          parallelism=2)  # Adjust based on cluster resources\n",
    "\n",
    "# Train the model\n",
    "cv_model = crossval.fit(train_data)\n",
    "\n",
    "# Evaluate on test data\n",
    "predictions = cv_model.transform(test_data)\n",
    "rmse = evaluator.evaluate(predictions)\n",
    "print(f\"Test RMSE: {rmse:.4f}\")\n",
    "\n",
    "# Best model hyperparameters\n",
    "best_model = cv_model.bestModel\n",
    "print(f\"Best Max Depth: {best_model.getOrDefault('maxDepth')}\")\n",
    "print(f\"Best Num Trees: {best_model.getOrDefault('numTrees')}\")\n",
    "print(f\"Best Max Bins: {best_model.getOrDefault('maxBins')}\")\n",
    "\n"
   ]
  },
  {
   "cell_type": "code",
   "execution_count": 10,
   "metadata": {},
   "outputs": [
    {
     "name": "stdout",
     "output_type": "stream",
     "text": [
      "+------------------------------------------------------------------------------------------------------------------+------------------+------------------+\n",
      "|features                                                                                                          |total_cost        |prediction        |\n",
      "+------------------------------------------------------------------------------------------------------------------+------------------+------------------+\n",
      "|[173.9776445666882,2560.48586699376,2840.398962545052,-19.82919956668823,1.1286370392298686,0.6191375251483566]   |437843.08325593296|438939.74430452735|\n",
      "|[174.0334151565635,2561.847094972967,2841.9090003819206,-19.884970156563526,1.1289988371699988,0.6193359969984467]|438075.8532403774 |438939.74430452735|\n",
      "|[174.4779280015317,2575.028000256443,2856.530846249223,-20.329483001531713,1.1318825045658536,0.620917893243885]  |440329.7880438518 |438939.74430452735|\n",
      "|[175.43469617533097,2599.839171318905,2884.0543820959906,-21.28625117533099,1.13808930200581,0.6243227621897899]  |444572.4982955327 |444449.34131306456|\n",
      "|[175.4837295015964,2598.2905572986774,2882.3364731189727,-21.33528450159642,1.1384073936107264,0.6244972580127985]|444307.68529807386|444589.05454239174|\n",
      "+------------------------------------------------------------------------------------------------------------------+------------------+------------------+\n",
      "only showing top 5 rows\n",
      "\n"
     ]
    }
   ],
   "source": [
    "# Show predictions\n",
    "predictions.select(\"features\", \"total_cost\", \"prediction\").show(5, truncate=False)"
   ]
  }
 ],
 "metadata": {
  "kernelspec": {
   "display_name": "Python 3",
   "language": "python",
   "name": "python3"
  },
  "language_info": {
   "codemirror_mode": {
    "name": "ipython",
    "version": 3
   },
   "file_extension": ".py",
   "mimetype": "text/x-python",
   "name": "python",
   "nbconvert_exporter": "python",
   "pygments_lexer": "ipython3",
   "version": "3.7.4"
  }
 },
 "nbformat": 4,
 "nbformat_minor": 4
}
