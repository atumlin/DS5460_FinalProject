{
 "cells": [
  {
   "cell_type": "markdown",
   "metadata": {},
   "source": [
    "## Final Results and Model\n",
    "Author: Ewan Long, Anne Tumlin \n",
    "\n",
    "Date: 04/13/25\n",
    "\n",
    "Based on our findings in `ModelComparison.ipynb`, linear regression consistently outperformed more complex models such as decision trees, random forests, and XGBoost. In this notebook, we explore whether we can further enhance linear regression performance through advanced techniques like feature transformations and regularization."
   ]
  },
  {
   "cell_type": "code",
   "execution_count": 1,
   "metadata": {},
   "outputs": [
    {
     "name": "stderr",
     "output_type": "stream",
     "text": [
      "Setting default log level to \"WARN\".\n",
      "To adjust logging level use sc.setLogLevel(newLevel). For SparkR, use setLogLevel(newLevel).\n",
      "25/04/13 22:23:53 INFO SparkEnv: Registering MapOutputTracker\n",
      "25/04/13 22:23:53 INFO SparkEnv: Registering BlockManagerMaster\n",
      "25/04/13 22:23:53 INFO SparkEnv: Registering BlockManagerMasterHeartbeat\n",
      "25/04/13 22:23:53 INFO SparkEnv: Registering OutputCommitCoordinator\n"
     ]
    }
   ],
   "source": [
    "import os\n",
    "import subprocess\n",
    "import time\n",
    "from pyspark.sql import SparkSession\n",
    "import pyspark.sql.functions as F\n",
    "from pyspark.sql.functions import col, explode, input_file_name, expr, sum as spark_sum, avg, count\n",
    "\n",
    "\n",
    "spark = (\n",
    "    SparkSession.builder\n",
    "    .config(\"spark.dynamicAllocation.enabled\", \"false\")\n",
    "    .getOrCreate()\n",
    ")"
   ]
  },
  {
   "cell_type": "code",
   "execution_count": 2,
   "metadata": {
    "tags": []
   },
   "outputs": [
    {
     "name": "stderr",
     "output_type": "stream",
     "text": [
      "                                                                                \r"
     ]
    }
   ],
   "source": [
    "df = spark.read.parquet(\"gs://ds5460-tumlinam-fp-bucket/final_datasets/combined_features_df/\")"
   ]
  },
  {
   "cell_type": "markdown",
   "metadata": {},
   "source": [
    "### Vanilla Linear Regression\n",
    "Let's start by getting the baseline for an LR model to compare against as we tune and try to get better results. "
   ]
  },
  {
   "cell_type": "code",
   "execution_count": 3,
   "metadata": {},
   "outputs": [],
   "source": [
    "from pyspark.ml.feature import VectorAssembler, StandardScaler\n",
    "from pyspark.ml.regression import LinearRegression\n",
    "from pyspark.ml.evaluation import RegressionEvaluator\n",
    "import time\n",
    "from pyspark.ml.tuning import ParamGridBuilder, TrainValidationSplit\n",
    "from pyspark.ml import Pipeline"
   ]
  },
  {
   "cell_type": "code",
   "execution_count": 4,
   "metadata": {},
   "outputs": [],
   "source": [
    "feature_cols = [c for c in df.columns if c != \"filename\" and c != \"total_cost\"]\n",
    "\n",
    "assembler = VectorAssembler(inputCols=feature_cols, outputCol=\"raw_features\")\n",
    "assembled_df = assembler.transform(df).select(\"raw_features\", col(\"total_cost\").alias(\"label\"))"
   ]
  },
  {
   "cell_type": "code",
   "execution_count": 40,
   "metadata": {},
   "outputs": [],
   "source": [
    "scaler = StandardScaler(inputCol=\"raw_features\", outputCol=\"features\", withMean=True, withStd=True)\n",
    "scaler_model = scaler.fit(assembled_df)\n",
    "scaled_df = scaler_model.transform(assembled_df).select(\"features\", \"label\")"
   ]
  },
  {
   "cell_type": "code",
   "execution_count": 7,
   "metadata": {},
   "outputs": [],
   "source": [
    "train_data, test_data = scaled_df.randomSplit([0.8, 0.2], seed=42)"
   ]
  },
  {
   "cell_type": "code",
   "execution_count": null,
   "metadata": {},
   "outputs": [],
   "source": [
    "lr = LinearRegression(featuresCol=\"features\", labelCol=\"label\")\n",
    "start_time = time.time()\n",
    "lr_model = lr.fit(train_data)\n",
    "train_time = time.time() - start_time"
   ]
  },
  {
   "cell_type": "code",
   "execution_count": 9,
   "metadata": {},
   "outputs": [
    {
     "name": "stderr",
     "output_type": "stream",
     "text": [
      "[Stage 12:=================================================>        (6 + 1) / 7]\r"
     ]
    },
    {
     "name": "stdout",
     "output_type": "stream",
     "text": [
      "RMSE: 280.7658\n",
      "MAE:  220.6687\n",
      "R²:   0.9983\n",
      "Training Time: 35.84 seconds\n"
     ]
    },
    {
     "name": "stderr",
     "output_type": "stream",
     "text": [
      "                                                                                \r"
     ]
    }
   ],
   "source": [
    "predictions = lr_model.transform(test_data)\n",
    "evaluator = RegressionEvaluator(labelCol=\"label\", predictionCol=\"prediction\")\n",
    "\n",
    "rmse = evaluator.evaluate(predictions, {evaluator.metricName: \"rmse\"})\n",
    "mae = evaluator.evaluate(predictions, {evaluator.metricName: \"mae\"})\n",
    "r2 = evaluator.evaluate(predictions, {evaluator.metricName: \"r2\"})\n",
    "\n",
    "print(f\"RMSE: {rmse:.4f}\")\n",
    "print(f\"MAE:  {mae:.4f}\")\n",
    "print(f\"R²:   {r2:.4f}\")\n",
    "print(f\"Training Time: {train_time:.2f} seconds\")"
   ]
  },
  {
   "cell_type": "markdown",
   "metadata": {},
   "source": [
    "### Ridge Regression\n",
    "So, for a vanilla LR we are getting an RMSE of 280.7658. Let's try **Ridge Regression**. "
   ]
  },
  {
   "cell_type": "code",
   "execution_count": 11,
   "metadata": {},
   "outputs": [],
   "source": [
    "ridge = LinearRegression(featuresCol=\"features\", labelCol=\"label\", elasticNetParam=0.0)\n",
    "\n",
    "paramGrid = (ParamGridBuilder()\n",
    "    .addGrid(ridge.regParam, [0.001, 0.01, 0.1, 1.0])\n",
    "    .build())\n",
    "\n",
    "evaluator = RegressionEvaluator(labelCol=\"label\", predictionCol=\"prediction\", metricName=\"rmse\")"
   ]
  },
  {
   "cell_type": "code",
   "execution_count": 12,
   "metadata": {},
   "outputs": [],
   "source": [
    "tvs = TrainValidationSplit(estimator=ridge,\n",
    "                           estimatorParamMaps=paramGrid,\n",
    "                           evaluator=evaluator,\n",
    "                           trainRatio=0.8)"
   ]
  },
  {
   "cell_type": "code",
   "execution_count": 13,
   "metadata": {},
   "outputs": [
    {
     "name": "stderr",
     "output_type": "stream",
     "text": [
      "                                                                                \r"
     ]
    }
   ],
   "source": [
    "start_time = time.time()\n",
    "ridge_model = tvs.fit(train_data)\n",
    "train_time = time.time() - start_time"
   ]
  },
  {
   "cell_type": "code",
   "execution_count": 14,
   "metadata": {},
   "outputs": [
    {
     "name": "stderr",
     "output_type": "stream",
     "text": [
      "[Stage 46:=========================================>                (5 + 2) / 7]\r"
     ]
    },
    {
     "name": "stdout",
     "output_type": "stream",
     "text": [
      "Best regParam: 0.01\n",
      "RMSE: 280.8556\n",
      "MAE:  220.5700\n",
      "R²:   0.9983\n",
      "Training Time: 57.11 seconds\n"
     ]
    },
    {
     "name": "stderr",
     "output_type": "stream",
     "text": [
      "                                                                                \r"
     ]
    }
   ],
   "source": [
    "predictions = ridge_model.transform(test_data)\n",
    "rmse = evaluator.evaluate(predictions, {evaluator.metricName: \"rmse\"})\n",
    "mae = evaluator.evaluate(predictions, {evaluator.metricName: \"mae\"})\n",
    "r2 = evaluator.evaluate(predictions, {evaluator.metricName: \"r2\"})\n",
    "\n",
    "print(\"Best regParam:\", ridge_model.bestModel._java_obj.getRegParam())\n",
    "print(f\"RMSE: {rmse:.4f}\")\n",
    "print(f\"MAE:  {mae:.4f}\")\n",
    "print(f\"R²:   {r2:.4f}\")\n",
    "print(f\"Training Time: {train_time:.2f} seconds\")"
   ]
  },
  {
   "cell_type": "markdown",
   "metadata": {},
   "source": [
    "### Lasso Regression\n",
    "Not much better improvement but still on par. Let's try **Lasso**. "
   ]
  },
  {
   "cell_type": "code",
   "execution_count": 15,
   "metadata": {},
   "outputs": [],
   "source": [
    "lasso = LinearRegression(labelCol=\"label\", featuresCol=\"features\", elasticNetParam=1.0)\n",
    "\n",
    "paramGrid = ParamGridBuilder() \\\n",
    "    .addGrid(lasso.regParam, [0.01, 0.1, 1.0]) \\\n",
    "    .build()"
   ]
  },
  {
   "cell_type": "code",
   "execution_count": 16,
   "metadata": {},
   "outputs": [],
   "source": [
    "tvs = TrainValidationSplit(estimator=lasso,\n",
    "                           estimatorParamMaps=paramGrid,\n",
    "                           evaluator=RegressionEvaluator(labelCol=\"label\"),\n",
    "                           trainRatio=0.8)"
   ]
  },
  {
   "cell_type": "code",
   "execution_count": 17,
   "metadata": {},
   "outputs": [
    {
     "name": "stderr",
     "output_type": "stream",
     "text": [
      "                                                                                \r"
     ]
    }
   ],
   "source": [
    "start_time = time.time()\n",
    "lasso_model = tvs.fit(train_data)\n",
    "train_time = time.time() - start_time"
   ]
  },
  {
   "cell_type": "code",
   "execution_count": 18,
   "metadata": {},
   "outputs": [
    {
     "name": "stderr",
     "output_type": "stream",
     "text": [
      "[Stage 74:=================================================>        (6 + 1) / 7]\r"
     ]
    },
    {
     "name": "stdout",
     "output_type": "stream",
     "text": [
      "Lasso RMSE: 293.5459\n",
      "Lasso MAE:  228.4136\n",
      "Lasso R²:   0.9982\n",
      "Training Time: 45.86 seconds\n"
     ]
    },
    {
     "name": "stderr",
     "output_type": "stream",
     "text": [
      "                                                                                \r"
     ]
    }
   ],
   "source": [
    "predictions = lasso_model.transform(test_data)\n",
    "rmse = evaluator.evaluate(predictions, {evaluator.metricName: \"rmse\"})\n",
    "mae = evaluator.evaluate(predictions, {evaluator.metricName: \"mae\"})\n",
    "r2 = evaluator.evaluate(predictions, {evaluator.metricName: \"r2\"})\n",
    "\n",
    "print(f\"Lasso RMSE: {rmse:.4f}\")\n",
    "print(f\"Lasso MAE:  {mae:.4f}\")\n",
    "print(f\"Lasso R²:   {r2:.4f}\")\n",
    "print(f\"Training Time: {train_time:.2f} seconds\")"
   ]
  },
  {
   "cell_type": "markdown",
   "metadata": {},
   "source": [
    "### ElasticNet\n",
    "Lasso actually made the model perform worse. Let's try **ElasticNet**. "
   ]
  },
  {
   "cell_type": "code",
   "execution_count": 19,
   "metadata": {},
   "outputs": [],
   "source": [
    "en = LinearRegression(featuresCol=\"features\", labelCol=\"label\")\n",
    "\n",
    "paramGrid = (ParamGridBuilder()\n",
    "             .addGrid(en.regParam, [0.01, 0.1, 1.0])\n",
    "             .addGrid(en.elasticNetParam, [0.1, 0.5, 0.9])\n",
    "             .build())\n",
    "\n",
    "evaluator = RegressionEvaluator(labelCol=\"label\", predictionCol=\"prediction\", metricName=\"rmse\")\n",
    "\n",
    "tvs = TrainValidationSplit(estimator=en,\n",
    "                           estimatorParamMaps=paramGrid,\n",
    "                           evaluator=evaluator,\n",
    "                           trainRatio=0.8)"
   ]
  },
  {
   "cell_type": "code",
   "execution_count": 20,
   "metadata": {},
   "outputs": [
    {
     "name": "stderr",
     "output_type": "stream",
     "text": [
      "                                                                                \r"
     ]
    }
   ],
   "source": [
    "start_time = time.time()\n",
    "en_model = tvs.fit(train_data)\n",
    "train_time = time.time() - start_time"
   ]
  },
  {
   "cell_type": "code",
   "execution_count": 21,
   "metadata": {},
   "outputs": [
    {
     "name": "stderr",
     "output_type": "stream",
     "text": [
      "[Stage 138:================================================>        (6 + 1) / 7]\r"
     ]
    },
    {
     "name": "stdout",
     "output_type": "stream",
     "text": [
      "Best regParam: 0.01\n",
      "Best elasticNetParam: 0.1\n",
      "RMSE: 293.4881\n",
      "MAE:  228.3783\n",
      "R²:   0.9982\n",
      "Training Time: 52.55 seconds\n"
     ]
    },
    {
     "name": "stderr",
     "output_type": "stream",
     "text": [
      "                                                                                \r"
     ]
    }
   ],
   "source": [
    "predictions = en_model.transform(test_data)\n",
    "rmse = evaluator.evaluate(predictions, {evaluator.metricName: \"rmse\"})\n",
    "mae = evaluator.evaluate(predictions, {evaluator.metricName: \"mae\"})\n",
    "r2 = evaluator.evaluate(predictions, {evaluator.metricName: \"r2\"})\n",
    "\n",
    "print(f\"Best regParam: {en_model.bestModel._java_obj.getRegParam()}\")\n",
    "print(f\"Best elasticNetParam: {en_model.bestModel._java_obj.getElasticNetParam()}\")\n",
    "print(f\"RMSE: {rmse:.4f}\")\n",
    "print(f\"MAE:  {mae:.4f}\")\n",
    "print(f\"R²:   {r2:.4f}\")\n",
    "print(f\"Training Time: {train_time:.2f} seconds\")"
   ]
  },
  {
   "cell_type": "code",
   "execution_count": 24,
   "metadata": {},
   "outputs": [
    {
     "data": {
      "image/png": "[encoded data removed]",
      "text/plain": [
       "<Figure size 1000x600 with 2 Axes>"
      ]
     },
     "metadata": {},
     "output_type": "display_data"
    }
   ],
   "source": [
    "import matplotlib.pyplot as plt\n",
    "import pandas as pd\n",
    "\n",
    "data = {\n",
    "    \"Model\": [\"Linear Regression\", \"Ridge (L2)\", \"Lasso (L1)\", \"Elastic Net\"],\n",
    "    \"RMSE\": [280.77, 280.86, 293.55, 293.49],\n",
    "    \"MAE\": [220.67, 220.57, 228.41, 228.38],\n",
    "    \"R2\": [0.9983, 0.9983, 0.9982, 0.9982],\n",
    "    \"Training Time\": [35.84, 57.11, 45.86, 52.55]\n",
    "}\n",
    "\n",
    "df_plot = pd.DataFrame(data)\n",
    "\n",
    "fig, ax1 = plt.subplots(figsize=(10, 6))\n",
    "\n",
    "color = 'tab:blue'\n",
    "bars = ax1.bar(df_plot[\"Model\"], df_plot[\"RMSE\"], alpha=0.6, label=\"RMSE\", color=color)\n",
    "ax1.set_ylabel('RMSE', color=color)\n",
    "ax1.tick_params(axis='y', labelcolor=color)\n",
    "\n",
    "for bar in bars:\n",
    "    height = bar.get_height()\n",
    "    ax1.annotate(f'{height:.2f}', xy=(bar.get_x() + bar.get_width() / 2, height),\n",
    "                 xytext=(0, 3), textcoords=\"offset points\",\n",
    "                 ha='center', va='bottom', fontsize=9, color='black')\n",
    "\n",
    "ax2 = ax1.twinx()\n",
    "color = 'tab:red'\n",
    "ax2.plot(df_plot[\"Model\"], df_plot[\"Training Time\"], color=color, marker='o', label=\"Training Time\", linewidth=2)\n",
    "ax2.set_ylabel('Training Time (s)', color=color)\n",
    "ax2.tick_params(axis='y', labelcolor=color)\n",
    "\n",
    "fig.suptitle(\"Linear Model Comparison: RMSE vs Training Time\")\n",
    "plt.tight_layout()\n",
    "plt.show()\n"
   ]
  },
  {
   "cell_type": "markdown",
   "metadata": {},
   "source": [
    "### Linear Regression Method Comparison\n",
    "\n",
    "While **Vanilla LR** achieved the lowest RMSE and highest R², the **Ridge Regression** model demonstrated nearly identical performance with slightly improved MAE, suggesting that minor regularization can help stabilize predictions. **Lasso** and **Elastic Net** underperformed slightly, likely due to their biasing effect on coefficients. \n"
   ]
  },
  {
   "cell_type": "markdown",
   "metadata": {},
   "source": [
    "### Polynomial Feature Expansion\n",
    "\n",
    "The **Polynomial Regression** model’s results will offer insight into whether incorporating interactions adds predictive value beyond linear relationships."
   ]
  },
  {
   "cell_type": "code",
   "execution_count": 7,
   "metadata": {},
   "outputs": [],
   "source": [
    "from pyspark.ml.feature import PolynomialExpansion"
   ]
  },
  {
   "cell_type": "code",
   "execution_count": 59,
   "metadata": {},
   "outputs": [],
   "source": [
    "assembler = VectorAssembler(inputCols=feature_cols, outputCol=\"raw_features\")\n",
    "\n",
    "scaler = StandardScaler(inputCol=\"raw_features\", outputCol=\"features\", withMean=True, withStd=True)"
   ]
  },
  {
   "cell_type": "code",
   "execution_count": 60,
   "metadata": {},
   "outputs": [],
   "source": [
    "polyExpansion = PolynomialExpansion(degree=3, inputCol=\"features\", outputCol=\"poly_features\")\n",
    "\n",
    "poly_lr = LinearRegression(featuresCol=\"poly_features\", labelCol=\"label\")\n",
    "\n",
    "pipeline = Pipeline(stages=[assembler, scaler, polyExpansion, poly_lr])"
   ]
  },
  {
   "cell_type": "code",
   "execution_count": 61,
   "metadata": {},
   "outputs": [],
   "source": [
    "df_labeled = df.select(*feature_cols, col(\"total_cost\").alias(\"label\"))\n",
    "train_data, test_data = df_labeled.randomSplit([0.8, 0.2], seed=42)"
   ]
  },
  {
   "cell_type": "code",
   "execution_count": 62,
   "metadata": {},
   "outputs": [
    {
     "name": "stderr",
     "output_type": "stream",
     "text": [
      "25/04/13 21:28:49 WARN Instrumentation: [40cc2be2] regParam is zero, which might cause numerical instability and overfitting.\n",
      "25/04/13 21:28:58 WARN Instrumentation: [40cc2be2] Cholesky solver failed due to singular covariance matrix. Retrying with Quasi-Newton solver.\n",
      "                                                                                \r"
     ]
    }
   ],
   "source": [
    "start_time = time.time()\n",
    "model = pipeline.fit(train_data)\n",
    "train_time = time.time() - start_time"
   ]
  },
  {
   "cell_type": "code",
   "execution_count": 63,
   "metadata": {},
   "outputs": [
    {
     "name": "stderr",
     "output_type": "stream",
     "text": [
      "[Stage 227:========================================>                (5 + 2) / 7]\r"
     ]
    },
    {
     "name": "stdout",
     "output_type": "stream",
     "text": [
      "RMSE: 247.8984\n",
      "MAE:  197.4194\n",
      "R²:   0.9987\n",
      "Training Time: 32.65 seconds\n"
     ]
    },
    {
     "name": "stderr",
     "output_type": "stream",
     "text": [
      "                                                                                \r"
     ]
    }
   ],
   "source": [
    "predictions = model.transform(test_data)\n",
    "evaluator = RegressionEvaluator(labelCol=\"label\", predictionCol=\"prediction\")\n",
    "rmse = evaluator.setMetricName(\"rmse\").evaluate(predictions)\n",
    "mae = evaluator.setMetricName(\"mae\").evaluate(predictions)\n",
    "r2 = evaluator.setMetricName(\"r2\").evaluate(predictions)\n",
    "\n",
    "print(f\"RMSE: {rmse:.4f}\")\n",
    "print(f\"MAE:  {mae:.4f}\")\n",
    "print(f\"R²:   {r2:.4f}\")\n",
    "print(f\"Training Time: {train_time:.2f} seconds\")"
   ]
  },
  {
   "cell_type": "markdown",
   "metadata": {},
   "source": [
    "### Polynomial Feature Expansion + Ridge Regression"
   ]
  },
  {
   "cell_type": "code",
   "execution_count": 64,
   "metadata": {},
   "outputs": [],
   "source": [
    "ridge = LinearRegression(featuresCol=\"poly_features\", labelCol=\"label\", regParam=0.1)\n",
    "\n",
    "pipeline = Pipeline(stages=[assembler, scaler, polyExpansion, ridge])\n",
    "\n",
    "paramGrid = ParamGridBuilder().addGrid(ridge.regParam, [0.01, 0.05, 0.1, 0.5]).build()\n",
    "\n",
    "tvs = TrainValidationSplit(\n",
    "    estimator=pipeline,\n",
    "    estimatorParamMaps=paramGrid,\n",
    "    evaluator=evaluator,\n",
    "    trainRatio=0.8\n",
    ")"
   ]
  },
  {
   "cell_type": "code",
   "execution_count": 65,
   "metadata": {},
   "outputs": [
    {
     "name": "stderr",
     "output_type": "stream",
     "text": [
      "                                                                                \r"
     ]
    }
   ],
   "source": [
    "start_time = time.time()\n",
    "ridge_model = tvs.fit(train_data)\n",
    "train_time = time.time() - start_time"
   ]
  },
  {
   "cell_type": "code",
   "execution_count": 66,
   "metadata": {},
   "outputs": [
    {
     "name": "stderr",
     "output_type": "stream",
     "text": [
      "[Stage 281:================================================>        (6 + 1) / 7]\r"
     ]
    },
    {
     "name": "stdout",
     "output_type": "stream",
     "text": [
      "RMSE: 247.2876\n",
      "MAE:  197.2411\n",
      "R²:   0.9987\n",
      "Training Time: 58.59 seconds\n"
     ]
    },
    {
     "name": "stderr",
     "output_type": "stream",
     "text": [
      "                                                                                \r"
     ]
    }
   ],
   "source": [
    "preds = ridge_model.transform(test_data)\n",
    "rmse = evaluator.evaluate(preds, {evaluator.metricName: \"rmse\"})\n",
    "mae = evaluator.evaluate(preds, {evaluator.metricName: \"mae\"})\n",
    "r2 = evaluator.evaluate(preds, {evaluator.metricName: \"r2\"})\n",
    "\n",
    "print(f\"RMSE: {rmse:.4f}\")\n",
    "print(f\"MAE:  {mae:.4f}\")\n",
    "print(f\"R²:   {r2:.4f}\")\n",
    "print(f\"Training Time: {train_time:.2f} seconds\")"
   ]
  },
  {
   "cell_type": "markdown",
   "metadata": {},
   "source": [
    "Given that our experiments from `ModelComparison.ipynb` showed linear regression outperforming more complex models like random forests, gradient boosted trees, and even XGBoost, we hypothesized that the relationship between features and total generation cost might still be predominantly linear — but with some nonlinear interactions that basic linear models couldn't capture directly. To explore this, we introduced polynomial feature expansion, which allows the linear model to incorporate pairwise feature interactions without sacrificing interpretability or efficiency. This approach significantly improved performance, reducing RMSE by over 30 points compared to the baseline, and confirmed that capturing higher-order feature relationships was key to improving predictions on this task. The best-performing model, Ridge Regression with polynomial features, achieved an RMSE of **247.28** (down from **280.77**), affirming that the combination of linear modeling and engineered nonlinearity struck the right balance between complexity and generalization."
   ]
  },
  {
   "cell_type": "code",
   "execution_count": 67,
   "metadata": {},
   "outputs": [
    {
     "data": {
      "image/png": "[encoded data removed]",
      "text/plain": [
       "<Figure size 1000x600 with 1 Axes>"
      ]
     },
     "metadata": {},
     "output_type": "display_data"
    }
   ],
   "source": [
    "data = {\n",
    "    \"Model\": [\n",
    "        \"Vanilla LR\", \n",
    "        \"Ridge Regression\", \n",
    "        \"Poly Features + LR\", \n",
    "        \"Poly Features + Ridge\"\n",
    "    ],\n",
    "    \"RMSE\": [\n",
    "        280.7658,    # Vanilla Linear Regression\n",
    "        280.8556,    # Ridge\n",
    "        247.8984,    # Polynomial + Vanilla LR\n",
    "        247.2876     # Polynomial + Ridge\n",
    "    ]\n",
    "}\n",
    "\n",
    "df_plot = pd.DataFrame(data)\n",
    "\n",
    "plt.figure(figsize=(10, 6))\n",
    "bars = plt.bar(df_plot[\"Model\"], df_plot[\"RMSE\"], color='skyblue')\n",
    "\n",
    "# Annotate bars with RMSE values\n",
    "for bar in bars:\n",
    "    yval = bar.get_height()\n",
    "    plt.text(bar.get_x() + bar.get_width()/2, yval + 1, f\"{yval:.2f}\", ha='center', va='bottom', fontsize=10)\n",
    "\n",
    "plt.title(\"Comparison of Linear Models with and without Polynomial Features\")\n",
    "plt.ylabel(\"RMSE\")\n",
    "plt.ylim(240, 290)\n",
    "plt.grid(axis='y', linestyle='--', alpha=0.7)\n",
    "plt.tight_layout()\n",
    "plt.show()"
   ]
  },
  {
   "cell_type": "markdown",
   "metadata": {},
   "source": [
    "### Bagging and Boosting\n",
    "Now, let's explore **bagging and boosting techniques** to assess whether ensemble methods can further improve predictive accuracy and robustness compared to individual models."
   ]
  },
  {
   "cell_type": "markdown",
   "metadata": {},
   "source": [
    "**Bagging Methods:**"
   ]
  },
  {
   "cell_type": "code",
   "execution_count": 5,
   "metadata": {
    "tags": []
   },
   "outputs": [],
   "source": [
    "# Import the libraries if you run the code from here directly\n",
    "from pyspark.ml.feature import VectorAssembler\n",
    "import time\n",
    "from pyspark.ml.regression import LinearRegression\n",
    "from pyspark.sql.functions import monotonically_increasing_id, col, expr\n",
    "from pyspark.ml.evaluation import RegressionEvaluator"
   ]
  },
  {
   "cell_type": "code",
   "execution_count": 70,
   "metadata": {},
   "outputs": [
    {
     "name": "stderr",
     "output_type": "stream",
     "text": [
      "                                                                                \r"
     ]
    }
   ],
   "source": [
    "assembler = VectorAssembler(inputCols=feature_cols, outputCol=\"raw_features\")\n",
    "assembled_df = assembler.transform(df).select(\"raw_features\", col(\"total_cost\").alias(\"label\"))\n",
    "\n",
    "poly = PolynomialExpansion(degree=2, inputCol=\"raw_features\", outputCol=\"poly_features\")\n",
    "poly_df = poly.transform(assembled_df)\n",
    "\n",
    "scaler = StandardScaler(inputCol=\"poly_features\", outputCol=\"features\", withMean=True, withStd=True)\n",
    "scaler_model = scaler.fit(poly_df)\n",
    "scaled_df = scaler_model.transform(poly_df).select(\"features\", \"label\")"
   ]
  },
  {
   "cell_type": "code",
   "execution_count": 71,
   "metadata": {},
   "outputs": [],
   "source": [
    "train_data, test_data = scaled_df.randomSplit([0.8, 0.2], seed=42)"
   ]
  },
  {
   "cell_type": "code",
   "execution_count": 73,
   "metadata": {
    "tags": []
   },
   "outputs": [
    {
     "name": "stdout",
     "output_type": "stream",
     "text": [
      "Starting training of Bagging models...\n"
     ]
    },
    {
     "name": "stderr",
     "output_type": "stream",
     "text": [
      "                                                                                \r"
     ]
    },
    {
     "name": "stdout",
     "output_type": "stream",
     "text": [
      "Model 0 training time: 19.7574 seconds\n"
     ]
    },
    {
     "name": "stderr",
     "output_type": "stream",
     "text": [
      "                                                                                \r"
     ]
    },
    {
     "name": "stdout",
     "output_type": "stream",
     "text": [
      "Model 1 training time: 18.6292 seconds\n"
     ]
    },
    {
     "name": "stderr",
     "output_type": "stream",
     "text": [
      "                                                                                \r"
     ]
    },
    {
     "name": "stdout",
     "output_type": "stream",
     "text": [
      "Model 2 training time: 17.9837 seconds\n"
     ]
    },
    {
     "name": "stderr",
     "output_type": "stream",
     "text": [
      "                                                                                \r"
     ]
    },
    {
     "name": "stdout",
     "output_type": "stream",
     "text": [
      "Model 3 training time: 17.9903 seconds\n"
     ]
    },
    {
     "name": "stderr",
     "output_type": "stream",
     "text": [
      "                                                                                \r"
     ]
    },
    {
     "name": "stdout",
     "output_type": "stream",
     "text": [
      "Model 4 training time: 17.9267 seconds\n"
     ]
    },
    {
     "name": "stderr",
     "output_type": "stream",
     "text": [
      "                                                                                \r"
     ]
    },
    {
     "name": "stdout",
     "output_type": "stream",
     "text": [
      "Model 5 training time: 17.7316 seconds\n"
     ]
    },
    {
     "name": "stderr",
     "output_type": "stream",
     "text": [
      "                                                                                \r"
     ]
    },
    {
     "name": "stdout",
     "output_type": "stream",
     "text": [
      "Model 6 training time: 17.5716 seconds\n"
     ]
    },
    {
     "name": "stderr",
     "output_type": "stream",
     "text": [
      "                                                                                \r"
     ]
    },
    {
     "name": "stdout",
     "output_type": "stream",
     "text": [
      "Model 7 training time: 18.1033 seconds\n"
     ]
    },
    {
     "name": "stderr",
     "output_type": "stream",
     "text": [
      "                                                                                \r"
     ]
    },
    {
     "name": "stdout",
     "output_type": "stream",
     "text": [
      "Model 8 training time: 17.8723 seconds\n"
     ]
    },
    {
     "name": "stderr",
     "output_type": "stream",
     "text": [
      "[Stage 340:================================================>        (6 + 1) / 7]\r"
     ]
    },
    {
     "name": "stdout",
     "output_type": "stream",
     "text": [
      "Model 9 training time: 17.9566 seconds\n",
      "Total training time: 181.5225 seconds\n"
     ]
    },
    {
     "name": "stderr",
     "output_type": "stream",
     "text": [
      "                                                                                \r"
     ]
    }
   ],
   "source": [
    "# Model Training\n",
    "# Set the number of Bagging models to train\n",
    "n_models = 10\n",
    "\n",
    "# Lists to store trained models and individual training times\n",
    "models = []\n",
    "training_times = []\n",
    "\n",
    "print(\"Starting training of Bagging models...\")\n",
    "\n",
    "for i in range(n_models):\n",
    "    # Generate a bootstrap sample (with replacement) from the training set\n",
    "    train_sample = train_data.sample(withReplacement=True, fraction=1.0, seed=i)\n",
    "    \n",
    "    # Define a simple linear regression model\n",
    "    lr = LinearRegression(regParam=0.01,featuresCol=\"features\", labelCol=\"label\")\n",
    "    \n",
    "    # Record training time\n",
    "    start_time = time.time()\n",
    "    model = lr.fit(train_sample)\n",
    "    end_time = time.time()\n",
    "    \n",
    "    models.append(model)\n",
    "    model_time = end_time - start_time\n",
    "    training_times.append(model_time)\n",
    "    print(f\"Model {i} training time: {model_time:.4f} seconds\")\n",
    "\n",
    "# Calculate the total training time for all models\n",
    "total_training_time = sum(training_times)\n",
    "print(f\"Total training time: {total_training_time:.4f} seconds\")\n"
   ]
  },
  {
   "cell_type": "code",
   "execution_count": 74,
   "metadata": {
    "tags": []
   },
   "outputs": [],
   "source": [
    "# Add a unique identifier to the test set for later joining predictions\n",
    "test_data_with_id = test_data.withColumn(\"id\", monotonically_increasing_id())\n",
    "\n",
    "# Create a DataFrame with the unique id and true label\n",
    "preds_df = test_data_with_id.select(\"id\", \"label\")\n",
    "\n",
    "# For each trained model, generate predictions on the test set and join with preds_df\n",
    "for idx, model in enumerate(models):\n",
    "    # Obtain predictions and rename the \"prediction\" column to \"pred_{idx}\"\n",
    "    pred = model.transform(test_data_with_id).select(\"id\", col(\"prediction\").alias(f\"pred_{idx}\"))\n",
    "    preds_df = preds_df.join(pred, on=\"id\")\n",
    "\n",
    "# Calculate the ensemble prediction by averaging the predictions from all models\n",
    "pred_cols = [f\"pred_{i}\" for i in range(n_models)]\n",
    "# Build an expression that sums all prediction columns\n",
    "sum_expr = \" + \".join(pred_cols)\n",
    "preds_df = preds_df.withColumn(\"ensemble_prediction\", (expr(sum_expr)) / n_models)"
   ]
  },
  {
   "cell_type": "code",
   "execution_count": 75,
   "metadata": {
    "tags": []
   },
   "outputs": [
    {
     "name": "stderr",
     "output_type": "stream",
     "text": [
      "[Stage 376:================================================>        (6 + 1) / 7]\r"
     ]
    },
    {
     "name": "stdout",
     "output_type": "stream",
     "text": [
      "----- Evaluation Metrics for Bagging Ensemble with Simple Linear Regression -----\n",
      "RMSE: 247.2926\n",
      "MAE:  197.3617\n",
      "R²:   0.9987\n",
      "Total training time: 181.5225 seconds\n"
     ]
    },
    {
     "name": "stderr",
     "output_type": "stream",
     "text": [
      "                                                                                \r"
     ]
    }
   ],
   "source": [
    "# Create evaluators for RMSE, MAE, and R² metrics using the ensemble prediction\n",
    "evaluator_rmse = RegressionEvaluator(labelCol=\"label\", predictionCol=\"ensemble_prediction\", metricName=\"rmse\")\n",
    "evaluator_mae = RegressionEvaluator(labelCol=\"label\", predictionCol=\"ensemble_prediction\", metricName=\"mae\")\n",
    "evaluator_r2  = RegressionEvaluator(labelCol=\"label\", predictionCol=\"ensemble_prediction\", metricName=\"r2\")\n",
    "\n",
    "# Evaluate the metrics on the ensemble predictions\n",
    "rmse = evaluator_rmse.evaluate(preds_df)\n",
    "mae = evaluator_mae.evaluate(preds_df)\n",
    "r2  = evaluator_r2.evaluate(preds_df)\n",
    "\n",
    "# Print the evaluation metrics and total training time\n",
    "print(\"----- Evaluation Metrics for Bagging Ensemble with Simple Linear Regression -----\")\n",
    "print(f\"RMSE: {rmse:.4f}\")\n",
    "print(f\"MAE:  {mae:.4f}\")\n",
    "print(f\"R²:   {r2:.4f}\")\n",
    "print(f\"Total training time: {total_training_time:.4f} seconds\")"
   ]
  },
  {
   "cell_type": "markdown",
   "metadata": {},
   "source": [
    "**Boosting Methods**"
   ]
  },
  {
   "cell_type": "code",
   "execution_count": 8,
   "metadata": {
    "tags": []
   },
   "outputs": [],
   "source": [
    "assembler = VectorAssembler(inputCols=feature_cols, outputCol=\"raw_features\")\n",
    "df_assembled = assembler.transform(df).select(\"raw_features\", col(\"total_cost\").alias(\"label\"))\n",
    "\n",
    "# Add polynomial features\n",
    "poly_expand = PolynomialExpansion(degree=2, inputCol=\"raw_features\", outputCol=\"features\")\n",
    "df_poly = poly_expand.transform(df_assembled).select(\"features\", \"label\")\n",
    "\n",
    "# Split and add IDs\n",
    "train_data, test_data = df_poly.randomSplit([0.8, 0.2], seed=42)\n",
    "train_data = train_data.withColumn(\"id\", monotonically_increasing_id())\n",
    "test_data = test_data.withColumn(\"id\", monotonically_increasing_id())"
   ]
  },
  {
   "cell_type": "code",
   "execution_count": 9,
   "metadata": {
    "tags": []
   },
   "outputs": [
    {
     "name": "stderr",
     "output_type": "stream",
     "text": [
      "                                                                                \r"
     ]
    },
    {
     "data": {
      "text/plain": [
       "DataFrame[features: vector, label: double, id: bigint, f: double]"
      ]
     },
     "execution_count": 9,
     "metadata": {},
     "output_type": "execute_result"
    }
   ],
   "source": [
    "from pyspark.sql.functions import lit, mean\n",
    "\n",
    "# Compute initial prediction f0: the mean of the training label\n",
    "f0 = train_data.agg(mean(\"label\")).first()[0]\n",
    "\n",
    "# Initialize training DataFrame with initial prediction column \"f\"\n",
    "boosted_train = train_data.withColumn(\"f\", lit(f0))\n",
    "boosted_train.cache()"
   ]
  },
  {
   "cell_type": "code",
   "execution_count": 10,
   "metadata": {},
   "outputs": [
    {
     "name": "stdout",
     "output_type": "stream",
     "text": [
      "Starting boosting training...\n"
     ]
    },
    {
     "name": "stderr",
     "output_type": "stream",
     "text": [
      "                                                                                \r"
     ]
    },
    {
     "name": "stdout",
     "output_type": "stream",
     "text": [
      "Iteration 0 training time: 18.0992 seconds\n"
     ]
    },
    {
     "name": "stderr",
     "output_type": "stream",
     "text": [
      "                                                                                \r"
     ]
    },
    {
     "name": "stdout",
     "output_type": "stream",
     "text": [
      "Iteration 1 training time: 5.4210 seconds\n"
     ]
    },
    {
     "name": "stderr",
     "output_type": "stream",
     "text": [
      "                                                                                \r"
     ]
    },
    {
     "name": "stdout",
     "output_type": "stream",
     "text": [
      "Iteration 2 training time: 8.8737 seconds\n"
     ]
    },
    {
     "name": "stderr",
     "output_type": "stream",
     "text": [
      "                                                                                \r"
     ]
    },
    {
     "name": "stdout",
     "output_type": "stream",
     "text": [
      "Iteration 3 training time: 12.5681 seconds\n"
     ]
    },
    {
     "name": "stderr",
     "output_type": "stream",
     "text": [
      "                                                                                \r"
     ]
    },
    {
     "name": "stdout",
     "output_type": "stream",
     "text": [
      "Iteration 4 training time: 14.0197 seconds\n"
     ]
    },
    {
     "name": "stderr",
     "output_type": "stream",
     "text": [
      "                                                                                \r"
     ]
    },
    {
     "name": "stdout",
     "output_type": "stream",
     "text": [
      "Iteration 5 training time: 17.2661 seconds\n",
      "Total boosting training time: 76.2478 seconds\n"
     ]
    }
   ],
   "source": [
    "# Set boosting parameters\n",
    "num_iterations = 6         # Number of boosting iterations\n",
    "learning_rate = 0.01         # Learning rate (shrinkage factor)\n",
    "models_boost = []           # List to store each boosting model\n",
    "training_times = []         # List to record training time per iteration\n",
    "\n",
    "print(\"Starting boosting training...\")\n",
    "\n",
    "for i in range(num_iterations):\n",
    "    # Compute the residual: residual = label - current prediction f\n",
    "    boosted_train = boosted_train.withColumn(\"residual\", col(\"label\") - col(\"f\"))\n",
    "    \n",
    "    # Train a simple linear regression model to fit the residuals\n",
    "    lr = LinearRegression(regParam=0.01,featuresCol=\"features\", labelCol=\"residual\")\n",
    "    start_time = time.time()\n",
    "    model = lr.fit(boosted_train)\n",
    "    iter_time = time.time() - start_time\n",
    "    training_times.append(iter_time)\n",
    "    models_boost.append(model)\n",
    "    print(f\"Iteration {i} training time: {iter_time:.4f} seconds\")\n",
    "    \n",
    "    # Obtain the model's prediction (delta) on the training set\n",
    "    preds = model.transform(boosted_train).select(\"id\", col(\"prediction\").alias(\"delta\"))\n",
    "    \n",
    "    # Update the prediction column \"f\": new f = old f + learning_rate * delta\n",
    "    boosted_train = boosted_train.join(preds, on=\"id\") \\\n",
    "                                 .withColumn(\"f\", col(\"f\") + lit(learning_rate) * col(\"delta\")) \\\n",
    "                                 .drop(\"delta\", \"residual\")\n",
    "\n",
    "total_training_time = sum(training_times)\n",
    "print(f\"Total boosting training time: {total_training_time:.4f} seconds\")\n"
   ]
  },
  {
   "cell_type": "code",
   "execution_count": 11,
   "metadata": {
    "tags": []
   },
   "outputs": [],
   "source": [
    "from pyspark.sql.functions import monotonically_increasing_id\n",
    "\n",
    "# Initialize test predictions with the same constant f0 computed from training\n",
    "boosted_test = test_data.withColumn(\"f\", lit(f0))\n",
    "\n",
    "# Iteratively update the test predictions with each boosting model\n",
    "for model in models_boost:\n",
    "    preds = model.transform(boosted_test).select(\"id\", col(\"prediction\").alias(\"delta\"))\n",
    "    boosted_test = boosted_test.join(preds, on=\"id\") \\\n",
    "                               .withColumn(\"f\", col(\"f\") + lit(learning_rate) * col(\"delta\")) \\\n",
    "                               .drop(\"delta\")"
   ]
  },
  {
   "cell_type": "code",
   "execution_count": 12,
   "metadata": {
    "tags": []
   },
   "outputs": [
    {
     "name": "stderr",
     "output_type": "stream",
     "text": [
      "[Stage 282:>                                                        (0 + 1) / 1]\r"
     ]
    },
    {
     "name": "stdout",
     "output_type": "stream",
     "text": [
      "----- Evaluation Metrics for Boosting on Linear Models -----\n",
      "RMSE: 6459.8812\n",
      "MAE:  5182.0805\n",
      "R²:   0.1132\n",
      "Total boosting training time: 76.2478 seconds\n"
     ]
    },
    {
     "name": "stderr",
     "output_type": "stream",
     "text": [
      "                                                                                \r"
     ]
    }
   ],
   "source": [
    "from pyspark.ml.evaluation import RegressionEvaluator\n",
    "\n",
    "# Define evaluators for RMSE, MAE, and R² based on boosted prediction in column \"f\"\n",
    "evaluator_rmse = RegressionEvaluator(labelCol=\"label\", predictionCol=\"f\", metricName=\"rmse\")\n",
    "evaluator_mae = RegressionEvaluator(labelCol=\"label\", predictionCol=\"f\", metricName=\"mae\")\n",
    "evaluator_r2  = RegressionEvaluator(labelCol=\"label\", predictionCol=\"f\", metricName=\"r2\")\n",
    "\n",
    "# Evaluate the metrics on the test set's boosted predictions\n",
    "rmse = evaluator_rmse.evaluate(boosted_test)\n",
    "mae = evaluator_mae.evaluate(boosted_test)\n",
    "r2 = evaluator_r2.evaluate(boosted_test)\n",
    "\n",
    "# Print the evaluation results and total boosting training time\n",
    "print(\"----- Evaluation Metrics for Boosting on Linear Models -----\")\n",
    "print(f\"RMSE: {rmse:.4f}\")\n",
    "print(f\"MAE:  {mae:.4f}\")\n",
    "print(f\"R²:   {r2:.4f}\")\n",
    "print(f\"Total boosting training time: {total_training_time:.4f} seconds\")\n"
   ]
  },
  {
   "cell_type": "markdown",
   "metadata": {},
   "source": [
    "### Linear Models Comparison \n",
    "  \n",
    "Finally, we will plot the results of all of the models we tried, then see and compare their performance."
   ]
  },
  {
   "cell_type": "code",
   "execution_count": 3,
   "metadata": {
    "tags": []
   },
   "outputs": [
    {
     "data": {
      "image/png": "[encoded data removed]",
      "text/plain": [
       "<Figure size 1200x600 with 2 Axes>"
      ]
     },
     "metadata": {},
     "output_type": "display_data"
    }
   ],
   "source": [
    "\n",
    "models = ['Vanilla LR', 'Ridge', 'Lasso', 'ElasticNet',\n",
    "          'Poly LR', 'Poly + Ridge', 'Bagging', 'Boosting']\n",
    "\n",
    "rmse = [280.7658, 280.8556, 293.5459, 293.4881,\n",
    "        247.8984, 247.2876, 247.2926, 6459.8812]\n",
    "\n",
    "r2 = [0.9983, 0.9983, 0.9982, 0.9982,\n",
    "      0.9987, 0.9987, 0.9987, 0.1132]\n",
    "\n",
    "fig, ax1 = plt.subplots(figsize=(12, 6))\n",
    "\n",
    "bar_color = 'tab:blue'\n",
    "bars = ax1.bar(models, rmse, color=bar_color, alpha=0.7, label=\"RMSE\")\n",
    "ax1.set_xlabel(\"Model\")\n",
    "ax1.set_ylabel(\"RMSE\", color=bar_color)\n",
    "ax1.tick_params(axis='y', labelcolor=bar_color)\n",
    "ax1.set_title(\"Model Performance Comparison: RMSE and R²\")\n",
    "\n",
    "for bar in bars:\n",
    "    height = bar.get_height()\n",
    "    ax1.annotate(f'{height:.2f}', \n",
    "                 xy=(bar.get_x() + bar.get_width() / 2, height),\n",
    "                 xytext=(0, 5),\n",
    "                 textcoords=\"offset points\",\n",
    "                 ha='center', va='bottom', color=bar_color)\n",
    "\n",
    "ax2 = ax1.twinx()\n",
    "line_color = 'tab:red'\n",
    "ax2.plot(models, r2, color=line_color, marker='o', linewidth=2, label=\"R²\")\n",
    "ax2.set_ylabel(\"R²\", color=line_color)\n",
    "ax2.tick_params(axis='y', labelcolor=line_color)\n",
    "\n",
    "for i, value in enumerate(r2):\n",
    "    ax2.annotate(f'{value:.4f}',\n",
    "                 xy=(i, value),\n",
    "                 xytext=(0, -15),\n",
    "                 textcoords=\"offset points\",\n",
    "                 ha='center', va='top', color=line_color)\n",
    "\n",
    "plt.tight_layout()\n",
    "plt.show()\n"
   ]
  },
  {
   "cell_type": "code",
   "execution_count": 4,
   "metadata": {
    "tags": []
   },
   "outputs": [
    {
     "data": {
      "image/png": "[encoded data removed]",
      "text/plain": [
       "<Figure size 1200x600 with 2 Axes>"
      ]
     },
     "metadata": {},
     "output_type": "display_data"
    }
   ],
   "source": [
    "import matplotlib.pyplot as plt\n",
    "\n",
    "models = ['Vanilla LR', 'Ridge', 'Lasso', 'ElasticNet',\n",
    "          'Poly LR', 'Poly + Ridge', 'Bagging']\n",
    "\n",
    "rmse = [280.7658, 280.8556, 293.5459, 293.4881,\n",
    "        247.8984, 247.2876, 247.2926]\n",
    "\n",
    "r2 = [0.9983, 0.9983, 0.9982, 0.9982,\n",
    "      0.9987, 0.9987, 0.9987]\n",
    "\n",
    "fig, ax1 = plt.subplots(figsize=(12, 6))\n",
    "\n",
    "bar_color = 'tab:blue'\n",
    "bars = ax1.bar(models, rmse, color=bar_color, alpha=0.7, label=\"RMSE\")\n",
    "ax1.set_xlabel(\"Model\")\n",
    "ax1.set_ylabel(\"RMSE\", color=bar_color)\n",
    "ax1.tick_params(axis='y', labelcolor=bar_color)\n",
    "ax1.set_title(\"Model Performance Comparison: RMSE and R²\")\n",
    "\n",
    "for bar in bars:\n",
    "    height = bar.get_height()\n",
    "    ax1.annotate(f'{height:.2f}', \n",
    "                 xy=(bar.get_x() + bar.get_width() / 2, height),\n",
    "                 xytext=(0, 5), \n",
    "                 textcoords=\"offset points\",\n",
    "                 ha='center', va='bottom', color=bar_color)\n",
    "\n",
    "ax2 = ax1.twinx()\n",
    "line_color = 'tab:red'\n",
    "ax2.plot(models, r2, color=line_color, marker='o', linewidth=2, label=\"R²\")\n",
    "ax2.set_ylabel(\"R²\", color=line_color)\n",
    "ax2.tick_params(axis='y', labelcolor=line_color)\n",
    "\n",
    "for i, value in enumerate(r2):\n",
    "    ax2.annotate(f'{value:.4f}',\n",
    "                 xy=(i, value),\n",
    "                 xytext=(0, -15),\n",
    "                 textcoords=\"offset points\",\n",
    "                 ha='center', va='top', color=line_color)\n",
    "\n",
    "plt.tight_layout()\n",
    "plt.show()"
   ]
  },
  {
   "cell_type": "markdown",
   "metadata": {},
   "source": [
    "#### Final Conclusions\n",
    "  \n",
    "**Best Overall Performance:**\n",
    "- The combination of linear regression with polynomial feature expansion (with or without ridge regularization) showed as the best-performing approach, reducing the RMSE by over 30 points compared to the vanilla model. This confirms that while the relationship is largely linear, allowing for higher-order interactions significantly enhances prediction accuracy.\n",
    "  \n",
    "**Regularization Effects:**\n",
    "- While regularization is often employed to mitigate overfitting, our results show that the vanilla linear regression model outperformed both the mildly regularized Ridge model and the more aggressive Lasso and ElasticNet models, suggesting that the baseline model was already optimally calibrated and that adding regularization introduced unnecessary bias.\n",
    "  \n",
    "**Ensemble Methods:**\n",
    "  \n",
    "- Bagging: Offers a viable alternative by slightly improving or matching the performance of polynomial-enhanced models, but at the cost of increased training time.\n",
    "  \n",
    "- Boosting: Did not perform well under the conditions tested, suggesting that the boosting strategy for linear models may require additional tuning or a different base learner for this specific task.\n",
    "\n",
    "**Overall Implication:**\n",
    "\n",
    "The key takeaway is that our dataset exhibits strong linear correlations, making linear regression a highly effective modeling choice. However, performance was further enhanced by incorporating polynomial feature expansion and bagging, both of which achieved the highest accuracy. Among them, polynomial feature expansion proved to be the most effective overall, offering the best trade-off between predictive performance, computational efficiency, and implementation cost. It allowed us to capture subtle nonlinear interactions while preserving model simplicity and interpretability."
   ]
  },
  {
   "cell_type": "code",
   "execution_count": null,
   "metadata": {},
   "outputs": [],
   "source": []
  }
 ],
 "metadata": {
  "kernelspec": {
   "display_name": "Python 3",
   "language": "python",
   "name": "python3"
  },
  "language_info": {
   "codemirror_mode": {
    "name": "ipython",
    "version": 3
   },
   "file_extension": ".py",
   "mimetype": "text/x-python",
   "name": "python",
   "nbconvert_exporter": "python",
   "pygments_lexer": "ipython3",
   "version": "3.11.8"
  }
 },
 "nbformat": 4,
 "nbformat_minor": 4
}
